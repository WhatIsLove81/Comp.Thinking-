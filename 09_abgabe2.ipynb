{
 "cells": [
  {
   "attachments": {},
   "cell_type": "markdown",
   "metadata": {},
   "source": [
    "# Computational Thinking WS2023/24 - Abgabe\n",
    "**Autoren:** \n",
    "+ Dr. Benedikt Zönnchen\n",
    "+ Prof. Martin Hobelsberger\n",
    "+ Prof. Martin Orehek\n",
    "+ Prof. Benedikt Dietrich"
   ]
  },
  {
   "attachments": {},
   "cell_type": "markdown",
   "metadata": {},
   "source": [
    "**Anmerkungen:**\n",
    "\n",
    "In diesem Notebook werden wir uns Stück für Stück einen Kontext erbauen, um mit Daten besser und bequemer umgehen zu können.\n",
    "Dabei verzichten wir auf Pakete wie\n",
    "\n",
    "+ ``numpy``\n",
    "+ ``pandas``\n",
    "\n",
    "und starten stattdessen von Neuem. Für den letzten Teil dieses Notebooks müssen aber beide Pakete installiert sein."
   ]
  },
  {
   "cell_type": "markdown",
   "metadata": {},
   "source": [
    "### CSV-Dateien\n",
    "\n",
    "Ein gängiges Format, um Daten zu speichern sind sogenannte CSV-Dateien, wobei CSV für *Comma-Separated Values* steht. In diesen Dateien enthält typischerweise die erste Zeile die Namen der Spalten, durch Kommas getrennt. Alle weiteren Zeilen enthalten die Daten, wiederum jeweils durch Kommas getrennt. Ein Beispiel einer Datei, in welcher Namen, Matrikelnummer, die erzielten Punkte und Noten von Studierenden abgespeichert werden, könnte wie folgt aussehen:\n",
    "\n",
    "``` \n",
    "Matrikelnummer,Name,Vorname,Punkte,Note\n",
    "12345678,Müller,Hans,79,2.3\n",
    "44445555,Musterfrau,Maria,99,1.0\n",
    "...\n",
    "```\n",
    "\n",
    "Der Name der ersten Spalte lautet in diesem Beispiel `Matrikelnummer`, der Name der zweiten Spalte `Name`, usw.. \n",
    "Der Student Hans Müller mit der Matrikelnummer 12345678 hat 79 Punkte erzielt, was der Note 2.3 entspricht.\n",
    "\n",
    "In den folgenden Aufgaben wollen wir unsere eigene Datenstruktur konstruieren, welche eine CSV-Datei repräsentieren soll. Diese Datenstruktur ``data`` ist ein Dictionary, welches lauter Listen enthält.\n",
    "Jede Liste repräsentiert eine Spalte der CSV-Datei.\n",
    "Die ``keys`` des Dictionarys repräsentieren den Spaltennamen.\n",
    "\n",
    "Die Aufgaben bauen teilweise aufeinander auf.\n",
    "Es ist insbesondere wichtig, dass Sie **Aufgabe 1**, **Aufgabe 2** und **Aufgabe 3** zuerst lösen, da Sie damit die angesprochene Datenstruktur erzeugen."
   ]
  },
  {
   "cell_type": "code",
   "execution_count": 1,
   "metadata": {},
   "outputs": [],
   "source": [
    "import otter\n",
    "import csv\n",
    "\n",
    "grader = otter.Notebook('09_abgabe2.ipynb')\n",
    "\n",
    "path_to_csv_file = './data/test-data.csv'"
   ]
  },
  {
   "cell_type": "markdown",
   "metadata": {},
   "source": [
    "Folgender Code gibt die ersten ``n`` Zeilen der CSV-Datei ``./data/test-data.csv`` aus.\n",
    "Dabei verwenden wir aus dem Standardpaket ``csv`` die Funktion ``reader``, welche einen neuen sog. Handle erzeugt, mithilfe dem wir durch die CSV-Datei *iterieren* können."
   ]
  },
  {
   "cell_type": "markdown",
   "metadata": {},
   "source": [
    "***Hinweis:*** Debuggen Sie, bevor sie weitermachen, unbedingt folgenden Code Zeile für Zeile und stellen Sie sicher, dass sie verstehen, welche Werte welche Variable bei den einzelnen Durchläufen annehmen. "
   ]
  },
  {
   "cell_type": "code",
   "execution_count": 2,
   "metadata": {},
   "outputs": [
    {
     "name": "stdout",
     "output_type": "stream",
     "text": [
      "Zeile 1: \n",
      "x\n",
      "y\n",
      "name\n",
      "price\n",
      "\n",
      "Zeile 2: \n",
      "1.0\n",
      "2.0\n",
      "Toster\n",
      "5\n",
      "\n",
      "Zeile 3: \n",
      "2.3\n",
      "21\n",
      "Auto\n",
      "9\n",
      "\n"
     ]
    }
   ],
   "source": [
    "n = 5\n",
    "with open(path_to_csv_file, newline='') as csvfile:\n",
    "    handle = csv.reader(csvfile, delimiter=',')\n",
    "    count = 1\n",
    "    for row in handle:\n",
    "        if count >= n:\n",
    "            break\n",
    "        row_as_string = ''\n",
    "        print(f\"Zeile {count}: \")\n",
    "        for col in row:\n",
    "            print(col)\n",
    "        print(\"\")\n",
    "        count += 1\n"
   ]
  },
  {
   "cell_type": "markdown",
   "metadata": {
    "deletable": false,
    "editable": false
   },
   "source": [
    "***\n",
    "***Aufgabe 1 (Lesen einer Spalte).***\n",
    "\n",
    "Schreiben Sie eine Funktion ``read_column(name, path_to_csv_file)``, welche Ihnen die Werte der Spalte mit dem Namen (Header) ``name`` als Liste zurückliefert.\n",
    "``path_to_csv_file`` ist der Dateipfad zur jeweiligen CSV-Datei.\n",
    "\n",
    "Angenommen die CSV-Datei sähe wie folgt aus:\n",
    "\n",
    "```\n",
    "x,y,name,price\n",
    "1.0,2.0,Toster,5\n",
    "2.3,21,Auto,9\n",
    "```\n",
    "\n",
    "dann sollte \n",
    "\n",
    "```python\n",
    "read_column('y', './data/test-data.csv')\n",
    "```\n",
    "\n",
    "folgendes zurückliefern:\n",
    "\n",
    "```python\n",
    "['2.0', '21']\n",
    "```\n",
    "\n",
    "Gehen Sie bei Ihrer Lösung wie folgt vor:\n",
    "\n",
    "1. Überlegen Sie sich als erstes, wie sie herausfinden können, welche die gesuchte Spalte ist. \n",
    "1. Schreiben Sie eine Funktion `read_column(name, path_to_csv_file)`, welche den Index der Spalte mit dem Namen `name` ermittelt und ausgibt. Für einen Aufruf `read_column('y', './data/test-data.csv')` sollte die Funktion also `1`, für `read_column('y', './data/test-data.csv')` die `3` ausgeben.\n",
    "1. Erweitern Sie nun den Code, sodass Daten der gesuchten Spalte ausgegeben werden, also z.B. `'2.0'` und `'21'` wenn die Funktion mit `read_column('y', './data/test-data.csv')` aufgerufen wird.\n",
    "1. Erweitern Sie nun Ihren Code und erzeugen zu Beginn der Funktion eine leere Liste `data`. Fügen Sie alle Daten aus der gesuchten Spalte zur Liste hinzu. Die Funktion soll `data` zurückliefern.\n",
    "1. Erweitern Sie Ihre Funktion nun noch um eine Fehlerbehandlung: Sollte der gesuchte Namen nicht Teil der Daten sein, soll eine Liste zurückgegeben werden.\n",
    "\n",
    "**Hinweis 1:** Beachten Sie, dass die eingelesenen Daten alle Strings zurückgeliefert werden. Wir werden uns diesem Problem weiter unten annehmen.\n",
    "\n",
    "**Hinweis 2:** Bedenken Sie, dass die erste Zeile, welche Sie einlesen, sich von allen anderen Zeilen unterscheidet, da es sich um die Namen der Spalten handelt!"
   ]
  },
  {
   "cell_type": "code",
   "execution_count": 19,
   "metadata": {
    "tags": []
   },
   "outputs": [
    {
     "name": "stdout",
     "output_type": "stream",
     "text": [
      "['2.0', '21']\n",
      "['5', '9']\n"
     ]
    }
   ],
   "source": [
    "def read_column(name, path_to_csv_file):\n",
    "    data = []\n",
    "    with open(path_to_csv_file, newline='') as csvfile:\n",
    "        handle = csv.reader(csvfile, delimiter=',')\n",
    "        for col in handle:\n",
    "            if handle.line_num == 1:\n",
    "                try:\n",
    "                    col_index = col.index(name)\n",
    "                except:\n",
    "                    print(\"Keine Spalte mit dem Namen vorhanden.\")\n",
    "                    break\n",
    "            else:\n",
    "                data.append(col[col_index])\n",
    "        return data\n",
    "    \n",
    "    \n",
    "print(read_column('y', path_to_csv_file))\n",
    "print(read_column('price', path_to_csv_file))"
   ]
  },
  {
   "cell_type": "code",
   "execution_count": 20,
   "metadata": {
    "deletable": false,
    "editable": false
   },
   "outputs": [
    {
     "name": "stdout",
     "output_type": "stream",
     "text": [
      "Keine Spalte mit dem Namen vorhanden.\n"
     ]
    },
    {
     "data": {
      "text/html": [
       "<p><strong><pre style='display: inline;'>q1</pre></strong> passed! 🚀</p><p><strong><pre style='display: inline;'>q1 - 1</pre> message:</strong> Das sieht gut aus.</p>"
      ],
      "text/plain": [
       "q1 results: All test cases passed!\n",
       "q1 - 1 message: Das sieht gut aus."
      ]
     },
     "execution_count": 20,
     "metadata": {},
     "output_type": "execute_result"
    }
   ],
   "source": [
    "grader.check(\"q1\")"
   ]
  },
  {
   "cell_type": "markdown",
   "metadata": {},
   "source": [
    "### Einschub - Funktionen als Referenz\n",
    "\n",
    "In Python ist es möglich, einer Funktion eine Funktion als Parameter zu übergeben. Hier ein kleiner Beispielcode:"
   ]
  },
  {
   "cell_type": "code",
   "execution_count": 21,
   "metadata": {},
   "outputs": [
    {
     "name": "stdout",
     "output_type": "stream",
     "text": [
      "result1=6\n",
      "result2=5\n"
     ]
    }
   ],
   "source": [
    "def multiply(a, b):\n",
    "    return a * b\n",
    "\n",
    "def add(a, b):\n",
    "    return a + b\n",
    "\n",
    "def do_math(function_name, operand1, operand2):\n",
    "    result = function_name(operand1, operand2)\n",
    "    return result\n",
    "\n",
    "result1 = do_math(multiply, 2, 3)\n",
    "result2 = do_math(add, 2, 3)\n",
    "\n",
    "print(f\"{result1=}\")\n",
    "print(f\"{result2=}\")"
   ]
  },
  {
   "cell_type": "markdown",
   "metadata": {
    "deletable": false,
    "editable": false
   },
   "source": [
    "***\n",
    "***Aufgabe 2 (Erweiterung mit Parser).***\n",
    "\n",
    "Mit der Möglichkeit Funktionen als Parameter zu übergeben erreicht man, dass eine Funktion eine Funktion unserer Wahl aufruft. Das ist für unseren Spaltenleser `read_colum` besonders praktisch, da man so Daten direkt beim Einlesen vorverarbeiten kann.\n",
    "\n",
    "In der folgenden Aufgabe sollen Sie die oben definierte Funktion `read_column` noch um den optionalen Parameter `parser` erweitern. Übergibt man für ``parser`` eine Funktion, soll diese Funktion für alle Daten der Spalte angewendet werden.\n",
    "\n",
    "***Beispiel 1:***\n",
    "\n",
    "Der Code \n",
    "\n",
    "```python\n",
    "    def to_int(value):\n",
    "        return int(value)\n",
    "\n",
    "    read_column(['price'], './data/test-data.csv', to_int)\n",
    "```\n",
    "\n",
    "soll folgendes zurückliefern:\n",
    "\n",
    "```python\n",
    "    [5, 9]\n",
    "```\n",
    "\n",
    "***Beispiel 2:***\n",
    "\n",
    "Der Code \n",
    "\n",
    "```python\n",
    "    def multiply_by_two(value):\n",
    "        return int(value) * 2 # Achtung: Beachten Sie die Konvertierung in int!\n",
    "\n",
    "    read_column(['price'], './data/test-data.csv', multiply_by_two)\n",
    "```\n",
    "\n",
    "soll folgendes zurückliefern:\n",
    "\n",
    "```python\n",
    "    [10, 18]\n",
    "```\n",
    "\n",
    "***Beispiel 3:***\n",
    "\n",
    "Wird `read_column` nur mit zwei Parametern aufgerufen, soll `parser` den Default-Wert `None` haben. In diesem Fall soll der Wert der Spalte unverändert zurückgegeben werden.\n",
    "\n",
    "Der Aufruf\n",
    "\n",
    "```python\n",
    "    read_column(['price'], './data/test-data.csv')\n",
    "```\n",
    "\n",
    "soll also folgendes zurückliefern:\n",
    "\n",
    "```python\n",
    "    ['5', '9']\n",
    "```"
   ]
  },
  {
   "cell_type": "code",
   "execution_count": 85,
   "metadata": {
    "tags": []
   },
   "outputs": [
    {
     "data": {
      "text/plain": [
       "['2.0', '21']"
      ]
     },
     "execution_count": 85,
     "metadata": {},
     "output_type": "execute_result"
    }
   ],
   "source": [
    "# def to_int(value):\n",
    "#     try:\n",
    "#         return int(value)\n",
    "#     except:\n",
    "#         print(\"Kein Int\")\n",
    "#         return value\n",
    "\n",
    "\n",
    "def read_column(name, path_to_csv_file, parser=None):\n",
    "    data = []\n",
    "    with open(path_to_csv_file, newline='') as csvfile:\n",
    "        handle = csv.reader(csvfile, delimiter=',')\n",
    "        for col in handle:\n",
    "            if handle.line_num == 1:\n",
    "                try:\n",
    "                    col_index = col.index(name)\n",
    "                except:\n",
    "                    print(\"Keine Spalte mit dem Namen vorhanden.\")\n",
    "                    break\n",
    "            else:\n",
    "                if parser != None:\n",
    "                    data.append(parser(col[col_index]))\n",
    "                else:\n",
    "                    data.append(col[col_index])\n",
    "        return data\n",
    "\n",
    "read_column('y', './data/test-data.csv')"
   ]
  },
  {
   "cell_type": "markdown",
   "metadata": {
    "deletable": false,
    "editable": false
   },
   "source": [
    "***Aufgabe 3 (Erzeugen eines Dictionaries aus der CSV-Datei).*** \n",
    "\n",
    "Schreiben Sie eine Funktion ``read(names, path_to_csv_file, parsers=None)``, welche Ihnen die Spalten, definiert in ``names``, in ein Dictionary steckt.\n",
    "Dabei sollen die ``keys`` des Dictionarys aus den Namen ``names`` bestehen und die ``values`` des Dictionarys aus den Spalten (als Listen) bestehen.\n",
    "Die Funktion soll das konstruierte Dictionary zurückliefern.\n",
    "\n",
    "Mit Hilfe des Parameters `parsers` soll eine Liste an `parser` übergeben werden können.\n",
    "Gibt es für den ``i``-ten Namen einen Parser ``parsers[i]``, d.h. entspricht der Wert von `parsers[i]` nicht `None`, so sollte jeder Wert ``value`` der entsprechenden Spalte durch den Wert ``parser[i](value)`` ersetzt werden.\n",
    "\n",
    "\n",
    "***Beispiele***\n",
    "\n",
    "Für folgende CSV-Datei\n",
    "\n",
    "```\n",
    "x,y,name,price\n",
    "1.0,2.0,Toster,5\n",
    "2.3,21,Auto,9\n",
    "```\n",
    "\n",
    "ergibt\n",
    "\n",
    "```python\n",
    "data = read(['y', 'x'], path_to_csv_file)\n",
    "print(data)\n",
    "```\n",
    "\n",
    "folgende Ausgabe\n",
    "\n",
    "```python\n",
    "{'y': ['2.0','21'], 'x': ['1.0','2.3']}\n",
    "```\n",
    "\n",
    "und\n",
    "\n",
    "```python\n",
    "\n",
    "def multiply_by_two(x):\n",
    "    return 2*x\n",
    "\n",
    "data = read(['price', 'x'], path_to_csv_file, [multiply_by_two, None])\n",
    "print(data)\n",
    "```\n",
    "\n",
    "führt zu folgender Ausgabe\n",
    "\n",
    "```python\n",
    "{'price': [10.0,18.0], 'x': [1.0,2.3]}\n",
    "```\n",
    "\n",
    "**Tipp 1:** Sie können (müssen aber nicht) Ihre Funktion ``read_column`` verwenden.\n",
    "\n",
    "**Tipp 2:** Setzen Sie die Funktion erst Mal ohne `parsers` um. Wenn das normale Einlesen der Spalten in das Dictionary funktioniert, erweitern Sie Ihren Code um die Funktionalität `parsers`."
   ]
  },
  {
   "cell_type": "code",
   "execution_count": 51,
   "metadata": {
    "tags": []
   },
   "outputs": [
    {
     "name": "stdout",
     "output_type": "stream",
     "text": [
      "{'y': ['2.0', '21'], 'x': ['1.0', '2.3']}\n",
      "{'price': [10, 18], 'x': ['1.0', '2.3']}\n"
     ]
    }
   ],
   "source": [
    "def read(names, path_to_csv_file, parsers=None):\n",
    "    data_dict = {}\n",
    "    \n",
    "    for element in names:\n",
    "        try:\n",
    "            pars_func = parsers[names.index(element)]\n",
    "            #print(pars_func)\n",
    "        except:\n",
    "            pars_func = None\n",
    "\n",
    "        data_dict[element] = read_column(element, path_to_csv_file, pars_func)\n",
    "        \n",
    "    return data_dict\n",
    "\n",
    "\n",
    "\n",
    "def multiply_by_two(x):\n",
    "    return 2*int(x)\n",
    "\n",
    "data = read(['y', 'x'], path_to_csv_file)\n",
    "print(data)\n",
    "\n",
    "table = read(['price', 'x'], path_to_csv_file, [multiply_by_two, None])\n",
    "print(table)"
   ]
  },
  {
   "cell_type": "code",
   "execution_count": 52,
   "metadata": {
    "deletable": false,
    "editable": false
   },
   "outputs": [
    {
     "data": {
      "text/html": [
       "<p><strong><pre style='display: inline;'>q3</pre></strong> passed! 💯</p><p><strong><pre style='display: inline;'>q3 - 1</pre> message:</strong> Das sieht gut aus.</p>"
      ],
      "text/plain": [
       "q3 results: All test cases passed!\n",
       "q3 - 1 message: Das sieht gut aus."
      ]
     },
     "execution_count": 52,
     "metadata": {},
     "output_type": "execute_result"
    }
   ],
   "source": [
    "grader.check(\"q3\")"
   ]
  },
  {
   "cell_type": "markdown",
   "metadata": {},
   "source": [
    "Wir können eine CSV-Datei nun bequem in eine Python-Datenstruktur einlesen.\n",
    "Diese Datenstruktur bezeichnen wir von nun an als ``data``."
   ]
  },
  {
   "cell_type": "markdown",
   "metadata": {
    "deletable": false,
    "editable": false
   },
   "source": [
    "***Aufgabe 4 (Anzahl der Zeilen).*** \n",
    "\n",
    "Schreiben Sie eine Funktion ``len_data(data)``, welche die Anzahl der Zeilen von ``data`` zurückliefert.\n",
    "\n",
    "Der Code \n",
    "\n",
    "```python\n",
    "print(len_data(read(['y'], './data/test-data.csv')))\n",
    "```\n",
    "\n",
    "sollte beispielsweise \n",
    "\n",
    "``2`` \n",
    "\n",
    "zurückliefern. \n",
    "\n",
    "Existiert der key nicht, oder ist die Liste leer, soll die Funktion ``0`` zurückliefern."
   ]
  },
  {
   "cell_type": "code",
   "execution_count": 72,
   "metadata": {
    "tags": []
   },
   "outputs": [
    {
     "name": "stdout",
     "output_type": "stream",
     "text": [
      "2\n",
      "0\n"
     ]
    }
   ],
   "source": [
    "def len_data(data):\n",
    "    try:\n",
    "        for element in data:\n",
    "            if len(data[element]) != 0:\n",
    "                return len(data[element])\n",
    "    except:\n",
    "        return 0\n",
    "    return 0\n",
    "\n",
    "o = {}\n",
    "print(len_data(read(['y'], path_to_csv_file)))\n",
    "print(len_data(o))"
   ]
  },
  {
   "cell_type": "code",
   "execution_count": 71,
   "metadata": {
    "deletable": false,
    "editable": false
   },
   "outputs": [
    {
     "data": {
      "text/html": [
       "<p><strong><pre style='display: inline;'>q4</pre></strong> passed! 🍀</p><p><strong><pre style='display: inline;'>q4 - 1</pre> message:</strong> Das sieht gut aus.</p>"
      ],
      "text/plain": [
       "q4 results: All test cases passed!\n",
       "q4 - 1 message: Das sieht gut aus."
      ]
     },
     "execution_count": 71,
     "metadata": {},
     "output_type": "execute_result"
    }
   ],
   "source": [
    "grader.check(\"q4\")"
   ]
  },
  {
   "cell_type": "markdown",
   "metadata": {
    "deletable": false,
    "editable": false
   },
   "source": [
    "***Aufgabe 5 (Spaltennamen).*** \n",
    "\n",
    "Schreiben Sie eine Funktion ``get_names(data)``, welche eine Liste mit allen Spaltennamen unserer Datenstruktur ``data`` zurückliefert.\n",
    "\n",
    "Beispielsweise sollte:\n",
    "\n",
    "```python\n",
    "get_names({'x': [1,2], 'name': ['Anna', 'Klaus']})\n",
    "```\n",
    "\n",
    "``['x', 'name']`` oder ``['name', 'x']`` ausgeben."
   ]
  },
  {
   "cell_type": "code",
   "execution_count": 75,
   "metadata": {
    "tags": []
   },
   "outputs": [
    {
     "data": {
      "text/plain": [
       "['y', 'price']"
      ]
     },
     "execution_count": 75,
     "metadata": {},
     "output_type": "execute_result"
    }
   ],
   "source": [
    "def get_names(data):\n",
    "    namelist = []\n",
    "    for element in data:\n",
    "        namelist.append(element)\n",
    "    return namelist\n",
    "\n",
    "get_names(read(['y', 'price'], path_to_csv_file))"
   ]
  },
  {
   "cell_type": "code",
   "execution_count": 76,
   "metadata": {
    "deletable": false,
    "editable": false
   },
   "outputs": [
    {
     "data": {
      "text/html": [
       "<p><strong><pre style='display: inline;'>q5</pre></strong> passed! 🍀</p><p><strong><pre style='display: inline;'>q5 - 1</pre> message:</strong> Das sieht gut aus.</p>"
      ],
      "text/plain": [
       "q5 results: All test cases passed!\n",
       "q5 - 1 message: Das sieht gut aus."
      ]
     },
     "execution_count": 76,
     "metadata": {},
     "output_type": "execute_result"
    }
   ],
   "source": [
    "grader.check(\"q5\")"
   ]
  },
  {
   "cell_type": "markdown",
   "metadata": {
    "deletable": false,
    "editable": false
   },
   "source": [
    "***Aufgabe 6 (Zeilen auswählen).*** \n",
    "\n",
    "Schreiben Sie eine Funktion ``get_row(data, i)``, welche ein Dictionary zurückliefert, wobei die ``keys`` die Spaltennamen unserer Datenstruktur ``data`` sind und die ``values`` der ``i``-te Wert der dazugehörenden Spalte ist.\n",
    "\n",
    "Beispielsweise sollte\n",
    "\n",
    "```python\n",
    "my_data = {'x': [1,2,3], \n",
    "           'name': ['Anna', 'Klaus','Nina']\n",
    "           }\n",
    "get_row(my_data, 1)\n",
    "```\n",
    "\n",
    "``{'x': 2, 'name': 'Klaus'}`` ausgeben.\n",
    "\n",
    "Ist ``i`` außerhalb des gültigen Wertebereichs (für das gegebene Beispiel wäre das für `i > 2` der Fall), soll die Funktion ein leeres Dictionary zurückliefern. "
   ]
  },
  {
   "cell_type": "code",
   "execution_count": 83,
   "metadata": {
    "tags": []
   },
   "outputs": [
    {
     "data": {
      "text/plain": [
       "{'x': 2, 'name': 'Klaus'}"
      ]
     },
     "execution_count": 83,
     "metadata": {},
     "output_type": "execute_result"
    }
   ],
   "source": [
    "def get_row(data, i):\n",
    "    rows_dict = {}\n",
    "\n",
    "    for element in data:\n",
    "        try:\n",
    "            rows_dict[element] = data[element][i]\n",
    "        except:\n",
    "            pass\n",
    "\n",
    "    return rows_dict\n",
    "\n",
    "\n",
    "\n",
    "get_row({'x': [1,2,3], 'name': ['Anna', 'Klaus','Nina']}, 1)"
   ]
  },
  {
   "cell_type": "code",
   "execution_count": 82,
   "metadata": {
    "deletable": false,
    "editable": false
   },
   "outputs": [
    {
     "data": {
      "text/html": [
       "<p><strong><pre style='display: inline;'>q6</pre></strong> passed! 🍀</p><p><strong><pre style='display: inline;'>q6 - 1</pre> message:</strong> Das sieht gut aus.</p>"
      ],
      "text/plain": [
       "q6 results: All test cases passed!\n",
       "q6 - 1 message: Das sieht gut aus."
      ]
     },
     "execution_count": 82,
     "metadata": {},
     "output_type": "execute_result"
    }
   ],
   "source": [
    "grader.check(\"q6\")"
   ]
  },
  {
   "cell_type": "markdown",
   "metadata": {
    "deletable": false,
    "editable": false
   },
   "source": [
    "<!-- BEGIN QUESTION -->\n",
    "\n",
    "***\n",
    "***Aufgabe 7 (Zeilen filtern).***\n",
    "\n",
    "Beschreiben Sie welche Auswirkungen folgende Funktion `filter_data()` hat."
   ]
  },
  {
   "cell_type": "code",
   "execution_count": 84,
   "metadata": {
    "deletable": false,
    "editable": false
   },
   "outputs": [
    {
     "data": {
      "text/plain": [
       "{'price': [5, 7], 'name': ['Tasse', 'Block']}"
      ]
     },
     "execution_count": 84,
     "metadata": {},
     "output_type": "execute_result"
    }
   ],
   "source": [
    "def keep_all(x):\n",
    "    return True\n",
    "\n",
    "def price_is_less_than_nine(x):\n",
    "    return True if x['price'] < 9 else False\n",
    "\n",
    "def filter_data(data, predicate = keep_all):\n",
    "    copy = {name: [] for name in get_names(data)}\n",
    "    for i in range(len_data(data)):\n",
    "        row = get_row(data, i)\n",
    "        if predicate(row):\n",
    "            for name in row:\n",
    "                copy[name].append(row[name])\n",
    "    return copy\n",
    "\n",
    "data = {'price': [5, 32, 7, 11], 'name': ['Tasse', 'Stuhl', 'Block', 'Koffer']}\n",
    "filter_data(data, price_is_less_than_nine)"
   ]
  },
  {
   "cell_type": "markdown",
   "metadata": {},
   "source": [
    "________________________________________________________________________________________________________________________________________________________________________\n",
    "Die Funktion \"filter_data\" nimmt als Argumente ein Dictionary entgegen und ein Prädikat, das per default auf \"keep all\" gesetzt ist, was für jeden Input \"True\" zurückliefert.\n",
    "\n",
    "Zuerst wird mit \"copy\" ein neues Dictionary initialisiert, das als keys die keys des input-Dictionarys enthält und als values jeweils eine leere Liste.\n",
    "\n",
    "Dann wird len_data-mal (also so oft, wie viele Zeilen in Data vorhanden sind) folgendes ausgeführt:\n",
    "- der Variable \"row\" wird ein Dictionary zugewiesen, dass die Key-Value-Paare der i-ten Zeile von data enthält\n",
    "- es wird auf row das Prädikat angewandt. Bei dem Aufruf ist das Prädikat \"price_is_less_than_nine\" gesetzt, welches in dem dictionary, das mit \"row\" initialisiert ist überprüft, ob der value unter dem key \"price\" kleiner als 9 ist (Achtung, ohne Garantie, dass an der Stelle ein int oder float hinterlegt ist)\n",
    "- wenn das Präfikat \"True\" zurückgibt (also in dem Fall: Preis kleiner 9), wird durch das dictionary, das mit \"row\" initialisiert ist iteriert und der jeweilige key als key im \"copy\"-dicionary übernommen und die jeweiligen values aus dem \"row\"-dict werden als values in die leeren Listen beim jeweiligen key in copy eingefügt\n",
    "- das \"copy\"-dict wird returned\n",
    "\n",
    "Im Endeffekt werden zeilenweise die Namen und Preise jener Gegenstände aus Data returned, deren Preis unter 9 ist.\n",
    "________________________________________________________________________________________________________________________________________________________________________"
   ]
  },
  {
   "cell_type": "markdown",
   "metadata": {
    "deletable": false,
    "editable": false
   },
   "source": [
    "<!-- END QUESTION -->\n",
    "\n",
    "***Aufgabe 8 (Spalten aggregieren).*** \n",
    "\n",
    "Um Daten zu analysieren wollen wir verschiedene Operationen über Spalten durchführen, welche ausschließlich numerische Werte enthalten.\n",
    "Jede dieser Operationen liefert genau einen numerischen Wert zurück.\n",
    "\n",
    "Schreiben Sie folgende Funktionen:\n",
    "\n",
    "+ ``avg_col(data, col_name)``: gibt den Durchschnittswert der Spalteneinträge mit dem Namen ``name`` zurück\n",
    "+ ``sum_col(data, col_name)``: gibt die Summe aller Spalteneinträge mit dem Namen ``name`` zurück\n",
    "+ ``max_col(data, col_name)``:  gibt den größten Wert der Spalteneinträge mit dem Namen ``name`` zurück\n",
    "+ ``min_col(data, col_name)``:  gibt den kleinsten Wert der Spalteneinträge mit dem Namen ``name`` zurück\n",
    "\n",
    "**Empfehlung:** Verzichten Sie bei Ihrer Implementierung auf die Verwendung der ``Python``-Built-in Funktionen ``sum``, ``max``, ``min``. Dadurch lernen Sie bei der Umsetzung der Aufgabe deutlich mehr."
   ]
  },
  {
   "cell_type": "code",
   "execution_count": 97,
   "metadata": {
    "tags": []
   },
   "outputs": [
    {
     "name": "stdout",
     "output_type": "stream",
     "text": [
      "55\n",
      "13.75\n",
      "32\n",
      "5\n"
     ]
    }
   ],
   "source": [
    "def avg_col(data, col_name):\n",
    "    sum = 0\n",
    "    length = len(data[col_name])\n",
    "    for element in data[col_name]:\n",
    "        try:\n",
    "            sum += int(element)\n",
    "        except:\n",
    "            print(f\"Wert {element} nicht numerisch.\")\n",
    "            length -=1\n",
    "            continue\n",
    "    return sum/length\n",
    "\n",
    "\n",
    "def sum_col(data, col_name):\n",
    "    sum = 0\n",
    "    for element in data[col_name]:\n",
    "        try:\n",
    "            sum += int(element)\n",
    "        except:\n",
    "            print(f\"Wert {element} nicht numerisch.\")\n",
    "            continue\n",
    "    return sum\n",
    "\n",
    "\n",
    "def max_col(data, col_name):\n",
    "    max_element = 0\n",
    "    for element in data[col_name]:\n",
    "        try:\n",
    "            int_val = int(element)\n",
    "            if int_val > max_element:\n",
    "                max_element = int_val \n",
    "        except:\n",
    "            print(f\"Wert {element} nicht numerisch.\")\n",
    "            continue\n",
    "    return max_element\n",
    "\n",
    "\n",
    "def min_col(data, col_name):\n",
    "    min_element = int(data[col_name][0])\n",
    "    for element in data[col_name]:\n",
    "        try:\n",
    "            int_val = int(element)\n",
    "            if int_val < min_element:\n",
    "                min_element = int_val \n",
    "        except:\n",
    "            print(f\"Wert {element} nicht numerisch.\")\n",
    "            continue\n",
    "    return min_element\n",
    "\n",
    "\n",
    "data = {'price': [5, 32, 7, 11], 'name': ['Tasse', 'Stuhl', 'Block', 'Koffer']}\n",
    "print(sum_col(data, 'price'))\n",
    "print(avg_col(data, 'price'))\n",
    "print(max_col(data, 'price'))\n",
    "print(min_col(data, 'price'))"
   ]
  },
  {
   "cell_type": "code",
   "execution_count": 98,
   "metadata": {
    "deletable": false,
    "editable": false
   },
   "outputs": [
    {
     "data": {
      "text/html": [
       "<p><strong><pre style='display: inline;'>q8</pre></strong> passed! ✨</p><p><strong><pre style='display: inline;'>q8 - 1</pre> message:</strong> Das sieht gut aus.</p><p><strong><pre style='display: inline;'>q8 - 2</pre> message:</strong> Das sieht gut aus.</p><p><strong><pre style='display: inline;'>q8 - 3</pre> message:</strong> Das sieht gut aus.</p><p><strong><pre style='display: inline;'>q8 - 4</pre> message:</strong> Das sieht gut aus.</p>"
      ],
      "text/plain": [
       "q8 results: All test cases passed!\n",
       "q8 - 1 message: Das sieht gut aus.\n",
       "q8 - 2 message: Das sieht gut aus.\n",
       "q8 - 3 message: Das sieht gut aus.\n",
       "q8 - 4 message: Das sieht gut aus."
      ]
     },
     "execution_count": 98,
     "metadata": {},
     "output_type": "execute_result"
    }
   ],
   "source": [
    "grader.check(\"q8\")"
   ]
  },
  {
   "cell_type": "markdown",
   "metadata": {
    "deletable": false,
    "editable": false
   },
   "source": [
    "***Aufgabe 9 (Datenverarbeitung)***.\n",
    "\n",
    "Nun wollen wir die geschriebenen Funktionen nutzen, um einen einfachen Datensatz zu verarbeiten. Gegeben ist ein von ChatGPT erzeugter Datensatz `./data/exam_results.csv`. Dieser beinhaltet Name, ID und erreichte Punkte von Studierenden in einer Prüfung. \n",
    "\n",
    "Werten Sie die Daten mit Hilfe der geschriebenen Funktionen wie folgt aus:\n",
    "\n",
    "1. Bestimmen Sie die durchschnittlich erreichte Punktezahl und geben diese aus.\n",
    "1. Bestimmen Sie die minimal erreichte Punktezahl und geben diese aus.\n",
    "1. Bestimmen Sie die maximal erreichte Punktezahl und geben diese aus.\n",
    "1. Berechnen Sie für alle Student:innen die Note. Schreiben Sie hierfür eine Funktion `points_to_grade(points)`, welche folgendes Bewertungsschema umsetzt und für eine (!) übergebene Punktezahl die zugehörige Note zurückliefert:\n",
    "\n",
    "    | von einschließlich | bis einschließlich | Note |\n",
    "    |--------------------|--------------------|------|\n",
    "    | 0                  | 49                 | 5.0  |\n",
    "    | 50                 | 62                 | 4.0  |\n",
    "    | 63                 | 75                 | 3.0  |\n",
    "    | 76                 | 89                 | 2.0  |\n",
    "    | 90                 | 100                | 1.0  |\n",
    "\n",
    "\n",
    "\n",
    "1. Ermitteln Sie die Durchschnittsnote der Prüfung.\n",
    "1. Ermitteln Sie die Häufigkeit jeder einzelnen Noten, d.h. wie oft gab es eine 1.0, wie oft eine 2.0, usw.\n",
    "\n",
    "Das Ergebnis Ihrer Auswertesoftware könnte z.B. wie folgt aussehen:\n",
    "\n",
    "```\n",
    "Die durchschnittlich erreichte Punktezahl beträgt: 81.05\n",
    "Die minimal erreichte Punktezahl beträgt: 59\n",
    "Die maximal erreichte Punktezahl beträgt: 100\n",
    "\n",
    "Die durchschnittlich erreichte Note beträgt: 2.10\n",
    "\n",
    "Häufigkeiten der einzelnen Noten:\n",
    "1.0: 21\n",
    "2.0: 30\n",
    "3.0: 23\n",
    "4.0: 3\n",
    "5.0: 0\n",
    "```"
   ]
  },
  {
   "cell_type": "code",
   "execution_count": 156,
   "metadata": {
    "tags": []
   },
   "outputs": [
    {
     "name": "stdout",
     "output_type": "stream",
     "text": [
      "Die durchschnittliche Punktezahl: 81.05194805194805\n",
      "Die minimal erreichte Punktezahl: 59\n",
      "Die maximal erreichte Punktezahl: 100\n",
      "Die durchschnittliche Note: 2.103896103896104\n",
      "Die durchschnittliche Note: 2.103896103896104\n",
      "1.0: 21\n",
      "2.0: 30\n",
      "3.0: 23\n",
      "4.0: 3\n",
      "5.0: 0\n"
     ]
    }
   ],
   "source": [
    "def point_statistics(path, col_name='Points'):\n",
    "    print(\"Die durchschnittliche Punktezahl:\", avg_col(read([col_name], path), col_name))\n",
    "    print(\"Die minimal erreichte Punktezahl:\", min_col(read([col_name], path), col_name))\n",
    "    print(\"Die maximal erreichte Punktezahl:\", max_col(read([col_name], path), col_name))\n",
    "\n",
    "def points_to_grade(points):\n",
    "    try:\n",
    "        x = int(points)\n",
    "    except:\n",
    "        print(f\"{points} ist keine valide Punktzahl.\")\n",
    "        return\n",
    "    if x <= 49:\n",
    "        return 5.0\n",
    "    elif x <= 62:\n",
    "        return 4.0\n",
    "    elif x <= 75:\n",
    "        return 3.0\n",
    "    elif x <= 89:\n",
    "        return 2.0\n",
    "    elif x<=100:\n",
    "        return 1.0\n",
    "\n",
    "\n",
    "def avg_grade(path, col_name='Points'):\n",
    "    grades = {}\n",
    "    grades['Grades'] = read_column(col_name, path, points_to_grade)\n",
    "    print(\"Die durchschnittliche Note:\", avg_col(grades, 'Grades'))\n",
    "    return grades\n",
    "\n",
    "\n",
    "def grade_statistics(data, col_name = 'Grades'):\n",
    "    grade_stats = {}\n",
    "    for n in range (1, 6):\n",
    "        count = 0\n",
    "        for element in data[col_name]:\n",
    "            if int(element) == n:\n",
    "                count += 1\n",
    "        grade_stats[float(n)] = count\n",
    "    \n",
    "    for element in grade_stats:\n",
    "        print(f\"{element}: {grade_stats[element]}\")\n",
    "\n",
    "\n",
    "\n",
    "    \n",
    "\n",
    "point_statistics('./data/exam_results.csv')\n",
    "points_to_grade(76)\n",
    "avg_grade('./data/exam_results.csv')\n",
    "grade_statistics(avg_grade('./data/exam_results.csv'), 'Grades')"
   ]
  },
  {
   "cell_type": "markdown",
   "metadata": {},
   "source": [
    "## Bonusaufgabe\n",
    "\n",
    "Die Bearbeitung folgender Aufgabe ist freiwillig gedacht. Für eine erfolgreiche Abgabe ist die Lösung dieser Aufgabe nicht notwendig."
   ]
  },
  {
   "cell_type": "markdown",
   "metadata": {},
   "source": [
    "### Einschub - Lambdas\n",
    "\n",
    "In den bisherigen Aufgaben haben wir Funktionen als Parameter übergeben. Hierfür haben wir zunächst eine eigene Funktion definiert und dann den Namen der Funktion als Parameter z.B. an `read_column` übergeben. \n",
    "\n",
    "Eine deutlich kürzere Schreibweise, um Funktionen als Parameter zu übergeben sind sog. Lambdas. Lambdas sind kleine anonyme Funktionen, d.h. Sie haben keinen Funktionsnamen. Die Syntax lautet dabei wie folgt: \n",
    "\n",
    "```python\n",
    "lambda arguments: expression\n",
    "```\n",
    "\n",
    "Hier ein einfaches Beispiel, wie Lambdas verwendet werden können:"
   ]
  },
  {
   "cell_type": "code",
   "execution_count": 157,
   "metadata": {},
   "outputs": [
    {
     "name": "stdout",
     "output_type": "stream",
     "text": [
      "5\n",
      "5\n"
     ]
    }
   ],
   "source": [
    "def add(x, y):\n",
    "    return x + y\n",
    "\n",
    "def do_math(function, x, y):\n",
    "    return function(x, y)\n",
    "\n",
    "# Mit Hilfe der Funktion\n",
    "result_function = add(2, 3)\n",
    "\n",
    "# Mit Hilfe einer Lambda-Funktion\n",
    "result_lambda = do_math(lambda x, y: x + y, 2, 3)\n",
    "\n",
    "print(result_function)\n",
    "print(result_lambda)"
   ]
  },
  {
   "cell_type": "markdown",
   "metadata": {
    "deletable": false,
    "editable": false
   },
   "source": [
    "***Aufgabe 10 (Datenvisualisierung).*** \n",
    "\n",
    "Mithilfe unserer bisher implementierten Funktionen sind wir in der Lage erste Analysen eines Datensatzes durchzuführen. \n",
    "\n",
    "Der Datensatz ``./data/GlobalTemperature.csv`` enthält Informationen über die globale Temperaturentwicklung von 1750 bis 2015.\n",
    "Öffnen Sie den Datensatz (z.B. mit Excel oder einem Texteditor) und sehen Sie sich dessen Struktur an.\n",
    "Wir möchten daraus einen Graphen/Plot erzeugen , der uns die mittlere (Land)-Temperatur pro Jahr darstellt.\n",
    "D.h. auf der $x$-Achse sollen die Jahre angetragen werden und auf der $y$-Achse die mittlere Temperatur in jenem Jahr.\n",
    "Diese Informationen stehen in der Spalte ``LandAverageTemperature`` (Temperaturwerte allerdings pro Monat) und ``dt`` (allerdings Datum mit Tag, Monat und Jahr).\n",
    "\n",
    "Wir wollen diese Informationen in unserer Datenstruktur (Dictionary aus Listen) abspeichern, sodass wir diese weiter verarbeiten können.\n",
    "Schreiben Sie hierfür eine Funktion ``compute_global_mean_temperature(data)`` die Ihnen folgendes Dictionary zurückliefert:\n",
    "\n",
    "```python\n",
    "data_temperature = {'Year': [1750, 1751, ..., 2015], 'Mean Temperature': [...]}\n",
    "```\n",
    "\n",
    "dabei beinhalte ist ``data_temperature['Mean Temperature']`` eine Liste aus ``float`` und beinhaltet die mittleren Jahrestemperaturen.\n",
    "``data_temperature['Year']`` ist hingegen eine Liste aus ``int`` und beinhaltet die dazu passenden Jahre.\n",
    "\n",
    "Sie können davon ausgehen, dass der Datensatz für jedes Jahr mindestens einen Wert enthält.\n",
    "\n",
    "Der darauffolgende Code, welcher einen Plot erzeugt, sollte, nachdem Sie die Funktione implementiert haben, funktionieren.\n",
    "\n",
    "**Hinweise:** Es gibt Monate in denen kein Wert eingetragen ist, diese filtern wir bereits im folgenden Code. \n",
    "Außerdem wandeln wir bereits das Datum in der Form ``'1781-10-01'`` in eine ganze Zahl ``1781`` um. Dies müssen Sie nicht mehr machen.\n",
    "Ganz am Ende des Notebooks plotten wir den Graphen mit ``Pandas``.\n",
    "Hier sehen Sie wie der Plot aussehen sollte."
   ]
  },
  {
   "cell_type": "code",
   "execution_count": 186,
   "metadata": {
    "tags": []
   },
   "outputs": [],
   "source": [
    "data = read(['dt', 'LandAverageTemperature'], './data/GlobalTemperatures.csv', [\n",
    "    lambda date: int(date.split('-')[0]),\n",
    "    lambda temperature: float(temperature) if temperature != '' else 'NaN'])\n",
    "\n",
    "# filter rows without values\n",
    "data = filter_data(data, lambda row: type(row['LandAverageTemperature']) == float)\n",
    "#print(data)"
   ]
  },
  {
   "cell_type": "code",
   "execution_count": 187,
   "metadata": {
    "tags": []
   },
   "outputs": [
    {
     "data": {
      "text/plain": [
       "{'Year': [1750,\n",
       "  1751,\n",
       "  1752,\n",
       "  1753,\n",
       "  1754,\n",
       "  1755,\n",
       "  1756,\n",
       "  1757,\n",
       "  1758,\n",
       "  1759,\n",
       "  1760,\n",
       "  1761,\n",
       "  1762,\n",
       "  1763,\n",
       "  1764,\n",
       "  1765,\n",
       "  1766,\n",
       "  1767,\n",
       "  1768,\n",
       "  1769,\n",
       "  1770,\n",
       "  1771,\n",
       "  1772,\n",
       "  1773,\n",
       "  1774,\n",
       "  1775,\n",
       "  1776,\n",
       "  1777,\n",
       "  1778,\n",
       "  1779,\n",
       "  1780,\n",
       "  1781,\n",
       "  1782,\n",
       "  1783,\n",
       "  1784,\n",
       "  1785,\n",
       "  1786,\n",
       "  1787,\n",
       "  1788,\n",
       "  1789,\n",
       "  1790,\n",
       "  1791,\n",
       "  1792,\n",
       "  1793,\n",
       "  1794,\n",
       "  1795,\n",
       "  1796,\n",
       "  1797,\n",
       "  1798,\n",
       "  1799,\n",
       "  1800,\n",
       "  1801,\n",
       "  1802,\n",
       "  1803,\n",
       "  1804,\n",
       "  1805,\n",
       "  1806,\n",
       "  1807,\n",
       "  1808,\n",
       "  1809,\n",
       "  1810,\n",
       "  1811,\n",
       "  1812,\n",
       "  1813,\n",
       "  1814,\n",
       "  1815,\n",
       "  1816,\n",
       "  1817,\n",
       "  1818,\n",
       "  1819,\n",
       "  1820,\n",
       "  1821,\n",
       "  1822,\n",
       "  1823,\n",
       "  1824,\n",
       "  1825,\n",
       "  1826,\n",
       "  1827,\n",
       "  1828,\n",
       "  1829,\n",
       "  1830,\n",
       "  1831,\n",
       "  1832,\n",
       "  1833,\n",
       "  1834,\n",
       "  1835,\n",
       "  1836,\n",
       "  1837,\n",
       "  1838,\n",
       "  1839,\n",
       "  1840,\n",
       "  1841,\n",
       "  1842,\n",
       "  1843,\n",
       "  1844,\n",
       "  1845,\n",
       "  1846,\n",
       "  1847,\n",
       "  1848,\n",
       "  1849,\n",
       "  1850,\n",
       "  1851,\n",
       "  1852,\n",
       "  1853,\n",
       "  1854,\n",
       "  1855,\n",
       "  1856,\n",
       "  1857,\n",
       "  1858,\n",
       "  1859,\n",
       "  1860,\n",
       "  1861,\n",
       "  1862,\n",
       "  1863,\n",
       "  1864,\n",
       "  1865,\n",
       "  1866,\n",
       "  1867,\n",
       "  1868,\n",
       "  1869,\n",
       "  1870,\n",
       "  1871,\n",
       "  1872,\n",
       "  1873,\n",
       "  1874,\n",
       "  1875,\n",
       "  1876,\n",
       "  1877,\n",
       "  1878,\n",
       "  1879,\n",
       "  1880,\n",
       "  1881,\n",
       "  1882,\n",
       "  1883,\n",
       "  1884,\n",
       "  1885,\n",
       "  1886,\n",
       "  1887,\n",
       "  1888,\n",
       "  1889,\n",
       "  1890,\n",
       "  1891,\n",
       "  1892,\n",
       "  1893,\n",
       "  1894,\n",
       "  1895,\n",
       "  1896,\n",
       "  1897,\n",
       "  1898,\n",
       "  1899,\n",
       "  1900,\n",
       "  1901,\n",
       "  1902,\n",
       "  1903,\n",
       "  1904,\n",
       "  1905,\n",
       "  1906,\n",
       "  1907,\n",
       "  1908,\n",
       "  1909,\n",
       "  1910,\n",
       "  1911,\n",
       "  1912,\n",
       "  1913,\n",
       "  1914,\n",
       "  1915,\n",
       "  1916,\n",
       "  1917,\n",
       "  1918,\n",
       "  1919,\n",
       "  1920,\n",
       "  1921,\n",
       "  1922,\n",
       "  1923,\n",
       "  1924,\n",
       "  1925,\n",
       "  1926,\n",
       "  1927,\n",
       "  1928,\n",
       "  1929,\n",
       "  1930,\n",
       "  1931,\n",
       "  1932,\n",
       "  1933,\n",
       "  1934,\n",
       "  1935,\n",
       "  1936,\n",
       "  1937,\n",
       "  1938,\n",
       "  1939,\n",
       "  1940,\n",
       "  1941,\n",
       "  1942,\n",
       "  1943,\n",
       "  1944,\n",
       "  1945,\n",
       "  1946,\n",
       "  1947,\n",
       "  1948,\n",
       "  1949,\n",
       "  1950,\n",
       "  1951,\n",
       "  1952,\n",
       "  1953,\n",
       "  1954,\n",
       "  1955,\n",
       "  1956,\n",
       "  1957,\n",
       "  1958,\n",
       "  1959,\n",
       "  1960,\n",
       "  1961,\n",
       "  1962,\n",
       "  1963,\n",
       "  1964,\n",
       "  1965,\n",
       "  1966,\n",
       "  1967,\n",
       "  1968,\n",
       "  1969,\n",
       "  1970,\n",
       "  1971,\n",
       "  1972,\n",
       "  1973,\n",
       "  1974,\n",
       "  1975,\n",
       "  1976,\n",
       "  1977,\n",
       "  1978,\n",
       "  1979,\n",
       "  1980,\n",
       "  1981,\n",
       "  1982,\n",
       "  1983,\n",
       "  1984,\n",
       "  1985,\n",
       "  1986,\n",
       "  1987,\n",
       "  1988,\n",
       "  1989,\n",
       "  1990,\n",
       "  1991,\n",
       "  1992,\n",
       "  1993,\n",
       "  1994,\n",
       "  1995,\n",
       "  1996,\n",
       "  1997,\n",
       "  1998,\n",
       "  1999,\n",
       "  2000,\n",
       "  2001,\n",
       "  2002,\n",
       "  2003,\n",
       "  2004,\n",
       "  2005,\n",
       "  2006,\n",
       "  2007,\n",
       "  2008,\n",
       "  2009,\n",
       "  2010,\n",
       "  2011,\n",
       "  2012,\n",
       "  2013,\n",
       "  2014,\n",
       "  2015],\n",
       " 'Mean Temperature': [8.719363636363639,\n",
       "  7.9761428571428565,\n",
       "  5.7798333333333325,\n",
       "  8.388083333333332,\n",
       "  8.469333333333335,\n",
       "  8.355583333333334,\n",
       "  8.849583333333333,\n",
       "  9.022,\n",
       "  6.7435833333333335,\n",
       "  7.985083333333333,\n",
       "  7.185166666666667,\n",
       "  8.772499999999999,\n",
       "  8.606500000000002,\n",
       "  7.496749999999999,\n",
       "  8.400333333333332,\n",
       "  8.251916666666666,\n",
       "  8.405666666666667,\n",
       "  8.2215,\n",
       "  6.781333333333333,\n",
       "  7.694583333333334,\n",
       "  7.691916666666667,\n",
       "  7.8531666666666675,\n",
       "  8.1935,\n",
       "  8.2215,\n",
       "  8.772166666666665,\n",
       "  9.183083333333334,\n",
       "  8.304,\n",
       "  8.25625,\n",
       "  8.54225,\n",
       "  8.98325,\n",
       "  9.432916666666667,\n",
       "  8.102583333333332,\n",
       "  7.901249999999998,\n",
       "  7.680833333333333,\n",
       "  7.862000000000001,\n",
       "  7.3629999999999995,\n",
       "  8.258166666666666,\n",
       "  8.031833333333333,\n",
       "  8.447166666666668,\n",
       "  8.334166666666667,\n",
       "  7.982333333333333,\n",
       "  8.23425,\n",
       "  8.089,\n",
       "  8.229166666666666,\n",
       "  8.526000000000002,\n",
       "  8.350333333333333,\n",
       "  8.270999999999999,\n",
       "  8.510583333333335,\n",
       "  8.670250000000001,\n",
       "  8.505749999999999,\n",
       "  8.484250000000001,\n",
       "  8.589666666666668,\n",
       "  8.578166666666666,\n",
       "  8.503,\n",
       "  8.844833333333334,\n",
       "  8.56275,\n",
       "  8.434083333333334,\n",
       "  8.281416666666665,\n",
       "  7.626833333333333,\n",
       "  7.076416666666667,\n",
       "  6.922666666666667,\n",
       "  6.859500000000001,\n",
       "  7.046250000000001,\n",
       "  7.7399166666666686,\n",
       "  7.59175,\n",
       "  7.239333333333334,\n",
       "  6.9375,\n",
       "  6.975666666666668,\n",
       "  7.828916666666667,\n",
       "  7.3691666666666675,\n",
       "  7.616249999999998,\n",
       "  8.090083333333332,\n",
       "  8.188333333333334,\n",
       "  7.718666666666665,\n",
       "  8.547166666666667,\n",
       "  8.389333333333333,\n",
       "  8.356583333333335,\n",
       "  8.80875,\n",
       "  8.165333333333335,\n",
       "  7.941833333333332,\n",
       "  8.51675,\n",
       "  7.639166666666667,\n",
       "  7.450166666666667,\n",
       "  8.013000000000002,\n",
       "  8.14675,\n",
       "  7.392499999999999,\n",
       "  7.695833333333333,\n",
       "  7.3756666666666675,\n",
       "  7.514916666666665,\n",
       "  7.632249999999999,\n",
       "  7.796250000000001,\n",
       "  7.688166666666667,\n",
       "  8.02275,\n",
       "  8.173666666666668,\n",
       "  7.646333333333334,\n",
       "  7.851166666666668,\n",
       "  8.55275,\n",
       "  8.086,\n",
       "  7.979500000000001,\n",
       "  7.984416666666667,\n",
       "  7.900666666666666,\n",
       "  8.178583333333332,\n",
       "  8.100166666666667,\n",
       "  8.041833333333333,\n",
       "  8.2105,\n",
       "  8.110749999999998,\n",
       "  7.995916666666666,\n",
       "  7.758166666666668,\n",
       "  8.10025,\n",
       "  8.252,\n",
       "  7.960833333333333,\n",
       "  7.846500000000002,\n",
       "  7.558583333333334,\n",
       "  8.111833333333333,\n",
       "  7.983583333333335,\n",
       "  8.177833333333334,\n",
       "  8.292166666666665,\n",
       "  8.436333333333334,\n",
       "  8.247916666666667,\n",
       "  8.432083333333333,\n",
       "  8.201333333333332,\n",
       "  8.115083333333333,\n",
       "  8.193833333333332,\n",
       "  8.351083333333333,\n",
       "  8.4335,\n",
       "  7.859583333333334,\n",
       "  8.080083333333333,\n",
       "  8.539583333333333,\n",
       "  8.82975,\n",
       "  8.165833333333333,\n",
       "  8.118749999999999,\n",
       "  8.270916666666666,\n",
       "  8.128916666666667,\n",
       "  7.976916666666667,\n",
       "  7.773666666666668,\n",
       "  7.919666666666668,\n",
       "  7.954499999999999,\n",
       "  7.914916666666667,\n",
       "  8.0905,\n",
       "  8.318999999999999,\n",
       "  7.971666666666667,\n",
       "  8.019333333333334,\n",
       "  8.065833333333332,\n",
       "  8.05675,\n",
       "  8.161,\n",
       "  8.147,\n",
       "  8.214916666666666,\n",
       "  8.293333333333335,\n",
       "  8.177999999999999,\n",
       "  8.396333333333333,\n",
       "  8.501583333333333,\n",
       "  8.541916666666665,\n",
       "  8.304416666666667,\n",
       "  8.220166666666668,\n",
       "  8.090916666666667,\n",
       "  8.225166666666665,\n",
       "  8.379083333333332,\n",
       "  7.947166666666667,\n",
       "  8.186083333333334,\n",
       "  8.17825,\n",
       "  8.223,\n",
       "  8.177000000000001,\n",
       "  8.165416666666667,\n",
       "  8.297749999999999,\n",
       "  8.5905,\n",
       "  8.593166666666665,\n",
       "  8.22525,\n",
       "  8.023333333333332,\n",
       "  8.130833333333332,\n",
       "  8.38225,\n",
       "  8.35875,\n",
       "  8.571,\n",
       "  8.408,\n",
       "  8.422166666666666,\n",
       "  8.506833333333335,\n",
       "  8.534416666666667,\n",
       "  8.728833333333332,\n",
       "  8.522083333333333,\n",
       "  8.632166666666668,\n",
       "  8.242416666666665,\n",
       "  8.633583333333332,\n",
       "  8.71925,\n",
       "  8.705250000000001,\n",
       "  8.33825,\n",
       "  8.628333333333332,\n",
       "  8.51575,\n",
       "  8.554,\n",
       "  8.698333333333332,\n",
       "  8.863666666666667,\n",
       "  8.760333333333334,\n",
       "  8.764666666666665,\n",
       "  8.768666666666668,\n",
       "  8.728416666666666,\n",
       "  8.755083333333333,\n",
       "  8.845,\n",
       "  8.584833333333332,\n",
       "  8.676916666666665,\n",
       "  8.797083333333333,\n",
       "  8.74675,\n",
       "  8.58675,\n",
       "  8.365250000000001,\n",
       "  8.625666666666666,\n",
       "  8.638250000000001,\n",
       "  8.873750000000003,\n",
       "  8.560666666666666,\n",
       "  8.62625,\n",
       "  8.279583333333333,\n",
       "  8.7325,\n",
       "  8.773750000000001,\n",
       "  8.732666666666665,\n",
       "  8.58375,\n",
       "  8.797666666666666,\n",
       "  8.745916666666666,\n",
       "  8.856,\n",
       "  8.409666666666666,\n",
       "  8.527416666666667,\n",
       "  8.599333333333332,\n",
       "  8.700083333333334,\n",
       "  8.516333333333334,\n",
       "  8.595083333333333,\n",
       "  8.700916666666666,\n",
       "  8.59925,\n",
       "  8.499583333333334,\n",
       "  8.948249999999998,\n",
       "  8.4675,\n",
       "  8.744833333333334,\n",
       "  8.347249999999999,\n",
       "  8.850249999999999,\n",
       "  8.692749999999998,\n",
       "  8.733416666666665,\n",
       "  8.980333333333332,\n",
       "  9.165833333333333,\n",
       "  8.639166666666666,\n",
       "  9.028166666666667,\n",
       "  8.691833333333335,\n",
       "  8.658,\n",
       "  8.833583333333332,\n",
       "  8.994416666666668,\n",
       "  9.201583333333334,\n",
       "  8.922000000000002,\n",
       "  9.234166666666667,\n",
       "  9.179416666666667,\n",
       "  8.836583333333332,\n",
       "  8.866583333333333,\n",
       "  9.038749999999999,\n",
       "  9.347083333333332,\n",
       "  9.038916666666667,\n",
       "  9.202583333333333,\n",
       "  9.522666666666666,\n",
       "  9.285083333333333,\n",
       "  9.201166666666667,\n",
       "  9.414583333333335,\n",
       "  9.570416666666667,\n",
       "  9.525583333333335,\n",
       "  9.324583333333333,\n",
       "  9.700916666666666,\n",
       "  9.532499999999999,\n",
       "  9.732166666666666,\n",
       "  9.431750000000001,\n",
       "  9.505250000000002,\n",
       "  9.703083333333332,\n",
       "  9.516,\n",
       "  9.507333333333333,\n",
       "  9.6065,\n",
       "  9.570666666666666,\n",
       "  9.830999999999998]}"
      ]
     },
     "execution_count": 187,
     "metadata": {},
     "output_type": "execute_result"
    }
   ],
   "source": [
    "def compute_global_mean_temperature(data):\n",
    "    #'dt', 'LandAverageTemperature'\n",
    "    years = list(set(data['dt']))\n",
    "    temperature_per_year = [0 for n in range(len(years))]\n",
    "    counter = [0 for n in range(len(years))]\n",
    "    for n in range(len(data['dt'])):\n",
    "        row = get_row(data, n)\n",
    "        working_index = years.index(row['dt'])\n",
    "        temperature_per_year[working_index] += row['LandAverageTemperature']\n",
    "        counter[working_index] += 1\n",
    "    \n",
    "    #print(years)\n",
    "    #print(temperature_per_year)\n",
    "    #print(counter)\n",
    "\n",
    "    for element in temperature_per_year:\n",
    "        temperature_per_year[temperature_per_year.index(element)] = element/counter[temperature_per_year.index(element)]\n",
    "\n",
    "    return {'Year': years, 'Mean Temperature': temperature_per_year}\n",
    "\n",
    "compute_global_mean_temperature(data)\n"
   ]
  },
  {
   "cell_type": "code",
   "execution_count": 188,
   "metadata": {
    "tags": []
   },
   "outputs": [
    {
     "data": {
      "text/plain": [
       "Text(0, 0.5, 'Temperatur')"
      ]
     },
     "execution_count": 188,
     "metadata": {},
     "output_type": "execute_result"
    },
    {
     "data": {
      "image/png": "[encoded data removed]",
      "text/plain": [
       "<Figure size 640x480 with 1 Axes>"
      ]
     },
     "metadata": {},
     "output_type": "display_data"
    }
   ],
   "source": [
    "import matplotlib.pyplot as plt\n",
    "import numpy as np\n",
    "\n",
    "data_temperature = compute_global_mean_temperature(data)\n",
    "\n",
    "first_year = min_col(data_temperature, 'Year')\n",
    "mean_first = 1951-first_year\n",
    "mean_last = 1980-first_year\n",
    "corresponding = data_temperature['Mean Temperature'][mean_first:mean_last+1]\n",
    "corresponding_mean = sum(corresponding) / len(corresponding)\n",
    "\n",
    "\n",
    "plt.plot(data_temperature['Year'], np.array(data_temperature['Mean Temperature'])-corresponding_mean)\n",
    "\n",
    "plt.title('Globale mittlere Temperaturabweichung im Vergleich zum Mittel zwischen 1951 und 1980')\n",
    "plt.xlabel('Jahr')\n",
    "plt.ylabel('Temperatur')"
   ]
  },
  {
   "cell_type": "code",
   "execution_count": 189,
   "metadata": {
    "deletable": false,
    "editable": false
   },
   "outputs": [
    {
     "data": {
      "text/html": [
       "<p><strong><pre style='display: inline;'>q10</pre></strong> passed! 🙌</p><p><strong><pre style='display: inline;'>q10 - 1</pre> message:</strong> Das sieht gut aus.</p>"
      ],
      "text/plain": [
       "q10 results: All test cases passed!\n",
       "q10 - 1 message: Das sieht gut aus."
      ]
     },
     "execution_count": 189,
     "metadata": {},
     "output_type": "execute_result"
    }
   ],
   "source": [
    "grader.check(\"q10\")"
   ]
  },
  {
   "cell_type": "markdown",
   "metadata": {},
   "source": [
    "***\n",
    "\n",
    "Im folgenden sehen Sie eine Möglichkeit wie wir die gleiche Darstellung mit ``Pandas`` erzeugen können."
   ]
  },
  {
   "cell_type": "code",
   "execution_count": null,
   "metadata": {},
   "outputs": [],
   "source": [
    "import pandas as pd\n",
    "\n",
    "df = pd.read_csv('./data/GlobalTemperatures.csv')                                        # read data\n",
    "df = df.dropna(subset=['LandAverageTemperature'])                                        # remove rows where there is no data for the temperature\n",
    "df['Year'] = df['dt'].transform(lambda date: int(date.split('-')[0]))                    # add column for the year\n",
    "\n",
    "mean = df[(df['Year'] >= 1750) & (df['Year'] <= 1951)]['LandAverageTemperature'].mean()  # compute the mean between 1750 and 1951\n",
    "\n",
    "df = df.groupby(['Year']).mean()                                                         # compute the yearly mean\n",
    "\n",
    "df['Temperaturabweichung'] = df['LandAverageTemperature'].transform(lambda x: x - mean)  # subtract the mean between 1750 and 1951\n",
    "\n",
    "# plot it\n",
    "df['Temperaturabweichung'].plot(ylabel='Temperatur', xlabel='Jahr', title= 'Globale mittlere Temperaturabweichung im Vergleich zum Mittel zwischen 1951 und 1980')"
   ]
  },
  {
   "cell_type": "code",
   "execution_count": 185,
   "metadata": {},
   "outputs": [
    {
     "data": {
      "text/plain": [
       "<AxesSubplot: title={'center': 'Globale mittlere Temperaturabweichung im Vergleich zum Mittel zwischen 1750 und 1951'}, xlabel='Jahr', ylabel='Temperaturabweichung'>"
      ]
     },
     "execution_count": 185,
     "metadata": {},
     "output_type": "execute_result"
    },
    {
     "data": {
      "image/png": "[encoded data removed]",
      "text/plain": [
       "<Figure size 640x480 with 1 Axes>"
      ]
     },
     "metadata": {},
     "output_type": "display_data"
    }
   ],
   "source": [
    "import pandas as pd\n",
    "\n",
    "df = pd.read_csv('./data/GlobalTemperatures.csv')                                         # read data\n",
    "df = df.dropna(subset=['LandAverageTemperature'])                                         # remove rows where there is no data for the temperature\n",
    "df['dt'] = pd.to_datetime(df['dt'])                                                       # convert the 'dt' column to datetime objects\n",
    "df['Year'] = df['dt'].dt.year                                                             # add column for the year using datetime properties\n",
    "\n",
    "mean = df[(df['Year'] >= 1750) & (df['Year'] <= 1951)]['LandAverageTemperature'].mean()   # compute the mean between 1750 and 1951\n",
    "\n",
    "df = df.groupby(['Year']).mean()                                                          # compute the yearly mean\n",
    "\n",
    "df['Temperaturabweichung'] = df['LandAverageTemperature'] - mean                          # subtract the mean between 1750 and 1951\n",
    "\n",
    "# plot it\n",
    "df['Temperaturabweichung'].plot(ylabel='Temperaturabweichung', xlabel='Jahr', title= 'Globale mittlere Temperaturabweichung im Vergleich zum Mittel zwischen 1750 und 1951')"
   ]
  },
  {
   "cell_type": "markdown",
   "metadata": {
    "deletable": false,
    "editable": false
   },
   "source": [
    "## Abgabe **Please save before exporting!**\n",
    "\n",
    "Dieses Notebook ist eine **Abgabe**! Zur erfolgreichen Abgabe wird erwartet, dass Sie die Aufgabe in Moodle hochgeladen und mit Ihrem Praktikumsleiter durchgesprochen haben. Zum Hochladen in Moodle führen Sie alles von oben nach unten aus, speichern Sie Ihr Notebook und laden Sie die generierte .zip-Datei in Moodle hoch."
   ]
  },
  {
   "cell_type": "code",
   "execution_count": 190,
   "metadata": {
    "deletable": false,
    "editable": false
   },
   "outputs": [
    {
     "data": {
      "text/html": [
       "\n",
       "                    <p>\n",
       "                        Your submission has been exported. Click\n",
       "                        <a href=\"09_abgabe2_2023_12_02T18_29_57_852363.zip\" download=\"09_abgabe2_2023_12_02T18_29_57_852363.zip\" target=\"_blank\">here</a> to download\n",
       "                        the zip file.\n",
       "                    </p>\n",
       "                "
      ],
      "text/plain": [
       "<IPython.core.display.HTML object>"
      ]
     },
     "metadata": {},
     "output_type": "display_data"
    }
   ],
   "source": [
    "# Save your notebook first, then run this cell to export your submission.\n",
    "grader.export(pdf=False)"
   ]
  },
  {
   "cell_type": "markdown",
   "metadata": {},
   "source": [
    " "
   ]
  }
 ],
 "metadata": {
  "interpreter": {
   "hash": "aee8b7b246df8f9039afb4144a1f6fd8d2ca17a180786b69acc140d282b71a49"
  },
  "kernelspec": {
   "display_name": "Python 3.10.8 64-bit",
   "name": "python3"
  },
  "language_info": {
   "codemirror_mode": {
    "name": "ipython",
    "version": 3
   },
   "file_extension": ".py",
   "mimetype": "text/x-python",
   "name": "python",
   "nbconvert_exporter": "python",
   "pygments_lexer": "ipython3",
   "version": "3.10.8"
  },
  "otter": {
   "OK_FORMAT": false,
   "assignment_name": "09_abgabe2",
   "tests": {
    "q1": "from otter.test_files import test_case\n\nOK_FORMAT = False\n\nname = \"q1\"\npoints = 5\n\n@test_case(points=None, hidden=False, \n    success_message=\"Das sieht gut aus.\", \n    failure_message=\"Schlägt für die test-data.csv Datei\")\ndef test_read_column_simple(env):\n    path = './data/test-data.csv'\n    assert env['read_column']('x', path) == ['1.0', '2.3']\n    assert env['read_column']('name', path) == ['Toster', 'Auto']\n    assert env['read_column']('blablub', path) == []\n    \n",
    "q10": "from otter.test_files import test_case\n\nOK_FORMAT = False\n\nname = \"q10\"\npoints = 5\n\n@test_case(points=None, hidden=False, \n    success_message=\"Das sieht gut aus.\", \n    failure_message=\"Da ist was schief gegangen.\")\ndef test_compute_global_mean_temperature_simple(env):\n    test_data = {'dt': [1900, 1900, 1901, 1901], 'LandAverageTemperature': [3.0, 7.0, 5.0, 15.0]}\n    assert env['compute_global_mean_temperature'](test_data) == {'Year': [1900, 1901], 'Mean Temperature': [5.0, 10.0]}\n    \n",
    "q2": "from otter.test_files import test_case\n\nOK_FORMAT = False\n\nname = \"q2\"\npoints = 5\n\n",
    "q3": "from otter.test_files import test_case\n\nOK_FORMAT = False\n\nname = \"q3\"\npoints = 5\n\n@test_case(points=None, hidden=False, \n    success_message=\"Das sieht gut aus.\", \n    failure_message=\"Schlägt für die test-data.csv Datei\")\ndef test_read_simple(env):\n    path = './data/test-data.csv'\n    assert env['read'](['x', 'name'], path) == {'x': ['1.0', '2.3'], 'name': ['Toster', 'Auto']}\n    \n",
    "q4": "from otter.test_files import test_case\n\nOK_FORMAT = False\n\nname = \"q4\"\npoints = 1\n\n@test_case(points=1, hidden=False, \n    success_message=\"Das sieht gut aus.\", \n    failure_message=\"Da ist was schief gegangen.\")\ndef test_len_data_simple(env):\n    assert env['len_data']({'x': [1,2], 'test': ['abc', 'def']}) == 2\n    assert env['len_data']({}) == 0, 'Leeres dict sollte 0 zurückliefern'\n    \n",
    "q5": "from otter.test_files import test_case\n\nOK_FORMAT = False\n\nname = \"q5\"\npoints = 1\n\n@test_case(points=1, hidden=False, \n    success_message=\"Das sieht gut aus.\", \n    failure_message=\"Da ist was schief gegangen.\")\ndef test_get_names(env):\n    assert 'test' in env['get_names']({'x': [1,2], 'test': ['abc', 'def']}) \n    assert 'x' in env['get_names']({'x': [1,2], 'test': ['abc', 'def']})\n    assert 'avg temp' in env['get_names']({'x': [1,2], 'avg temp': [1.2, 3.2], 'test': ['abc', 'def']}) \n    assert len(env['get_names']({})) == 0\n    \n",
    "q6": "from otter.test_files import test_case\n\nOK_FORMAT = False\n\nname = \"q6\"\npoints = 2\n\n@test_case(points=2, hidden=False, \n    success_message=\"Das sieht gut aus.\", \n    failure_message=\"Da ist was schief gegangen.\")\ndef test_get_row(env):\n    assert env['get_row']({'x': [1,2], 'test': ['abc', 'def']}, 0) == {'x': 1, 'test': 'abc'}\n    assert env['get_row']({'x': [1,2], 'test': ['abc', 'def']}, 3) == {}, 'Ein zu großer Index sollte ein leeres dict zurückliefern'\n    assert env['get_row']({}, 3) == {}, 'Leeres dict sollte ein leeres dict zurückliefern'\n    \n",
    "q8": "from otter.test_files import test_case\n\nOK_FORMAT = False\n\nname = \"q8\"\npoints = 4\n\n@test_case(points=1, hidden=False, \n    success_message=\"Das sieht gut aus.\", \n    failure_message=\"Da ist was schief gegangen.\")\ndef test_sum_col(env):\n    assert env['sum_col']({'x': [1,2,3], 'test': ['abc', 'def', 'das']}, 'x') == 6\n    \n@test_case(points=1, hidden=False, \n    success_message=\"Das sieht gut aus.\", \n    failure_message=\"Da ist was schief gegangen.\")\ndef test_avg_col(env):\n    assert env['avg_col']({'x': [1,2,3], 'test': ['abc', 'def', 'das']}, 'x') == 2\n    \n@test_case(points=1, hidden=False, \n    success_message=\"Das sieht gut aus.\", \n    failure_message=\"Da ist was schief gegangen.\")\ndef test_max_col(env):\n    assert env['max_col']({'x': [1,-2,3], 'test': ['abc', 'def', 'das']}, 'x') == 3\n    \n@test_case(points=1, hidden=False, \n    success_message=\"Das sieht gut aus.\", \n    failure_message=\"Da ist was schief gegangen.\")\ndef test_min_col(env):\n    assert env['min_col']({'x': [1,-2,3], 'test': ['abc', 'def', 'das']}, 'x') == -2\n    \n"
   }
  },
  "vscode": {
   "interpreter": {
    "hash": "881d337900756e70a76eada1facb65e60ce30b1cc249c92e2adf60a26cf555a8"
   }
  }
 },
 "nbformat": 4,
 "nbformat_minor": 4
}
