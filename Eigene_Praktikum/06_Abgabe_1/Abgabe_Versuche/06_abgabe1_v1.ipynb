{
 "cells": [
  {
   "cell_type": "code",
   "execution_count": 3,
   "metadata": {
    "deletable": false,
    "editable": false
   },
   "outputs": [
    {
     "ename": "ModuleNotFoundError",
     "evalue": "No module named 'otter'",
     "output_type": "error",
     "traceback": [
      "\u001b[1;31m---------------------------------------------------------------------------\u001b[0m",
      "\u001b[1;31mModuleNotFoundError\u001b[0m                       Traceback (most recent call last)",
      "\u001b[1;32mc:\\Users\\mjgei\\OneDrive\\Dokumente\\1. Privat\\2. Schule, Studium\\HM_Vorlesungen\\Comp. Thinking\\Praktikum\\06_abgabe1.ipynb Zelle 1\u001b[0m line \u001b[0;36m2\n\u001b[0;32m      <a href='vscode-notebook-cell:/c%3A/Users/mjgei/OneDrive/Dokumente/1.%20Privat/2.%20Schule%2C%20Studium/HM_Vorlesungen/Comp.%20Thinking/Praktikum/06_abgabe1.ipynb#W0sZmlsZQ%3D%3D?line=0'>1</a>\u001b[0m \u001b[39m# Initialize Otter\u001b[39;00m\n\u001b[1;32m----> <a href='vscode-notebook-cell:/c%3A/Users/mjgei/OneDrive/Dokumente/1.%20Privat/2.%20Schule%2C%20Studium/HM_Vorlesungen/Comp.%20Thinking/Praktikum/06_abgabe1.ipynb#W0sZmlsZQ%3D%3D?line=1'>2</a>\u001b[0m \u001b[39mimport\u001b[39;00m \u001b[39motter\u001b[39;00m\n\u001b[0;32m      <a href='vscode-notebook-cell:/c%3A/Users/mjgei/OneDrive/Dokumente/1.%20Privat/2.%20Schule%2C%20Studium/HM_Vorlesungen/Comp.%20Thinking/Praktikum/06_abgabe1.ipynb#W0sZmlsZQ%3D%3D?line=2'>3</a>\u001b[0m grader \u001b[39m=\u001b[39m otter\u001b[39m.\u001b[39mNotebook(\u001b[39m\"\u001b[39m\u001b[39m06_abgabe1.ipynb\u001b[39m\u001b[39m\"\u001b[39m)\n",
      "\u001b[1;31mModuleNotFoundError\u001b[0m: No module named 'otter'"
     ]
    }
   ],
   "source": [
    "# Initialize Otter\n",
    "import otter\n",
    "grader = otter.Notebook(\"06_abgabe1.ipynb\")"
   ]
  },
  {
   "cell_type": "markdown",
   "metadata": {},
   "source": [
    "# Computational Thinking WS2023/24\n",
    "**Autoren:** \n",
    "+ Prof. Benedikt Dietrich\n",
    "+ Prof. Martin Hobelsberger\n",
    "+ Prof. Martin Orehek"
   ]
  },
  {
   "cell_type": "markdown",
   "metadata": {},
   "source": [
    "## Divide and Conquer\n",
    "\n",
    "Ein in der Informatik wichtiges Prinzip ist \"*Divide & Conquer*\", d.h. teile und herrsche. \n",
    "Gemeint ist die erfolgreiche Lösung einer komplexen Problemstellung durch die Aufteilung in mehrere kleine, leicht zu lösende Teilprobleme.\n",
    "Die Herausforderung liegt hierbei in der Identifikation der einzelnen Teilprobleme.\n",
    "Dieses Prinzip wollen wir in der Aufgabe *Herr der Rauten* anwenden.\n",
    "Die einzelnen Teilprobleme sind hier noch vorgegeben.\n",
    "In den weiteren Praktikumsaufgaben obliegt die Anwendung des *Divide & Conquer* Prinzips immer stärker Ihnen."
   ]
  },
  {
   "cell_type": "markdown",
   "metadata": {},
   "source": [
    "\n",
    "## 1. Herr der Rauten \n",
    "\n",
    "Im Folgenden sollen Sie ein Programm erstellen, das eine Raute in einer vom Nutzer vorgegebener Größe zeichnet. \n",
    "Die Ausgabe des Programms soll wie folgt aussehen:\n",
    "\n",
    "```text \n",
    "Bitte geben Sie die gewünschte Rautengröße (3-10) ein: 1\n",
    "\n",
    "Ihre Raute:\n",
    "\n",
    "    **\n",
    "   *  *\n",
    "  *    *\n",
    " *      *\n",
    "*        *\n",
    "*        *\n",
    " *      *\n",
    "  *    *\n",
    "   *  *\n",
    "    **\n",
    "``` \n",
    "\n",
    "Hierzu werden Sie Schritt für Schritt den notwendigen Algorithmus nach dem Prinzip *Divide & Conquer* herleiten.\n",
    "\n",
    "Für unsere Raute bedeutet dies konkret, dass wir nicht versuchen sofort die komplette  Raute auszugeben, sondern zunächst einmal nur die notwendigen Leerzeichen auszugeben und dann die obere Hälfte der Raute generieren. Von dieser Lösung aus erweitern wir dann unser Programm, um auch die untere Hälfte der Raute auszugeben. "
   ]
  },
  {
   "cell_type": "markdown",
   "metadata": {
    "deletable": false,
    "editable": false
   },
   "source": [
    "\n",
    "### 1.1 Nutzereingabe abfragen\n",
    "\n",
    "Schreiben Sie eine Funktion `getRautenGroesse()`, welche den Nutzer um die Eingabe der Rautengröße bittet. Der eingegebene Wert soll zwischen 3 und einschließlich 10 liegen. Ist dies nicht der Fall, soll die Funktion den Nutzer darauf hinweisen und erneut um eine Eingabe bitten bis ein Wert zwischen 3 und 10 eingegeben wurde.\n",
    "\n",
    "Eine Beispielausgabe der Funktion könnte so aussehen:\n",
    "\n",
    "```text\n",
    "    Bitte geben Sie die gewünschte Rautengröße (3-10) ein: 1\n",
    "    Fehler: Der eingegebene Wert muss zwischen 3 und einschließlich 10 liegen.\n",
    "    Bitte geben Sie die gewünschte Rautengröße (3-10) ein: 100\n",
    "    Fehler: Der eingegebene Wert muss zwischen 3 und einschließlich 10 liegen.\n",
    "    Bitte geben Sie die gewünschte Rautengröße (3-10) ein: 4\n",
    "    Sie haben eine Rautengröße von 4 gewählt.\n",
    "```\n"
   ]
  },
  {
   "cell_type": "code",
   "execution_count": 4,
   "metadata": {
    "tags": []
   },
   "outputs": [
    {
     "name": "stdout",
     "output_type": "stream",
     "text": [
      "Sie haben eine Rautengröße von 4 gewählt.\n"
     ]
    }
   ],
   "source": [
    "\n",
    "def getRautenGroesse():\n",
    "    wahl_groesse = None \n",
    "\n",
    "    while wahl_groesse is None or not (3 <= wahl_groesse <= 10):\n",
    "        try:\n",
    "            wahl_groesse = int(input('Bitte geben Sie die gewünschte Rautengröße (3-10)ein: '))\n",
    "            if 3 <= wahl_groesse <= 10 :\n",
    "                print(f'Sie haben eine Rautengröße von {wahl_groesse} gewählt.')\n",
    "                break\n",
    "            else:\n",
    "                print(f'Fehler: Der eigegebene Wert({wahl_groesse}) muss zwischen 3 und einschließlich 10 liegen.')\n",
    "        except ValueError:\n",
    "\n",
    "            print(f'Fehler: Der eingegebene Wert muss eine ganze Zahl sein die zwischen 3 und einschließlich 10 liegt.')\n",
    "\n",
    "getRautenGroesse()\n"
   ]
  },
  {
   "cell_type": "markdown",
   "metadata": {},
   "source": [
    "***"
   ]
  },
  {
   "cell_type": "markdown",
   "metadata": {
    "deletable": false,
    "editable": false
   },
   "source": [
    "### 1.2 Analyse des Problems\n",
    "\n",
    "Eine Raute besteht aus einer bestimmten Anzahl an Zeilen. Jede Zeile besteht aus einer bestimmten Menge an führenden Leerzeichen, einem Stern, einer bestimmten Anzahl an mittleren Leerzeichen, einem weiteren Stern und einem Zeilenumbruch.\n",
    "\n",
    "Zeichnen Sie den oberen (!) Teil einer Raute einer beliebigen Größe zwischen 3 und 10 auf ein Karo-Papier. Füllen Sie dann für Ihre Raute die folgende Tabelle aus:\n",
    "\n",
    "\n",
    "| Zeile | Führende Leerzeichen | Mittlere Leerzeichen | \n",
    "|-------|----------------------|----------------------|\n",
    "|   1   | ?                    |                      |\n",
    "|   2   | ?                    |                      |\n",
    "|   ... | ?                    |                      |\n",
    "\n",
    "Leiten Sie nun aus der Tabelle ab, wie die Anzahl an Zeilen, die Anzahl an führenden Leerzeichen und die Anzahl an mittleren Leerzeichen von der Rautengröße abhängt. \n",
    "\n",
    "**Wichtig:** Fokussieren Sie hier erst mal nur auf die obere Hälfte der Raute!"
   ]
  },
  {
   "cell_type": "markdown",
   "metadata": {},
   "source": [
    "***"
   ]
  },
  {
   "cell_type": "markdown",
   "metadata": {
    "deletable": false,
    "editable": false
   },
   "source": [
    "### 1.3 Leerzeichen ausgeben\n",
    "\n",
    "Schreiben Sie zunächst eine Funktion `printSpaces()`, welcher die gewünschte Anzahl an auszugebenden Leerzeichen übergeben wird. Die Funktion soll dann die entsprechende Zahl an Leerzeichen ausgeben, aber ohne Zeilenumbruch!\n",
    "\n",
    "*Hinweis:* Um nur ein Leerzeichen ohne Zeilenumbruch auszugeben können Sie folgende Syntax verwenden:\n",
    "\n",
    "```python\n",
    "    print(\" \", end=\"\")\n",
    "```"
   ]
  },
  {
   "cell_type": "code",
   "execution_count": 5,
   "metadata": {
    "tags": []
   },
   "outputs": [
    {
     "name": "stdout",
     "output_type": "stream",
     "text": [
      "    "
     ]
    }
   ],
   "source": [
    "def printSpace(anzahl_spaces):\n",
    "    print(\" \" * anzahl_spaces, end=\"\")\n",
    "\n",
    "printSpace(4)   "
   ]
  },
  {
   "cell_type": "markdown",
   "metadata": {},
   "source": [
    "***"
   ]
  },
  {
   "cell_type": "markdown",
   "metadata": {
    "deletable": false,
    "editable": false
   },
   "source": [
    "### 1.4 Den oberen Teil der Raute zeichnen\n",
    "\n",
    "Schreiben Sie nun eine Funktion `printRauteObereHaelfte()`, welcher die gewünschte Größe der Raute übergeben wird. Die Funktion soll dann in einer `for`-Schleife Zeile für Zeile der Raute ausgeben. Berechnen Sie hierfür in der `for`-Schleife in Abhängigkeit der aktuellen Zeilenzahl die Variablen `fuehrendeLeerzeichen` und `mittlereLeerzeichen`. Nutzen Sie dann die Funktion `printSpace()` und `print(*)` um die gewünschten Leerzeichen und Sterne auszugeben.\n",
    "\n",
    "Für eine Raute der Größe 5 sollte das z.B wie folgt aussehen:\n",
    "\n",
    "```text\n",
    "    **\n",
    "   *  * \n",
    "  *    *\n",
    " *      *\n",
    "*        *\n",
    "```"
   ]
  },
  {
   "cell_type": "code",
   "execution_count": 6,
   "metadata": {
    "tags": []
   },
   "outputs": [
    {
     "name": "stdout",
     "output_type": "stream",
     "text": [
      "   * *\n",
      "  *   *\n",
      " *     *\n",
      "*       *\n"
     ]
    }
   ],
   "source": [
    "\n",
    "def printRauteObereHaelfte(wahl_groesse):\n",
    "    for zeilen_num in range(1, wahl_groesse + 1 , 1):\n",
    "        fuehrendeLeerzeichen = wahl_groesse - zeilen_num\n",
    "        mittlereLeerzeichen = 2 * zeilen_num - 1\n",
    "\n",
    "        printSpace(fuehrendeLeerzeichen)\n",
    "        print(\"*\", end=\"\")\n",
    "\n",
    "        if mittlereLeerzeichen > 0:\n",
    "            printSpace(mittlereLeerzeichen)\n",
    "            print(\"*\", end=\"\")\n",
    "        \n",
    "        print()\n",
    "\n",
    "#getRautenGroesse()\n",
    "wahl_groesse = int(input('Bitte geben Sie die gewünschte Rautengröße (3-10) erneut ein: ')) #nicht perfekt gelöst ---> nochmal überarbeiten\n",
    "printRauteObereHaelfte(wahl_groesse)"
   ]
  },
  {
   "cell_type": "markdown",
   "metadata": {},
   "source": [
    "***"
   ]
  },
  {
   "cell_type": "markdown",
   "metadata": {
    "deletable": false,
    "editable": false
   },
   "source": [
    "### 1.5 Der untere Teil der Raute\n",
    "\n",
    "Führen Sie nun die gleichen Schritte wie oben für den unteren Teil der Raute durch. Schreiben Sie analog zur Funktion `printRauteObereHaelfte()` eine Funktion `printRauteUntereHaelfte()`, welche die untere Hälfte der Raute ausgibt."
   ]
  },
  {
   "cell_type": "code",
   "execution_count": 7,
   "metadata": {
    "tags": []
   },
   "outputs": [
    {
     "name": "stdout",
     "output_type": "stream",
     "text": [
      " *     *\n",
      "  *   *\n",
      "   * *\n"
     ]
    }
   ],
   "source": [
    "def printRauteUntereHaelfte(wahl_groesse):\n",
    "    for zeilen_num in range(wahl_groesse - 1, 0, -1):\n",
    "        fuehrendeLeerzeichen = wahl_groesse - zeilen_num\n",
    "        mittlereLeerzeichen = 2 * zeilen_num - 1\n",
    "\n",
    "        printSpace(fuehrendeLeerzeichen)\n",
    "        print(\"*\", end=\"\")\n",
    "\n",
    "        if mittlereLeerzeichen > 0:\n",
    "            printSpace(mittlereLeerzeichen)\n",
    "            print(\"*\", end=\"\")\n",
    "        \n",
    "        print()\n",
    "\n",
    "#getRautenGroesse()\n",
    "wahl_groesse = int(input('Bitte geben Sie die gewünschte Rautengröße (3-10) erneut ein: ')) #nicht perfekt gelöst ---> nochmal überarbeiten\n",
    "printRauteUntereHaelfte(wahl_groesse)"
   ]
  },
  {
   "cell_type": "markdown",
   "metadata": {},
   "source": [
    "***"
   ]
  },
  {
   "cell_type": "markdown",
   "metadata": {
    "deletable": false,
    "editable": false
   },
   "source": [
    "### 1.6 Raute ausgeben\n",
    "\n",
    "Schreiben Sie nun noch eine Funktion `printRaute()`, welcher die gewünschte Größe der Raute übergeben wird und welche dann beide Hälften unter Verwendung der oben geschriebenen Funktionen ausgibt."
   ]
  },
  {
   "cell_type": "code",
   "execution_count": 8,
   "metadata": {
    "tags": []
   },
   "outputs": [
    {
     "name": "stdout",
     "output_type": "stream",
     "text": [
      "   * *\n",
      "  *   *\n",
      " *     *\n",
      "*       *\n",
      "*       *\n",
      " *     *\n",
      "  *   *\n",
      "   * *\n"
     ]
    }
   ],
   "source": [
    "def printRaute(wahl_groesse):    \n",
    "#---Leerzeichen Funktion-------------------------------------------------------------------------------------------------------------\n",
    "    def printSpace(anzahl_spaces):\n",
    "        print(\" \" * anzahl_spaces, end=\"\")\n",
    "\n",
    "#---Rauten Funktion------------------------------------------------------------------------------------------------------------------\n",
    "    def printRauteObereHaelfte():\n",
    "        for zeilen_num in range(1, wahl_groesse + 1 , 1):\n",
    "            fuehrendeLeerzeichen = wahl_groesse - zeilen_num\n",
    "            mittlereLeerzeichen = 2 * zeilen_num - 1\n",
    "\n",
    "            printSpace(fuehrendeLeerzeichen)\n",
    "            print(\"*\", end=\"\")\n",
    "\n",
    "            if mittlereLeerzeichen > 0:\n",
    "                printSpace(mittlereLeerzeichen)\n",
    "                print(\"*\", end=\"\")\n",
    "        \n",
    "            print()\n",
    "\n",
    "    def printRauteUntereHaelfte():\n",
    "        for zeilen_num in range(wahl_groesse, 0, -1): \n",
    "            fuehrendeLeerzeichen = wahl_groesse - zeilen_num\n",
    "            mittlereLeerzeichen = 2 * zeilen_num - 1\n",
    "\n",
    "            printSpace(fuehrendeLeerzeichen)\n",
    "            print(\"*\", end=\"\")\n",
    "\n",
    "            if mittlereLeerzeichen > 0:\n",
    "                printSpace(mittlereLeerzeichen)\n",
    "                print(\"*\", end=\"\")\n",
    "        \n",
    "            print()\n",
    "            \n",
    "#---ober-/untere Hälfte Aufrufen---------------------------------------------------------------------------------------------------------\n",
    "    printRauteObereHaelfte()\n",
    "    printRauteUntereHaelfte()\n",
    "\n",
    "\n",
    "#Eingabe\n",
    "wahl_groesse = int(input('Bitte geben Sie die gewünschte Rautengröße (3-10) erneut ein: '))\n",
    "printRaute(wahl_groesse)  "
   ]
  },
  {
   "cell_type": "markdown",
   "metadata": {},
   "source": [
    "***"
   ]
  },
  {
   "cell_type": "markdown",
   "metadata": {
    "deletable": false,
    "editable": false
   },
   "source": [
    "### 1.7 Rautendrucker\n",
    "\n",
    "Schreiben Sie nun noch ein Programm, welches die Funktion `getRautenGroesse()` nutzt, um den Nutzer nach der gewünschten Rautengröße zu fragen und rufen Sie dann `printRaute()` auf, um die Raute der gewünschten Größe aufzurufen."
   ]
  },
  {
   "cell_type": "code",
   "execution_count": 9,
   "metadata": {
    "tags": []
   },
   "outputs": [
    {
     "name": "stdout",
     "output_type": "stream",
     "text": [
      "Sie haben eine Rautengröße von 4 gewählt.\n",
      "   * *\n",
      "  *   *\n",
      " *     *\n",
      "*       *\n",
      "*       *\n",
      " *     *\n",
      "  *   *\n",
      "   * *\n"
     ]
    }
   ],
   "source": [
    "def getRautenGroesse(wahl_groesse):\n",
    "    wahl_groesse = None \n",
    "\n",
    "    while wahl_groesse is None or not (3 <= wahl_groesse <= 10):\n",
    "        try:\n",
    "            wahl_groesse = int(input('Bitte geben Sie die gewünschte Rautengröße (3-10)ein: '))\n",
    "            if 3 <= wahl_groesse <= 10 :\n",
    "                print(f'Sie haben eine Rautengröße von {wahl_groesse} gewählt.')\n",
    "                break\n",
    "            else:\n",
    "                print(f'Fehler: Der eigegebene Wert({wahl_groesse}) muss zwischen 3 und einschließlich 10 liegen.')\n",
    "        except ValueError:\n",
    "\n",
    "            print(f'Fehler: Der eingegebene Wert muss eine ganze Zahl sein die zwischen 3 und einschließlich 10 liegt.')\n",
    "\n",
    "    def printRaute(): \n",
    "\n",
    "#-------Leerzeichen Funktion-------------------------------------------------------------------------------------------------------------\n",
    "        def printSpace(anzahl_spaces):\n",
    "            print(\" \" * anzahl_spaces, end=\"\")\n",
    "\n",
    "#-------Rauten Funktion------------------------------------------------------------------------------------------------------------------\n",
    "        def printRauteObereHaelfte():\n",
    "            for zeilen_num in range(1, wahl_groesse + 1 , 1):\n",
    "                fuehrendeLeerzeichen = wahl_groesse - zeilen_num\n",
    "                mittlereLeerzeichen = 2 * zeilen_num - 1\n",
    "\n",
    "                printSpace(fuehrendeLeerzeichen)\n",
    "                print(\"*\", end=\"\")\n",
    "\n",
    "                if mittlereLeerzeichen > 0:\n",
    "                    printSpace(mittlereLeerzeichen)\n",
    "                    print(\"*\", end=\"\")\n",
    "        \n",
    "                print()\n",
    "\n",
    "        def printRauteUntereHaelfte():\n",
    "            for zeilen_num in range(wahl_groesse, 0, -1): # rauten_groesse -1 ist auch eine option\n",
    "                fuehrendeLeerzeichen = wahl_groesse - zeilen_num\n",
    "                mittlereLeerzeichen = 2 * zeilen_num - 1\n",
    "\n",
    "                printSpace(fuehrendeLeerzeichen)\n",
    "                print(\"*\", end=\"\")\n",
    "\n",
    "                if mittlereLeerzeichen > 0:\n",
    "                    printSpace(mittlereLeerzeichen)\n",
    "                    print(\"*\", end=\"\")\n",
    "        \n",
    "                print()\n",
    "            \n",
    "#-------ober-/untere Hälfte Aufrufen---------------------------------------------------------------------------------------------------------\n",
    "        printRauteObereHaelfte()\n",
    "        printRauteUntereHaelfte()\n",
    "\n",
    "#---Ganze Rautenfunktion aufrufen--------------------------------------------------------------------------------------------------------        \n",
    "    printRaute()\n",
    "\n",
    "wahl_groesse = int(input('Bitte geben Sie die gewünschte Rautengröße (3-10) ein: '))\n",
    "getRautenGroesse(wahl_groesse)"
   ]
  },
  {
   "cell_type": "markdown",
   "metadata": {},
   "source": [
    "***"
   ]
  },
  {
   "cell_type": "markdown",
   "metadata": {
    "deletable": false,
    "editable": false
   },
   "source": [
    "### 1.8 Rautengenerator\n",
    "\n",
    "Schreiben Sie nun noch eine Funktion namens `rautenGenerator()`, welche alle Rauten der Größe 3 bis 10 nacheinander ausgibt."
   ]
  },
  {
   "cell_type": "code",
   "execution_count": 10,
   "metadata": {
    "tags": []
   },
   "outputs": [
    {
     "name": "stdout",
     "output_type": "stream",
     "text": [
      "\n",
      "Rautengröße 3:\n",
      "\n",
      "  * *\n",
      " *   *\n",
      "*     *\n",
      "*     *\n",
      " *   *\n",
      "  * *\n",
      "\n",
      "Rautengröße 4:\n",
      "\n",
      "   * *\n",
      "  *   *\n",
      " *     *\n",
      "*       *\n",
      "*       *\n",
      " *     *\n",
      "  *   *\n",
      "   * *\n",
      "\n",
      "Rautengröße 5:\n",
      "\n",
      "    * *\n",
      "   *   *\n",
      "  *     *\n",
      " *       *\n",
      "*         *\n",
      "*         *\n",
      " *       *\n",
      "  *     *\n",
      "   *   *\n",
      "    * *\n",
      "\n",
      "Rautengröße 6:\n",
      "\n",
      "     * *\n",
      "    *   *\n",
      "   *     *\n",
      "  *       *\n",
      " *         *\n",
      "*           *\n",
      "*           *\n",
      " *         *\n",
      "  *       *\n",
      "   *     *\n",
      "    *   *\n",
      "     * *\n",
      "\n",
      "Rautengröße 7:\n",
      "\n",
      "      * *\n",
      "     *   *\n",
      "    *     *\n",
      "   *       *\n",
      "  *         *\n",
      " *           *\n",
      "*             *\n",
      "*             *\n",
      " *           *\n",
      "  *         *\n",
      "   *       *\n",
      "    *     *\n",
      "     *   *\n",
      "      * *\n",
      "\n",
      "Rautengröße 8:\n",
      "\n",
      "       * *\n",
      "      *   *\n",
      "     *     *\n",
      "    *       *\n",
      "   *         *\n",
      "  *           *\n",
      " *             *\n",
      "*               *\n",
      "*               *\n",
      " *             *\n",
      "  *           *\n",
      "   *         *\n",
      "    *       *\n",
      "     *     *\n",
      "      *   *\n",
      "       * *\n",
      "\n",
      "Rautengröße 9:\n",
      "\n",
      "        * *\n",
      "       *   *\n",
      "      *     *\n",
      "     *       *\n",
      "    *         *\n",
      "   *           *\n",
      "  *             *\n",
      " *               *\n",
      "*                 *\n",
      "*                 *\n",
      " *               *\n",
      "  *             *\n",
      "   *           *\n",
      "    *         *\n",
      "     *       *\n",
      "      *     *\n",
      "       *   *\n",
      "        * *\n",
      "\n",
      "Rautengröße 10:\n",
      "\n",
      "         * *\n",
      "        *   *\n",
      "       *     *\n",
      "      *       *\n",
      "     *         *\n",
      "    *           *\n",
      "   *             *\n",
      "  *               *\n",
      " *                 *\n",
      "*                   *\n",
      "*                   *\n",
      " *                 *\n",
      "  *               *\n",
      "   *             *\n",
      "    *           *\n",
      "     *         *\n",
      "      *       *\n",
      "       *     *\n",
      "        *   *\n",
      "         * *\n"
     ]
    }
   ],
   "source": [
    "def rautenGenerator():\n",
    "    for alle_rauten in range(3, 11):\n",
    "        print(f\"\\nRautengröße {alle_rauten}:\\n\")\n",
    "        printRaute(alle_rauten)\n",
    "\n",
    "rautenGenerator()"
   ]
  },
  {
   "cell_type": "markdown",
   "metadata": {},
   "source": [
    "***"
   ]
  },
  {
   "cell_type": "markdown",
   "metadata": {},
   "source": [
    "## 2. Fehlersuche\n",
    "\n",
    "In den folgenden kleineren Funktionen haben ein, oder mehrere Fehler versteckt. Schreiben Sie Code, um die Funktionen zu testen und verwenden Sie den Debugger, um die Fehler zu finden und zu korrigieren."
   ]
  },
  {
   "cell_type": "markdown",
   "metadata": {
    "deletable": false,
    "editable": false
   },
   "source": [
    "### 2.1 Primzahl oder nicht?"
   ]
  },
  {
   "cell_type": "code",
   "execution_count": null,
   "metadata": {
    "deletable": false,
    "editable": false
   },
   "outputs": [],
   "source": [
    "# Liefert True zurück, wenn number eine Primzahl ist.\n",
    "def ist_primzahl(number):\n",
    "    for i in range(1, number):\n",
    "        if number % i == 0:\n",
    "            return True\n",
    "    return False"
   ]
  },
  {
   "cell_type": "code",
   "execution_count": null,
   "metadata": {
    "tags": []
   },
   "outputs": [],
   "source": [
    "# Notieren Sie hier, was Sie geändert haben.\n"
   ]
  },
  {
   "cell_type": "markdown",
   "metadata": {
    "deletable": false,
    "editable": false
   },
   "source": [
    "### 2.2 Fakultät einer Zahl"
   ]
  },
  {
   "cell_type": "code",
   "execution_count": null,
   "metadata": {
    "deletable": false,
    "editable": false
   },
   "outputs": [],
   "source": [
    "# Berechnet n! = n * (n - 1) * ... * 2 * 1\n",
    "def factorial(n):\n",
    "    result = 1\n",
    "    while n >= 0:\n",
    "        result *= n\n",
    "        n -= 1\n",
    "    return result"
   ]
  },
  {
   "cell_type": "code",
   "execution_count": null,
   "metadata": {
    "tags": []
   },
   "outputs": [],
   "source": [
    "# Notieren Sie hier, was Sie geändert haben.\n"
   ]
  },
  {
   "cell_type": "code",
   "execution_count": null,
   "metadata": {
    "deletable": false,
    "editable": false
   },
   "outputs": [],
   "source": [
    "# Soll z.B. für rows = 5 folgendes ausgeben:\n",
    "#\n",
    "# * * * * * \n",
    "# * * * * \n",
    "# * * * \n",
    "# * * \n",
    "# * \n",
    "def print_pattern(rows):\n",
    "    for i in range(rows):\n",
    "        for j in range(rows + i + 1):\n",
    "            print(\"*\", end=\" \")\n",
    "        print()"
   ]
  },
  {
   "cell_type": "code",
   "execution_count": null,
   "metadata": {
    "tags": []
   },
   "outputs": [],
   "source": [
    "# Notieren Sie hier, was Sie geändert haben.\n"
   ]
  },
  {
   "cell_type": "markdown",
   "metadata": {},
   "source": [
    "***"
   ]
  },
  {
   "cell_type": "markdown",
   "metadata": {
    "deletable": false,
    "editable": false
   },
   "source": [
    "### 3. Alphabet - Hoch und runter\n",
    "\n",
    "Schreiben Sie eine Funktion, welche die ersten `n` Buchstaben des Alphabets ausgibt, wobei `n` der Übergabeparamter der Funktion ist. Ist `n` größer als die Anzahl an Buchstaben im Alphabet, soll die Funktion alle Buchstaben von a bis z ausgeben und dann das Alphabet rückwärts ausgeben, bis insgesamt `n` Buchstaben ausgegeben wurden. Sind noch immer auszugebende Buchstaben übrig, wenn man bei `a` ankommt, soll die Ausgaberichtung wieder umgekehrt werden. Das soll so lange wiederholt werden, bis `n` Buchstaben ausgegeben wurden. \n",
    "\n",
    "Folgende Beispiele zeigen Ausgaben einer solchen Funktion:\n",
    "\n",
    "```text\n",
    "    print_alphabet_up_and_down(10)\n",
    "    abcdefghij\n",
    "```\n",
    "\n",
    "```text\n",
    "    print_alphabet_up_and_down(28)\n",
    "    abcdefghijklmnopqrstuvwxyzyx\n",
    "```\n",
    "\n",
    "\n",
    "```text\n",
    "    print_alphabet_up_and_down(60)\n",
    "    abcdefghijklmnopqrstuvwxyzyxwvutsrqponmlkjihgfedcbabcdefghij\n",
    "```"
   ]
  },
  {
   "cell_type": "markdown",
   "metadata": {
    "deletable": false,
    "editable": false
   },
   "source": [
    "*Hilfestellung:* \n",
    "\n",
    "Um einen Buchstaben als Zahl zu interpretieren, können Sie folgende Funktion verwenden:\n",
    "\n",
    "```python\n",
    "ord(\"a\") # liefert 97 zurück\n",
    "```\n",
    "\n",
    "Um eine Zahl als ASCII-Code zu interpretieren, können Sie folgenden Befehl verwenden:\n",
    "\n",
    "```python\n",
    "chr(100) # liefert \"d\" zurück\n",
    "```\n",
    "\n",
    "Mit Hilfe dieser Funktionen kann man also mit Buchstaben \"rechnen\":\n",
    "\n",
    "```python\n",
    "print(chr(ord(\"a\") + 1)) # gibt b aus\n",
    "```"
   ]
  },
  {
   "cell_type": "code",
   "execution_count": null,
   "metadata": {
    "tags": []
   },
   "outputs": [],
   "source": [
    "..."
   ]
  },
  {
   "cell_type": "markdown",
   "metadata": {
    "deletable": false,
    "editable": false
   },
   "source": [
    "## Abgabe\n",
    "\n",
    "Stellen Sie sicher, dass Sie alle Zellen von oben nach unten ausgeführt haben und Ihr Notebook abgespeichert haben. Wenn Sie die folgende Zelle ausführen wird eine zip-Datei generiert. Laden Sie diese Datei in Moodle in der entsprechenden Abgabe hoch!"
   ]
  },
  {
   "cell_type": "code",
   "execution_count": null,
   "metadata": {
    "deletable": false,
    "editable": false
   },
   "outputs": [],
   "source": [
    "grader.export(pdf=False, force_save=True)"
   ]
  },
  {
   "cell_type": "markdown",
   "metadata": {},
   "source": [
    " "
   ]
  }
 ],
 "metadata": {
  "kernelspec": {
   "display_name": "Python 3.10.6 ('base')",
   "language": "python",
   "name": "python3"
  },
  "language_info": {
   "codemirror_mode": {
    "name": "ipython",
    "version": 3
   },
   "file_extension": ".py",
   "mimetype": "text/x-python",
   "name": "python",
   "nbconvert_exporter": "python",
   "pygments_lexer": "ipython3",
   "version": "3.11.5"
  },
  "otter": {
   "OK_FORMAT": false,
   "assignment_name": "06_abgabe1",
   "tests": {}
  },
  "vscode": {
   "interpreter": {
    "hash": "d4d1e4263499bec80672ea0156c357c1ee493ec2b1c70f0acce89fc37c4a6abe"
   }
  }
 },
 "nbformat": 4,
 "nbformat_minor": 2
}
