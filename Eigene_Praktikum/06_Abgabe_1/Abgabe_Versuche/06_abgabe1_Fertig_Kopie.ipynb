{
 "cells": [
  {
   "cell_type": "code",
   "execution_count": null,
   "metadata": {
    "deletable": false,
    "editable": false
   },
   "outputs": [],
   "source": [
    "# Initialize Otter\n",
    "import otter\n",
    "grader = otter.Notebook(\"06_abgabe1.ipynb\")"
   ]
  },
  {
   "cell_type": "markdown",
   "metadata": {},
   "source": [
    "# Computational Thinking WS2023/24\n",
    "**Autoren:** \n",
    "+ Prof. Benedikt Dietrich\n",
    "+ Prof. Martin Hobelsberger\n",
    "+ Prof. Martin Orehek"
   ]
  },
  {
   "cell_type": "markdown",
   "metadata": {},
   "source": [
    "## Divide and Conquer\n",
    "\n",
    "Ein in der Informatik wichtiges Prinzip ist \"*Divide & Conquer*\", d.h. teile und herrsche. \n",
    "Gemeint ist die erfolgreiche Lösung einer komplexen Problemstellung durch die Aufteilung in mehrere kleine, leicht zu lösende Teilprobleme.\n",
    "Die Herausforderung liegt hierbei in der Identifikation der einzelnen Teilprobleme.\n",
    "Dieses Prinzip wollen wir in der Aufgabe *Herr der Rauten* anwenden.\n",
    "Die einzelnen Teilprobleme sind hier noch vorgegeben.\n",
    "In den weiteren Praktikumsaufgaben obliegt die Anwendung des *Divide & Conquer* Prinzips immer stärker Ihnen."
   ]
  },
  {
   "cell_type": "markdown",
   "metadata": {},
   "source": [
    "\n",
    "## 1. Herr der Rauten \n",
    "\n",
    "Im Folgenden sollen Sie ein Programm erstellen, das eine Raute in einer vom Nutzer vorgegebener Größe zeichnet. \n",
    "Die Ausgabe des Programms soll wie folgt aussehen:\n",
    "\n",
    "```text \n",
    "Bitte geben Sie die gewünschte Rautengröße (3-10) ein: 1\n",
    "\n",
    "Ihre Raute:\n",
    "\n",
    "    **\n",
    "   *  *\n",
    "  *    *\n",
    " *      *\n",
    "*        *\n",
    "*        *\n",
    " *      *\n",
    "  *    *\n",
    "   *  *\n",
    "    **\n",
    "``` \n",
    "\n",
    "Hierzu werden Sie Schritt für Schritt den notwendigen Algorithmus nach dem Prinzip *Divide & Conquer* herleiten.\n",
    "\n",
    "Für unsere Raute bedeutet dies konkret, dass wir nicht versuchen sofort die komplette  Raute auszugeben, sondern zunächst einmal nur die notwendigen Leerzeichen auszugeben und dann die obere Hälfte der Raute generieren. Von dieser Lösung aus erweitern wir dann unser Programm, um auch die untere Hälfte der Raute auszugeben. "
   ]
  },
  {
   "cell_type": "markdown",
   "metadata": {
    "deletable": false,
    "editable": false
   },
   "source": [
    "\n",
    "### 1.1 Nutzereingabe abfragen\n",
    "\n",
    "Schreiben Sie eine Funktion `getRautenGroesse()`, welche den Nutzer um die Eingabe der Rautengröße bittet. Der eingegebene Wert soll zwischen 3 und einschließlich 10 liegen. Ist dies nicht der Fall, soll die Funktion den Nutzer darauf hinweisen und erneut um eine Eingabe bitten bis ein Wert zwischen 3 und 10 eingegeben wurde.\n",
    "\n",
    "Eine Beispielausgabe der Funktion könnte so aussehen:\n",
    "\n",
    "```text\n",
    "    Bitte geben Sie die gewünschte Rautengröße (3-10) ein: 1\n",
    "    Fehler: Der eingegebene Wert muss zwischen 3 und einschließlich 10 liegen.\n",
    "    Bitte geben Sie die gewünschte Rautengröße (3-10) ein: 100\n",
    "    Fehler: Der eingegebene Wert muss zwischen 3 und einschließlich 10 liegen.\n",
    "    Bitte geben Sie die gewünschte Rautengröße (3-10) ein: 4\n",
    "    Sie haben eine Rautengröße von 4 gewählt.\n",
    "```\n"
   ]
  },
  {
   "cell_type": "code",
   "execution_count": 2,
   "metadata": {
    "tags": []
   },
   "outputs": [],
   "source": [
    "\n",
    "def getRautenGroesse():\n",
    "    wahl_groesse = None \n",
    "\n",
    "    while wahl_groesse is None or not (3 <= wahl_groesse <= 10):\n",
    "        try:\n",
    "            wahl_groesse = int(input('Bitte geben Sie die gewünschte Rautengröße (3-10)ein: '))\n",
    "            if 3 <= wahl_groesse <= 10 :\n",
    "                print(f'Sie haben eine Rautengröße von {wahl_groesse} gewählt.')\n",
    "                break\n",
    "            else:\n",
    "                print(f'Fehler: Der eigegebene Wert({wahl_groesse}) muss zwischen 3 und einschließlich 10 liegen.')\n",
    "        except ValueError:\n",
    "            print(f'Fehler: Der eingegebene Wert muss eine ganze Zahl sein die zwischen 3 und einschließlich 10 liegt.')\n",
    "            \n",
    "    return wahl_groesse"
   ]
  },
  {
   "cell_type": "markdown",
   "metadata": {},
   "source": [
    "***"
   ]
  },
  {
   "cell_type": "markdown",
   "metadata": {
    "deletable": false,
    "editable": false
   },
   "source": [
    "### 1.2 Analyse des Problems\n",
    "\n",
    "Eine Raute besteht aus einer bestimmten Anzahl an Zeilen. Jede Zeile besteht aus einer bestimmten Menge an führenden Leerzeichen, einem Stern, einer bestimmten Anzahl an mittleren Leerzeichen, einem weiteren Stern und einem Zeilenumbruch.\n",
    "\n",
    "Zeichnen Sie den oberen (!) Teil einer Raute einer beliebigen Größe zwischen 3 und 10 auf ein Karo-Papier. Füllen Sie dann für Ihre Raute die folgende Tabelle aus:\n",
    "\n",
    "\n",
    "| Zeile | Führende Leerzeichen | Mittlere Leerzeichen | \n",
    "|-------|----------------------|----------------------|\n",
    "|   1   | ?                    |                      |\n",
    "|   2   | ?                    |                      |\n",
    "|   ... | ?                    |                      |\n",
    "\n",
    "Leiten Sie nun aus der Tabelle ab, wie die Anzahl an Zeilen, die Anzahl an führenden Leerzeichen und die Anzahl an mittleren Leerzeichen von der Rautengröße abhängt. \n",
    "\n",
    "**Wichtig:** Fokussieren Sie hier erst mal nur auf die obere Hälfte der Raute!"
   ]
  },
  {
   "cell_type": "markdown",
   "metadata": {},
   "source": [
    "***"
   ]
  },
  {
   "cell_type": "markdown",
   "metadata": {
    "deletable": false,
    "editable": false
   },
   "source": [
    "### 1.3 Leerzeichen ausgeben\n",
    "\n",
    "Schreiben Sie zunächst eine Funktion `printSpaces()`, welcher die gewünschte Anzahl an auszugebenden Leerzeichen übergeben wird. Die Funktion soll dann die entsprechende Zahl an Leerzeichen ausgeben, aber ohne Zeilenumbruch!\n",
    "\n",
    "*Hinweis:* Um nur ein Leerzeichen ohne Zeilenumbruch auszugeben können Sie folgende Syntax verwenden:\n",
    "\n",
    "```python\n",
    "    print(\" \", end=\"\")\n",
    "```"
   ]
  },
  {
   "cell_type": "code",
   "execution_count": 3,
   "metadata": {
    "tags": []
   },
   "outputs": [],
   "source": [
    "def printSpace(anzahl_spaces):\n",
    "    print(\" \" * anzahl_spaces, end=\"\")"
   ]
  },
  {
   "cell_type": "markdown",
   "metadata": {},
   "source": [
    "***"
   ]
  },
  {
   "cell_type": "markdown",
   "metadata": {
    "deletable": false,
    "editable": false
   },
   "source": [
    "### 1.4 Den oberen Teil der Raute zeichnen\n",
    "\n",
    "Schreiben Sie nun eine Funktion `printRauteObereHaelfte()`, welcher die gewünschte Größe der Raute übergeben wird. Die Funktion soll dann in einer `for`-Schleife Zeile für Zeile der Raute ausgeben. Berechnen Sie hierfür in der `for`-Schleife in Abhängigkeit der aktuellen Zeilenzahl die Variablen `fuehrendeLeerzeichen` und `mittlereLeerzeichen`. Nutzen Sie dann die Funktion `printSpace()` und `print(*)` um die gewünschten Leerzeichen und Sterne auszugeben.\n",
    "\n",
    "Für eine Raute der Größe 5 sollte das z.B wie folgt aussehen:\n",
    "\n",
    "```text\n",
    "    **\n",
    "   *  * \n",
    "  *    *\n",
    " *      *\n",
    "*        *\n",
    "```"
   ]
  },
  {
   "cell_type": "code",
   "execution_count": 4,
   "metadata": {
    "tags": []
   },
   "outputs": [
    {
     "name": "stdout",
     "output_type": "stream",
     "text": [
      "    **\n",
      "   *  *\n",
      "  *    *\n",
      " *      *\n",
      "*        *\n"
     ]
    }
   ],
   "source": [
    "\n",
    "def printRauteObereHaelfte(groesse):\n",
    "    for zeilen_num in range(1, groesse +1):\n",
    "        fuehrendeLeerzeichen = groesse - zeilen_num\n",
    "        mittlereLeerzeichen = 2 * (zeilen_num - 1)\n",
    "\n",
    "        printSpace(fuehrendeLeerzeichen)\n",
    "        print(\"*\", end=\"\")\n",
    "\n",
    "        if mittlereLeerzeichen >= 0:\n",
    "            printSpace(mittlereLeerzeichen)\n",
    "            print(\"*\", end=\"\")\n",
    "        \n",
    "        print()\n",
    "\n",
    "printRauteObereHaelfte(5)"
   ]
  },
  {
   "cell_type": "markdown",
   "metadata": {},
   "source": [
    "***"
   ]
  },
  {
   "cell_type": "markdown",
   "metadata": {
    "deletable": false,
    "editable": false
   },
   "source": [
    "### 1.5 Der untere Teil der Raute\n",
    "\n",
    "Führen Sie nun die gleichen Schritte wie oben für den unteren Teil der Raute durch. Schreiben Sie analog zur Funktion `printRauteObereHaelfte()` eine Funktion `printRauteUntereHaelfte()`, welche die untere Hälfte der Raute ausgibt."
   ]
  },
  {
   "cell_type": "code",
   "execution_count": 5,
   "metadata": {
    "tags": []
   },
   "outputs": [
    {
     "name": "stdout",
     "output_type": "stream",
     "text": [
      "*        *\n",
      " *      *\n",
      "  *    *\n",
      "   *  *\n",
      "    **\n"
     ]
    }
   ],
   "source": [
    "def printRauteUntereHaelfte(groesse):\n",
    "    for zeilen_num in range(groesse, 0, -1):\n",
    "        fuehrendeLeerzeichen = groesse - zeilen_num\n",
    "        mittlereLeerzeichen = 2 * (zeilen_num - 1)\n",
    "    \n",
    "        printSpace(fuehrendeLeerzeichen)\n",
    "        print(\"*\", end=\"\")\n",
    "\n",
    "        if mittlereLeerzeichen >= 0:\n",
    "            printSpace(mittlereLeerzeichen)\n",
    "            print(\"*\", end=\"\")\n",
    "        \n",
    "        print()\n",
    "\n",
    "printRauteUntereHaelfte(5)"
   ]
  },
  {
   "cell_type": "markdown",
   "metadata": {},
   "source": [
    "***"
   ]
  },
  {
   "cell_type": "markdown",
   "metadata": {
    "deletable": false,
    "editable": false
   },
   "source": [
    "### 1.6 Raute ausgeben\n",
    "\n",
    "Schreiben Sie nun noch eine Funktion `printRaute()`, welcher die gewünschte Größe der Raute übergeben wird und welche dann beide Hälften unter Verwendung der oben geschriebenen Funktionen ausgibt."
   ]
  },
  {
   "cell_type": "code",
   "execution_count": 6,
   "metadata": {
    "tags": []
   },
   "outputs": [
    {
     "name": "stdout",
     "output_type": "stream",
     "text": [
      "      **\n",
      "     *  *\n",
      "    *    *\n",
      "   *      *\n",
      "  *        *\n",
      " *          *\n",
      "*            *\n",
      "*            *\n",
      " *          *\n",
      "  *        *\n",
      "   *      *\n",
      "    *    *\n",
      "     *  *\n",
      "      **\n"
     ]
    }
   ],
   "source": [
    "def printRaute(groesse): \n",
    "    printRauteObereHaelfte(groesse)\n",
    "    printRauteUntereHaelfte(groesse)\n",
    "\n",
    "printRaute(7)"
   ]
  },
  {
   "cell_type": "markdown",
   "metadata": {},
   "source": [
    "***"
   ]
  },
  {
   "cell_type": "markdown",
   "metadata": {
    "deletable": false,
    "editable": false
   },
   "source": [
    "### 1.7 Rautendrucker\n",
    "\n",
    "Schreiben Sie nun noch ein Programm, welches die Funktion `getRautenGroesse()` nutzt, um den Nutzer nach der gewünschten Rautengröße zu fragen und rufen Sie dann `printRaute()` auf, um die Raute der gewünschten Größe aufzurufen."
   ]
  },
  {
   "cell_type": "code",
   "execution_count": 7,
   "metadata": {
    "tags": []
   },
   "outputs": [
    {
     "name": "stdout",
     "output_type": "stream",
     "text": [
      "Sie haben eine Rautengröße von 5 gewählt.\n",
      "    **\n",
      "   *  *\n",
      "  *    *\n",
      " *      *\n",
      "*        *\n",
      "*        *\n",
      " *      *\n",
      "  *    *\n",
      "   *  *\n",
      "    **\n"
     ]
    }
   ],
   "source": [
    "def Rautendrucker():\n",
    "    groesse= getRautenGroesse()\n",
    "    printRaute(groesse)\n",
    "\n",
    "Rautendrucker()\n",
    "\n"
   ]
  },
  {
   "cell_type": "markdown",
   "metadata": {},
   "source": [
    "***"
   ]
  },
  {
   "cell_type": "markdown",
   "metadata": {
    "deletable": false,
    "editable": false
   },
   "source": [
    "### 1.8 Rautengenerator\n",
    "\n",
    "Schreiben Sie nun noch eine Funktion namens `rautenGenerator()`, welche alle Rauten der Größe 3 bis 10 nacheinander ausgibt."
   ]
  },
  {
   "cell_type": "code",
   "execution_count": 8,
   "metadata": {
    "tags": []
   },
   "outputs": [
    {
     "name": "stdout",
     "output_type": "stream",
     "text": [
      "Raute mit der Größe 3:\n",
      "  **\n",
      " *  *\n",
      "*    *\n",
      "*    *\n",
      " *  *\n",
      "  **\n",
      "\n",
      "Raute mit der Größe 4:\n",
      "   **\n",
      "  *  *\n",
      " *    *\n",
      "*      *\n",
      "*      *\n",
      " *    *\n",
      "  *  *\n",
      "   **\n",
      "\n",
      "Raute mit der Größe 5:\n",
      "    **\n",
      "   *  *\n",
      "  *    *\n",
      " *      *\n",
      "*        *\n",
      "*        *\n",
      " *      *\n",
      "  *    *\n",
      "   *  *\n",
      "    **\n",
      "\n",
      "Raute mit der Größe 6:\n",
      "     **\n",
      "    *  *\n",
      "   *    *\n",
      "  *      *\n",
      " *        *\n",
      "*          *\n",
      "*          *\n",
      " *        *\n",
      "  *      *\n",
      "   *    *\n",
      "    *  *\n",
      "     **\n",
      "\n",
      "Raute mit der Größe 7:\n",
      "      **\n",
      "     *  *\n",
      "    *    *\n",
      "   *      *\n",
      "  *        *\n",
      " *          *\n",
      "*            *\n",
      "*            *\n",
      " *          *\n",
      "  *        *\n",
      "   *      *\n",
      "    *    *\n",
      "     *  *\n",
      "      **\n",
      "\n",
      "Raute mit der Größe 8:\n",
      "       **\n",
      "      *  *\n",
      "     *    *\n",
      "    *      *\n",
      "   *        *\n",
      "  *          *\n",
      " *            *\n",
      "*              *\n",
      "*              *\n",
      " *            *\n",
      "  *          *\n",
      "   *        *\n",
      "    *      *\n",
      "     *    *\n",
      "      *  *\n",
      "       **\n",
      "\n",
      "Raute mit der Größe 9:\n",
      "        **\n",
      "       *  *\n",
      "      *    *\n",
      "     *      *\n",
      "    *        *\n",
      "   *          *\n",
      "  *            *\n",
      " *              *\n",
      "*                *\n",
      "*                *\n",
      " *              *\n",
      "  *            *\n",
      "   *          *\n",
      "    *        *\n",
      "     *      *\n",
      "      *    *\n",
      "       *  *\n",
      "        **\n",
      "\n",
      "Raute mit der Größe 10:\n",
      "         **\n",
      "        *  *\n",
      "       *    *\n",
      "      *      *\n",
      "     *        *\n",
      "    *          *\n",
      "   *            *\n",
      "  *              *\n",
      " *                *\n",
      "*                  *\n",
      "*                  *\n",
      " *                *\n",
      "  *              *\n",
      "   *            *\n",
      "    *          *\n",
      "     *        *\n",
      "      *      *\n",
      "       *    *\n",
      "        *  *\n",
      "         **\n",
      "\n"
     ]
    }
   ],
   "source": [
    "def rautenGenerator():\n",
    "    for i in range(3,11):\n",
    "        print(f'Raute mit der Größe {i}:')\n",
    "        printRaute(i)\n",
    "        print()\n",
    "\n",
    "rautenGenerator()"
   ]
  },
  {
   "cell_type": "markdown",
   "metadata": {},
   "source": [
    "***"
   ]
  },
  {
   "cell_type": "markdown",
   "metadata": {},
   "source": [
    "## 2. Fehlersuche\n",
    "\n",
    "In den folgenden kleineren Funktionen haben ein, oder mehrere Fehler versteckt. Schreiben Sie Code, um die Funktionen zu testen und verwenden Sie den Debugger, um die Fehler zu finden und zu korrigieren."
   ]
  },
  {
   "cell_type": "markdown",
   "metadata": {
    "deletable": false,
    "editable": false
   },
   "source": [
    "### 2.1 Primzahl oder nicht?"
   ]
  },
  {
   "cell_type": "code",
   "execution_count": 9,
   "metadata": {
    "deletable": false,
    "editable": false
   },
   "outputs": [
    {
     "data": {
      "text/plain": [
       "True"
      ]
     },
     "execution_count": 9,
     "metadata": {},
     "output_type": "execute_result"
    }
   ],
   "source": [
    "# Liefert True zurück, wenn number eine Primzahl ist.\n",
    "def ist_primzahl(zahl):\n",
    "    for i in range(2, zahl):\n",
    "        if zahl % i == 0:\n",
    "            return False\n",
    "    return True\n",
    "\n",
    "ist_primzahl(5)"
   ]
  },
  {
   "cell_type": "code",
   "execution_count": 15,
   "metadata": {
    "tags": []
   },
   "outputs": [],
   "source": [
    "# Notieren Sie hier, was Sie geändert haben.\n",
    "\n",
    "# (1)   range sollte bei 2 starten da Zahlen unter zwei keine Primzahlen sind.\n",
    "# (2)   False und True müssen getauscht werden, da sonst laut funktion die Zahl durch irgendein \"i\" bis auf die Zahl selbst True ergibt.\n",
    "#       Die Zahl muss durch sich selbst und 1 ohne Rest teilbar sein."
   ]
  },
  {
   "cell_type": "markdown",
   "metadata": {
    "deletable": false,
    "editable": false
   },
   "source": [
    "### 2.2 Fakultät einer Zahl"
   ]
  },
  {
   "cell_type": "code",
   "execution_count": 14,
   "metadata": {
    "deletable": false,
    "editable": false
   },
   "outputs": [
    {
     "data": {
      "text/plain": [
       "120"
      ]
     },
     "execution_count": 14,
     "metadata": {},
     "output_type": "execute_result"
    }
   ],
   "source": [
    "# Berechnet n! = n * (n - 1) * ... * 2 * 1\n",
    "def factorial(n):\n",
    "    result = 1\n",
    "    while n >= 1:\n",
    "        result *= n\n",
    "        n -= 1\n",
    "    return result\n",
    "\n",
    "factorial(5)"
   ]
  },
  {
   "cell_type": "code",
   "execution_count": 13,
   "metadata": {
    "tags": []
   },
   "outputs": [],
   "source": [
    "# Notieren Sie hier, was Sie geändert haben.\n",
    "\n",
    "# (1)   Es muss lediglich n >= 1 sein damit die funktion stimmt, da es sonst bei \"n >= 0\" alles zum Schluss mal 0 nimmt und somit das Ergebnis auch 0 ist."
   ]
  },
  {
   "cell_type": "code",
   "execution_count": 13,
   "metadata": {
    "deletable": false,
    "editable": false
   },
   "outputs": [
    {
     "name": "stdout",
     "output_type": "stream",
     "text": [
      "* * * * * \n",
      "* * * * \n",
      "* * * \n",
      "* * \n",
      "* \n"
     ]
    }
   ],
   "source": [
    "# Soll z.B. für rows = 5 folgendes ausgeben:\n",
    "#\n",
    "# * * * * * \n",
    "# * * * * \n",
    "# * * * \n",
    "# * * \n",
    "# * \n",
    "\n",
    "def print_pattern(rows):\n",
    "    for i in range(rows):\n",
    "        for j in range(rows, i , -1):\n",
    "            print(\"*\", end=\" \")\n",
    "        print()\n",
    "\n",
    "print_pattern(5)"
   ]
  },
  {
   "cell_type": "code",
   "execution_count": 12,
   "metadata": {
    "tags": []
   },
   "outputs": [],
   "source": [
    "# Notieren Sie hier, was Sie geändert haben.\n",
    "\n",
    "# (1)   In der zweitens for-Schleife wurden die \" + \" zu einem \" , \"\n",
    "# (2)   Der step-wert in der zweiten for-Schleife muss auf -1 gesetzt werden."
   ]
  },
  {
   "cell_type": "markdown",
   "metadata": {},
   "source": [
    "***"
   ]
  },
  {
   "cell_type": "markdown",
   "metadata": {
    "deletable": false,
    "editable": false
   },
   "source": [
    "### 3. Alphabet - Hoch und runter\n",
    "\n",
    "Schreiben Sie eine Funktion, welche die ersten `n` Buchstaben des Alphabets ausgibt, wobei `n` der Übergabeparamter der Funktion ist. Ist `n` größer als die Anzahl an Buchstaben im Alphabet, soll die Funktion alle Buchstaben von a bis z ausgeben und dann das Alphabet rückwärts ausgeben, bis insgesamt `n` Buchstaben ausgegeben wurden. Sind noch immer auszugebende Buchstaben übrig, wenn man bei `a` ankommt, soll die Ausgaberichtung wieder umgekehrt werden. Das soll so lange wiederholt werden, bis `n` Buchstaben ausgegeben wurden. \n",
    "\n",
    "Folgende Beispiele zeigen Ausgaben einer solchen Funktion:\n",
    "\n",
    "```text\n",
    "    print_alphabet_up_and_down(10)\n",
    "    abcdefghij\n",
    "```\n",
    "\n",
    "```text\n",
    "    print_alphabet_up_and_down(28)\n",
    "    abcdefghijklmnopqrstuvwxyzyx\n",
    "```\n",
    "\n",
    "\n",
    "```text\n",
    "    print_alphabet_up_and_down(60)\n",
    "    abcdefghijklmnopqrstuvwxyzyxwvutsrqponmlkjihgfedcbabcdefghij\n",
    "```"
   ]
  },
  {
   "cell_type": "markdown",
   "metadata": {
    "deletable": false,
    "editable": false
   },
   "source": [
    "*Hilfestellung:* \n",
    "\n",
    "Um einen Buchstaben als Zahl zu interpretieren, können Sie folgende Funktion verwenden:\n",
    "\n",
    "```python\n",
    "ord(\"a\") # liefert 97 zurück\n",
    "```\n",
    "\n",
    "Um eine Zahl als ASCII-Code zu interpretieren, können Sie folgenden Befehl verwenden:\n",
    "\n",
    "```python\n",
    "chr(100) # liefert \"d\" zurück\n",
    "```\n",
    "\n",
    "Mit Hilfe dieser Funktionen kann man also mit Buchstaben \"rechnen\":\n",
    "\n",
    "```python\n",
    "print(chr(ord(\"a\") + 1)) # gibt b aus\n",
    "```"
   ]
  },
  {
   "cell_type": "code",
   "execution_count": 16,
   "metadata": {
    "tags": []
   },
   "outputs": [
    {
     "name": "stdout",
     "output_type": "stream",
     "text": [
      "abcdefghijklmnopqrstuvwxyzyxwvutsrqponmlkjihgfedcbabcdefghij"
     ]
    }
   ],
   "source": [
    "def print_alphabet_up_and_down(n):\n",
    "    start_wert = ord(\"a\")\n",
    "    hoch_runter =  1\n",
    "     \n",
    "    while n > 0:\n",
    "        print(chr(start_wert), end=\"\")\n",
    "        n -= 1\n",
    "        folge_wert = start_wert + hoch_runter\n",
    "        start_wert = folge_wert\n",
    "\n",
    "        if start_wert == ord(\"z\") or start_wert == ord(\"a\"):\n",
    "            hoch_runter *= (-1)\n",
    "\n",
    "        if n == 0:\n",
    "            break\n",
    "\n",
    "print_alphabet_up_and_down(60)\n"
   ]
  },
  {
   "cell_type": "markdown",
   "metadata": {
    "deletable": false,
    "editable": false
   },
   "source": [
    "## Abgabe\n",
    "\n",
    "Stellen Sie sicher, dass Sie alle Zellen von oben nach unten ausgeführt haben und Ihr Notebook abgespeichert haben. Wenn Sie die folgende Zelle ausführen wird eine zip-Datei generiert. Laden Sie diese Datei in Moodle in der entsprechenden Abgabe hoch!"
   ]
  },
  {
   "cell_type": "code",
   "execution_count": null,
   "metadata": {
    "deletable": false,
    "editable": false
   },
   "outputs": [],
   "source": [
    "grader.export(pdf=False, force_save=True)"
   ]
  },
  {
   "cell_type": "markdown",
   "metadata": {},
   "source": [
    " "
   ]
  }
 ],
 "metadata": {
  "kernelspec": {
   "display_name": "Python 3.10.6 ('base')",
   "language": "python",
   "name": "python3"
  },
  "language_info": {
   "codemirror_mode": {
    "name": "ipython",
    "version": 3
   },
   "file_extension": ".py",
   "mimetype": "text/x-python",
   "name": "python",
   "nbconvert_exporter": "python",
   "pygments_lexer": "ipython3",
   "version": "3.11.5"
  },
  "otter": {
   "OK_FORMAT": false,
   "assignment_name": "06_abgabe1",
   "tests": {}
  },
  "vscode": {
   "interpreter": {
    "hash": "d4d1e4263499bec80672ea0156c357c1ee493ec2b1c70f0acce89fc37c4a6abe"
   }
  }
 },
 "nbformat": 4,
 "nbformat_minor": 2
}
