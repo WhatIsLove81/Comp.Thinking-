{
 "cells": [
  {
   "cell_type": "code",
   "execution_count": 10,
   "id": "0d04b72d",
   "metadata": {
    "deletable": false,
    "editable": false
   },
   "outputs": [],
   "source": [
    "# Initialize Otter\n",
    "import otter\n",
    "grader = otter.Notebook(\"03-variablen_und_operatoren.ipynb\")"
   ]
  },
  {
   "cell_type": "markdown",
   "id": "37d3df60",
   "metadata": {},
   "source": [
    "# Computational Thinking WS2023/24\n",
    "**Autoren:** \n",
    "+ Dr. Benedikt Zönnchen\n",
    "+ Prof. Martin Hobelsberger\n",
    "+ Prof. Benedikt Dietrich"
   ]
  },
  {
   "cell_type": "markdown",
   "id": "detected-links",
   "metadata": {},
   "source": [
    "## 1 Grundlagen - Variablen\n",
    "\n",
    "[CT-Buch Kapitel 13.1 Variablen](https://bzoennchen.github.io/ct-book/chapters/03-3/1-variables.html)\n",
    "\n",
    "*Variablen* können wir uns intuitiv zunächst als Namen oder Bezeichnung eines Wertes vorstellen.\n",
    "Mit diesem Namen können wir einen Wert im *Arbeitsspeicherspeicher* des Computers identifizieren.\n",
    "So können wir uns Zwischenergebnisse merken und damit weiter rechnen.\n",
    "\n",
    "### 1.1 Initialisierung und Zuweisung\n",
    "\n",
    "Durch das ``=`` Zeichen weisen wir einer *Variablen* auf der linken Seite den Wert des *Ausdrucks* auf der rechten Seite zu: ``[Variable] = [Ausdruck]``.\n",
    "Zum Beispiel, weist"
   ]
  },
  {
   "cell_type": "code",
   "execution_count": 11,
   "id": "shaped-estate",
   "metadata": {},
   "outputs": [],
   "source": [
    "x = 3 + 10"
   ]
  },
  {
   "cell_type": "markdown",
   "id": "excess-slovak",
   "metadata": {},
   "source": [
    "den ausgewerteten Wert ``3 + 10``, also ``13`` der Variablen ``x`` zu.\n",
    "Der Ausdruck ``3 + 10`` wird vor der Zuweisung ausgewertet / berechnet.\n",
    "Es ist äußerst wichtig, dass Sie zwischen dem ``=`` (Zuweisung) und dem mathematischen $=$ (Vergleich) unterscheiden.\n",
    "\n",
    "$$x = 13$$\n",
    "\n",
    "bedeutet, dass $x$ gleich $13$ ist, wohingegen"
   ]
  },
  {
   "cell_type": "code",
   "execution_count": 12,
   "id": "still-immunology",
   "metadata": {},
   "outputs": [],
   "source": [
    "x = 13"
   ]
  },
  {
   "cell_type": "markdown",
   "id": "charitable-cream",
   "metadata": {},
   "source": [
    "den Wert der Variablen ``x`` auf ``13`` setzt oder genaue die Variable auf einen Speicherbereich verweisen lässt, welcher den Wert ``13`` enthält.\n",
    "Um das mathematisch auszurücken verwendet man oft eine Pfeil $\\leftarrow$, also \n",
    "\n",
    "$$x \\leftarrow 13.$$\n",
    "\n",
    "Der Pfeil soll verdeutlichen, dass es sich um eine *Zuweisung* handelt. Mit"
   ]
  },
  {
   "cell_type": "code",
   "execution_count": 4,
   "id": "correct-lecture",
   "metadata": {},
   "outputs": [],
   "source": [
    "x = None"
   ]
  },
  {
   "cell_type": "markdown",
   "id": "affecting-workstation",
   "metadata": {},
   "source": [
    "weisen wir ``x`` den Wert ``None`` d.h. 'Nichts' zu. Doch ist dieses 'Nichts' nicht nichts ;) sondern **repräsentiert** das Nichts.\n",
    "\n",
    "Versuchen wir eine *Variable* zu verarbeiten, die noch nicht initialisiert wurde, so erhalten wir einen Fehler:"
   ]
  },
  {
   "cell_type": "code",
   "execution_count": 14,
   "id": "reported-adjustment",
   "metadata": {},
   "outputs": [
    {
     "ename": "NameError",
     "evalue": "name 'v' is not defined",
     "output_type": "error",
     "traceback": [
      "\u001b[0;31m---------------------------------------------------------------------------\u001b[0m",
      "\u001b[0;31mNameError\u001b[0m                                 Traceback (most recent call last)",
      "Cell \u001b[0;32mIn [14], line 1\u001b[0m\n\u001b[0;32m----> 1\u001b[0m \u001b[43mv\u001b[49m \u001b[38;5;241m+\u001b[39m \u001b[38;5;241m20\u001b[39m\n",
      "\u001b[0;31mNameError\u001b[0m: name 'v' is not defined"
     ]
    }
   ],
   "source": [
    "v + 20"
   ]
  },
  {
   "cell_type": "markdown",
   "id": "quiet-honey",
   "metadata": {},
   "source": [
    "Die Fehlermeldung des Interpreters ``name 'v' is not defined`` weist uns darauf hin, dass die *Variable* ``v`` noch nicht *initialisiert* wurde.\n",
    "\n",
    "In ``Python`` reicht es wenn Sie der *Variablen* einen Wert zuweisen.\n",
    "Sie wird automatisch erzeugt, d.h., *initialisiert*.\n",
    "Besitzt sie noch keinen Wert, so existiert sie auch nicht bzw. ist noch nicht *initialisiert*.\n",
    "\n",
    "Variablen können nicht beliebig benannt werden. \n",
    "\n",
    "+ Sie können **keine** Leerzeichen enthalten (falsch: ``test var``)\n",
    "+ Sie dürfen lediglich Buchstaben, Zahlen und den Unterstrich enthalten (falsch: ``test_var!``)\n",
    "+ Sie müssen mit einem Buchstaben oder dem Unterstrich starten (falsch: ``1_test_var``)\n",
    "\n",
    "Gut und konsistent benannte Variablen helfen Ihnen und anderen dabei Programmcode besser zu verstehen.\n",
    "\n",
    "Mit der ``print()``-Funktion, können Sie sich jederzeit den Wert der Variablen ausgeben lassen."
   ]
  },
  {
   "cell_type": "code",
   "execution_count": 15,
   "id": "f5ca51eb",
   "metadata": {},
   "outputs": [
    {
     "name": "stdout",
     "output_type": "stream",
     "text": [
      "42\n"
     ]
    }
   ],
   "source": [
    "x = 42\n",
    "print(x)"
   ]
  },
  {
   "cell_type": "markdown",
   "id": "971bef52",
   "metadata": {},
   "source": [
    "In der Notebookumgebung wird der Wert der letzten Zeile einer Zelle immer ausgegeben (außer dieser ist gleich ``None``)."
   ]
  },
  {
   "cell_type": "code",
   "execution_count": 16,
   "id": "20812236",
   "metadata": {},
   "outputs": [
    {
     "data": {
      "text/plain": [
       "'gib diese Zeichenkette aus'"
      ]
     },
     "execution_count": 16,
     "metadata": {},
     "output_type": "execute_result"
    }
   ],
   "source": [
    "'gib diese Zeichenkette aus'"
   ]
  },
  {
   "cell_type": "code",
   "execution_count": 17,
   "id": "a51e0c10",
   "metadata": {},
   "outputs": [],
   "source": [
    "None # keine Aussgabe"
   ]
  },
  {
   "cell_type": "markdown",
   "id": "75aeeab7",
   "metadata": {},
   "source": [
    "***"
   ]
  },
  {
   "cell_type": "markdown",
   "id": "recorded-public",
   "metadata": {
    "deletable": false,
    "editable": false
   },
   "source": [
    "***Aufgabe 1*** \n",
    "\n",
    "Initialisieren Sie die *Variable* ``number`` sodass folgender Code das Ergebnis ``42`` ausgibt."
   ]
  },
  {
   "cell_type": "code",
   "execution_count": 18,
   "id": "4c86a3a0",
   "metadata": {
    "tags": []
   },
   "outputs": [
    {
     "name": "stdout",
     "output_type": "stream",
     "text": [
      "42\n"
     ]
    }
   ],
   "source": [
    "number = 32\n",
    "number = number + 10\n",
    "print(number)"
   ]
  },
  {
   "cell_type": "code",
   "execution_count": 19,
   "id": "71dd24b3",
   "metadata": {
    "deletable": false,
    "editable": false
   },
   "outputs": [
    {
     "data": {
      "text/html": [
       "<p><strong><pre style='display: inline;'>q1</pre></strong> passed! 🌟</p><p><strong><pre style='display: inline;'>q1 - 1</pre> message:</strong> Richtig!</p>"
      ],
      "text/plain": [
       "q1 results: All test cases passed!\n",
       "q1 - 1 message: Richtig!"
      ]
     },
     "execution_count": 19,
     "metadata": {},
     "output_type": "execute_result"
    }
   ],
   "source": [
    "grader.check(\"q1\")"
   ]
  },
  {
   "cell_type": "markdown",
   "id": "0bab9cfc",
   "metadata": {
    "deletable": false,
    "editable": false
   },
   "source": [
    "***Aufgabe 2*** \n",
    "\n",
    "Erklären Sie die Ausgabe des folgenden Codes."
   ]
  },
  {
   "cell_type": "code",
   "execution_count": 20,
   "id": "cba41b09",
   "metadata": {
    "deletable": false,
    "editable": false
   },
   "outputs": [
    {
     "name": "stdout",
     "output_type": "stream",
     "text": [
      "42\n",
      "None\n"
     ]
    }
   ],
   "source": [
    "print(print(42))"
   ]
  },
  {
   "cell_type": "code",
   "execution_count": 21,
   "id": "79912b28-3389-49c9-812f-2467ca1889fa",
   "metadata": {},
   "outputs": [],
   "source": [
    "# Gibt einmal die Zahl 42 wieder\n",
    "# Das zweite \"print\" gibt \"None\" wieder, da es keine Zuweißung hat "
   ]
  },
  {
   "cell_type": "markdown",
   "id": "c0bf3ae8",
   "metadata": {},
   "source": [
    "***"
   ]
  },
  {
   "cell_type": "markdown",
   "id": "310e36b5",
   "metadata": {},
   "source": [
    "### 1.2 Veränderung\n",
    "\n",
    "In ``Python`` können Sie den Wert einer Variablen jederzeit verändern, indem Sie ihren aktuellen Wert **überschreiben**."
   ]
  },
  {
   "cell_type": "code",
   "execution_count": 22,
   "id": "f0970ce9",
   "metadata": {},
   "outputs": [
    {
     "name": "stdout",
     "output_type": "stream",
     "text": [
      "42\n",
      "100\n"
     ]
    }
   ],
   "source": [
    "x = 42\n",
    "print(x)\n",
    "x = 100\n",
    "print(x)"
   ]
  },
  {
   "cell_type": "markdown",
   "id": "6e69f392",
   "metadata": {},
   "source": [
    "In den Jupyter-Notebooks bleibt der Wert einer Variable für nachfolgende Zellen erhalten, allerdings spielt die Reihenfolge in der Sie die Zellen ausgeführt haben eine wichtige Rolle!"
   ]
  },
  {
   "cell_type": "code",
   "execution_count": 23,
   "id": "e2d91308",
   "metadata": {},
   "outputs": [],
   "source": [
    "x = 111"
   ]
  },
  {
   "cell_type": "code",
   "execution_count": 24,
   "id": "9e722170",
   "metadata": {},
   "outputs": [
    {
     "name": "stdout",
     "output_type": "stream",
     "text": [
      "111\n"
     ]
    }
   ],
   "source": [
    "print(x)"
   ]
  },
  {
   "cell_type": "code",
   "execution_count": 25,
   "id": "95692bc8",
   "metadata": {},
   "outputs": [],
   "source": [
    "x = x + 3"
   ]
  },
  {
   "cell_type": "markdown",
   "id": "b7675c14",
   "metadata": {},
   "source": [
    "***"
   ]
  },
  {
   "cell_type": "markdown",
   "id": "38e22b4b",
   "metadata": {
    "deletable": false,
    "editable": false
   },
   "source": [
    "***Aufgabe 3*** \n",
    "\n",
    "Werten Sie folgende Zeilen in beliebiger Reihenfolge wiederholt aus, bis die Variable ``z`` den Wert ``100`` enthält. Wie viele Auswertungen benötigen sie mindestens?"
   ]
  },
  {
   "cell_type": "code",
   "execution_count": 26,
   "id": "65b7118f",
   "metadata": {
    "deletable": false,
    "editable": false
   },
   "outputs": [],
   "source": [
    "z = 15"
   ]
  },
  {
   "cell_type": "code",
   "execution_count": 27,
   "id": "3efba25e",
   "metadata": {
    "deletable": false,
    "editable": false
   },
   "outputs": [
    {
     "name": "stdout",
     "output_type": "stream",
     "text": [
      "30\n"
     ]
    }
   ],
   "source": [
    "z = z + z\n",
    "print(z)"
   ]
  },
  {
   "cell_type": "code",
   "execution_count": 28,
   "id": "c7ae3f98",
   "metadata": {
    "deletable": false,
    "editable": false
   },
   "outputs": [
    {
     "name": "stdout",
     "output_type": "stream",
     "text": [
      "25\n"
     ]
    }
   ],
   "source": [
    "z = z - 5\n",
    "print(z)"
   ]
  },
  {
   "cell_type": "code",
   "execution_count": 29,
   "id": "e6e8b3c1-2fea-4959-b638-49e43a1a9cfa",
   "metadata": {},
   "outputs": [],
   "source": [
    "# (z = z + z) muss zuerst 3 mal Ausgeführt werden um auf 120 zu kommen\n",
    "# (z = z - 5) muss danch 4 mal Ausgeführt werden um auf 100 runter zu kommen"
   ]
  },
  {
   "cell_type": "markdown",
   "id": "448dbd70",
   "metadata": {},
   "source": [
    "***"
   ]
  },
  {
   "cell_type": "markdown",
   "id": "0621dd3c",
   "metadata": {
    "tags": []
   },
   "source": [
    "### 1.3 Arithmetische Operatoren\n",
    "\n",
    "Die Multiplikation ``*`` wie auch die Potenz ``**`` bezeichnen wir als *arithmetische Operatoren*, da sie numerische Werte (Zahlen) verarbeiten.\n",
    "Es gibt jedoch noch eine ganze Reihe von weiteren *arithmetische Operatoren*:\n",
    "\n",
    "| Operator |     Beschreibung     |  Beispiel  |                     Bedeutung                        |\n",
    "| :------: | :------------------: | :--------: | :--------------------------------------------------: |\n",
    "|   `+`    |       Addition       | ``3 + 4``  |                      $3 + 4$                         |\n",
    "|   `-`    |     Subtraktion      | ``3 - 4``  |                      $3 - 4$                         |\n",
    "|   `*`    |    Multiplikation    | ``3 * 4``  |                    $3 \\cdot 4$                       |\n",
    "|   `/`    |       Division       | ``3 / 4``  |                      $3 / 4$                         |\n",
    "|   `**`   |     Potenzierung     |  ``3**4``  |                       $3^4$                          |\n",
    "|   `//`   | ganzzahlige Division | ``3 // 4`` |         $\\left \\lfloor{3/4}\\right \\rfloor$           |\n",
    "|   `%`    |        Modulo        | ``10 % 4`` | $$10 - (4 \\cdot \\left \\lfloor{10/4}\\right \\rfloor)$$ |\n",
    "\n",
    "Jeder dieser Operatoren ``op`` erwartet zwei Zahlen, eine links und eine rechts vom jeweiligen Operator.\n",
    "Die Bedeutung der Modulo-Operation sieht kompliziert aus doch bedeutet dies schlicht, dass der Rest ``10 % 4`` der ganzzahlige Rest der *Restwertdivision* ist.\n",
    "Die ganzzahlige Division rundet das Ergebnis der Division auf die nächst kleinere ganze Zahl (Integer)."
   ]
  },
  {
   "cell_type": "code",
   "execution_count": 30,
   "id": "29087a5c",
   "metadata": {},
   "outputs": [
    {
     "data": {
      "text/plain": [
       "-1"
      ]
     },
     "execution_count": 30,
     "metadata": {},
     "output_type": "execute_result"
    }
   ],
   "source": [
    "-2 // 3"
   ]
  },
  {
   "cell_type": "code",
   "execution_count": 31,
   "id": "b600f399",
   "metadata": {},
   "outputs": [
    {
     "data": {
      "text/plain": [
       "-0.6666666666666666"
      ]
     },
     "execution_count": 31,
     "metadata": {},
     "output_type": "execute_result"
    }
   ],
   "source": [
    "-2 / 3"
   ]
  },
  {
   "cell_type": "code",
   "execution_count": 32,
   "id": "d51d68ae",
   "metadata": {},
   "outputs": [
    {
     "data": {
      "text/plain": [
       "0"
      ]
     },
     "execution_count": 32,
     "metadata": {},
     "output_type": "execute_result"
    }
   ],
   "source": [
    "2 // 3"
   ]
  },
  {
   "cell_type": "code",
   "execution_count": 33,
   "id": "20cbd9d1",
   "metadata": {},
   "outputs": [
    {
     "data": {
      "text/plain": [
       "0.6666666666666666"
      ]
     },
     "execution_count": 33,
     "metadata": {},
     "output_type": "execute_result"
    }
   ],
   "source": [
    "2 / 3"
   ]
  },
  {
   "cell_type": "code",
   "execution_count": 34,
   "id": "26c6338d",
   "metadata": {},
   "outputs": [
    {
     "data": {
      "text/plain": [
       "4"
      ]
     },
     "execution_count": 34,
     "metadata": {},
     "output_type": "execute_result"
    }
   ],
   "source": [
    "14 % 5"
   ]
  },
  {
   "cell_type": "code",
   "execution_count": 35,
   "id": "2276b021",
   "metadata": {},
   "outputs": [
    {
     "data": {
      "text/plain": [
       "4"
      ]
     },
     "execution_count": 35,
     "metadata": {},
     "output_type": "execute_result"
    }
   ],
   "source": [
    "14 - (14 // 5)*5"
   ]
  },
  {
   "cell_type": "code",
   "execution_count": 36,
   "id": "3544f92d",
   "metadata": {},
   "outputs": [
    {
     "data": {
      "text/plain": [
       "True"
      ]
     },
     "execution_count": 36,
     "metadata": {},
     "output_type": "execute_result"
    }
   ],
   "source": [
    "x = 12314\n",
    "y = 7\n",
    "\n",
    "x % y == x - (x // y) * y"
   ]
  },
  {
   "cell_type": "markdown",
   "id": "50c80771",
   "metadata": {},
   "source": [
    "***"
   ]
  },
  {
   "cell_type": "markdown",
   "id": "c7b0a85c",
   "metadata": {
    "deletable": false,
    "editable": false
   },
   "source": [
    "***Aufgabe 4*** \n",
    "\n",
    "Finden Sie heraus wie ``Python`` arithmetische Operationen priorisiert.\n",
    "Zum Beispiel ist\n",
    "\n",
    "```python\n",
    "3 + 3 * 5**4\n",
    "````\n",
    "\n",
    "gleich\n",
    "\n",
    "$$3 + 3 \\cdot 5^4$$\n",
    "\n",
    "oder, zum Beispiel,\n",
    "\n",
    "$$((3 + 3) \\cdot 5)^4?$$\n",
    "\n",
    "Notieren sie die Prioritäten von der höchsten zur niedrigsten Priorität."
   ]
  },
  {
   "cell_type": "code",
   "execution_count": 37,
   "id": "904b1b89-b089-4b93-85af-68ed837d2f74",
   "metadata": {},
   "outputs": [],
   "source": [
    "# Zuerst die innere Klammer, danach das ergbenis mal 5 und zuletzt die Potenz"
   ]
  },
  {
   "cell_type": "markdown",
   "id": "7c130d19",
   "metadata": {
    "deletable": false,
    "editable": false
   },
   "source": [
    "***Aufgabe 5*** \n",
    "\n",
    "Eine Person dreht sich um ``x`` Grad im Kreis. Bestimmen Sie wie viele abgeschlossene Umdrehungen ``cycles`` sie gemacht hat. Wie viel Grad ``rest`` haben für die letzte volle Umdrehung gefehlt?"
   ]
  },
  {
   "cell_type": "code",
   "execution_count": 38,
   "id": "0a4a382c",
   "metadata": {
    "tags": []
   },
   "outputs": [
    {
     "name": "stdout",
     "output_type": "stream",
     "text": [
      "8\n",
      "261\n"
     ]
    }
   ],
   "source": [
    "x = 3141 # Grad\n",
    "cycles = x // 360\n",
    "rest = x % 360\n",
    "\n",
    "print(cycles)\n",
    "print(rest)"
   ]
  },
  {
   "cell_type": "code",
   "execution_count": 39,
   "id": "da5ed9d6",
   "metadata": {
    "deletable": false,
    "editable": false
   },
   "outputs": [
    {
     "ename": "SyntaxError",
     "evalue": "invalid syntax (03-variablen_und_operatoren.ipynb, line 9)",
     "output_type": "error",
     "traceback": [
      "Traceback \u001b[0;36m(most recent call last)\u001b[0m:\n",
      "\u001b[0m  File \u001b[1;32m/opt/conda/lib/python3.10/site-packages/IPython/core/interactiveshell.py:3378\u001b[0m in \u001b[1;35mrun_code\u001b[0m\n    exec(code_obj, self.user_global_ns, self.user_ns)\u001b[0m\n",
      "\u001b[0m  Cell \u001b[1;32mIn [39], line 1\u001b[0m\n    grader.check(\"q5\")\u001b[0m\n",
      "\u001b[0m  File \u001b[1;32m/opt/conda/lib/python3.10/site-packages/otter/check/utils.py:193\u001b[0m in \u001b[1;35mevent_logger\u001b[0m\n    raise e\u001b[0m\n",
      "\u001b[0m  File \u001b[1;32m/opt/conda/lib/python3.10/site-packages/otter/check/utils.py:184\u001b[0m in \u001b[1;35mevent_logger\u001b[0m\n    question, results, shelve_env = wrapped(*args, **kwargs)\u001b[0m\n",
      "\u001b[0m  File \u001b[1;32m/opt/conda/lib/python3.10/site-packages/otter/check/notebook.py:226\u001b[0m in \u001b[1;35mcheck\u001b[0m\n    result = Checker.check(test_path, test_name, global_env)\u001b[0m\n",
      "\u001b[0m  File \u001b[1;32m/opt/conda/lib/python3.10/site-packages/otter/execute/checker.py:73\u001b[0m in \u001b[1;35mcheck\u001b[0m\n    test = create_test_file(nb_or_test_path, test_name=test_name)\u001b[0m\n",
      "\u001b[0m  File \u001b[1;32m/opt/conda/lib/python3.10/site-packages/otter/test_files/__init__.py:45\u001b[0m in \u001b[1;35mcreate_test_file\u001b[0m\n    return NotebookMetadataExceptionTestFile.from_file(path, test_name)\u001b[0m\n",
      "\u001b[0m  File \u001b[1;32m/opt/conda/lib/python3.10/site-packages/otter/test_files/metadata_test.py:72\u001b[0m in \u001b[1;35mfrom_file\u001b[0m\n    return cls.from_string(test_spec, path=path)\u001b[0m\n",
      "\u001b[0m  File \u001b[1;32m/opt/conda/lib/python3.10/site-packages/otter/test_files/exception_test.py:236\u001b[0m in \u001b[1;35mfrom_string\u001b[0m\n    code = cls._compile_string(s, path=path)\u001b[0m\n",
      "\u001b[0;36m  File \u001b[0;32m/opt/conda/lib/python3.10/site-packages/otter/test_files/exception_test.py:189\u001b[0;36m in \u001b[0;35m_compile_string\u001b[0;36m\n\u001b[0;31m    return compile(s, path, \"exec\")\u001b[0;36m\n",
      "\u001b[0;36m  File \u001b[0;32m03-variablen_und_operatoren.ipynb:9\u001b[0;36m\u001b[0m\n\u001b[0;31m    \"editable\": false\u001b[0m\n\u001b[0m    ^\u001b[0m\n\u001b[0;31mSyntaxError\u001b[0m\u001b[0;31m:\u001b[0m invalid syntax\n"
     ]
    }
   ],
   "source": [
    "grader.check(\"q5\")"
   ]
  },
  {
   "cell_type": "markdown",
   "id": "5a426994",
   "metadata": {
    "deletable": false,
    "editable": false
   },
   "source": [
    "***Aufgabe 6*** \n",
    "\n",
    "Berechnen Sie folgenden Ausdruck\n",
    "\n",
    "$$(5 - 9^2 \\cdot 3)^3$$\n",
    "\n",
    "und weisen Sie das Ergebnis der Variable ``x`` zu."
   ]
  },
  {
   "cell_type": "code",
   "execution_count": 40,
   "id": "506b106b",
   "metadata": {
    "tags": []
   },
   "outputs": [
    {
     "name": "stdout",
     "output_type": "stream",
     "text": [
      "-13481272\n"
     ]
    }
   ],
   "source": [
    "x = (5 - 9**2 *3)**3\n",
    "print(x)"
   ]
  },
  {
   "cell_type": "code",
   "execution_count": 41,
   "id": "b2c56225",
   "metadata": {
    "deletable": false,
    "editable": false
   },
   "outputs": [
    {
     "ename": "SyntaxError",
     "evalue": "invalid syntax (03-variablen_und_operatoren.ipynb, line 9)",
     "output_type": "error",
     "traceback": [
      "Traceback \u001b[0;36m(most recent call last)\u001b[0m:\n",
      "\u001b[0m  File \u001b[1;32m/opt/conda/lib/python3.10/site-packages/IPython/core/interactiveshell.py:3378\u001b[0m in \u001b[1;35mrun_code\u001b[0m\n    exec(code_obj, self.user_global_ns, self.user_ns)\u001b[0m\n",
      "\u001b[0m  Cell \u001b[1;32mIn [41], line 1\u001b[0m\n    grader.check(\"q6\")\u001b[0m\n",
      "\u001b[0m  File \u001b[1;32m/opt/conda/lib/python3.10/site-packages/otter/check/utils.py:193\u001b[0m in \u001b[1;35mevent_logger\u001b[0m\n    raise e\u001b[0m\n",
      "\u001b[0m  File \u001b[1;32m/opt/conda/lib/python3.10/site-packages/otter/check/utils.py:184\u001b[0m in \u001b[1;35mevent_logger\u001b[0m\n    question, results, shelve_env = wrapped(*args, **kwargs)\u001b[0m\n",
      "\u001b[0m  File \u001b[1;32m/opt/conda/lib/python3.10/site-packages/otter/check/notebook.py:226\u001b[0m in \u001b[1;35mcheck\u001b[0m\n    result = Checker.check(test_path, test_name, global_env)\u001b[0m\n",
      "\u001b[0m  File \u001b[1;32m/opt/conda/lib/python3.10/site-packages/otter/execute/checker.py:73\u001b[0m in \u001b[1;35mcheck\u001b[0m\n    test = create_test_file(nb_or_test_path, test_name=test_name)\u001b[0m\n",
      "\u001b[0m  File \u001b[1;32m/opt/conda/lib/python3.10/site-packages/otter/test_files/__init__.py:45\u001b[0m in \u001b[1;35mcreate_test_file\u001b[0m\n    return NotebookMetadataExceptionTestFile.from_file(path, test_name)\u001b[0m\n",
      "\u001b[0m  File \u001b[1;32m/opt/conda/lib/python3.10/site-packages/otter/test_files/metadata_test.py:72\u001b[0m in \u001b[1;35mfrom_file\u001b[0m\n    return cls.from_string(test_spec, path=path)\u001b[0m\n",
      "\u001b[0m  File \u001b[1;32m/opt/conda/lib/python3.10/site-packages/otter/test_files/exception_test.py:236\u001b[0m in \u001b[1;35mfrom_string\u001b[0m\n    code = cls._compile_string(s, path=path)\u001b[0m\n",
      "\u001b[0;36m  File \u001b[0;32m/opt/conda/lib/python3.10/site-packages/otter/test_files/exception_test.py:189\u001b[0;36m in \u001b[0;35m_compile_string\u001b[0;36m\n\u001b[0;31m    return compile(s, path, \"exec\")\u001b[0;36m\n",
      "\u001b[0;36m  File \u001b[0;32m03-variablen_und_operatoren.ipynb:9\u001b[0;36m\u001b[0m\n\u001b[0;31m    \"editable\": false\u001b[0m\n\u001b[0m    ^\u001b[0m\n\u001b[0;31mSyntaxError\u001b[0m\u001b[0;31m:\u001b[0m invalid syntax\n"
     ]
    }
   ],
   "source": [
    "grader.check(\"q6\")"
   ]
  },
  {
   "cell_type": "markdown",
   "id": "77018f92",
   "metadata": {},
   "source": [
    "### 1.4 Mehrere Variablen\n",
    "\n",
    "Normalerweise benötigen wir mehr als eine Variable. Mit gut gewählten Namen geben Variablen die Semantik (**Was berechnet wird**) preis ohne dass wir den Code im Detail betrachten müssen.\n",
    "\n",
    "Im folgenden Beispiel berechnen wir die Anzahl der Sekunden die innerhalb von vier Jahren vertreichen. Dabei verwenden wir fünf Variablen:"
   ]
  },
  {
   "cell_type": "code",
   "execution_count": 42,
   "id": "75af593c",
   "metadata": {},
   "outputs": [
    {
     "name": "stdout",
     "output_type": "stream",
     "text": [
      "126144000\n"
     ]
    }
   ],
   "source": [
    "# Create variables\n",
    "num_years = 4\n",
    "days_per_year = 365 \n",
    "hours_per_day = 24\n",
    "mins_per_hour = 60\n",
    "secs_per_min = 60\n",
    "\n",
    "# Calculate number of seconds in four years\n",
    "total_secs = secs_per_min * mins_per_hour * hours_per_day * days_per_year * num_years\n",
    "print(total_secs)"
   ]
  },
  {
   "cell_type": "markdown",
   "id": "4d7e94b8",
   "metadata": {},
   "source": [
    "Die obige Berechnung lässt sich auch mit nur einer (oder keiner) Variablen ausdrücken:"
   ]
  },
  {
   "cell_type": "code",
   "execution_count": 43,
   "id": "866598f5",
   "metadata": {},
   "outputs": [
    {
     "name": "stdout",
     "output_type": "stream",
     "text": [
      "126144000\n"
     ]
    }
   ],
   "source": [
    "total_secs = 60 * 60 * 24 * 365 * 4\n",
    "print(total_secs)"
   ]
  },
  {
   "cell_type": "markdown",
   "id": "b5fd0109",
   "metadata": {},
   "source": [
    "In diesem Fall verschlechtert sich die Lesbarkeit nicht unbedingt. Es kommt hierbei auf die Leserschaft Ihres Codes an.\n",
    "\n",
    "Folgende Zwischenlösung finden wir einfacher zu lesen:"
   ]
  },
  {
   "cell_type": "code",
   "execution_count": 44,
   "id": "a1bfc772",
   "metadata": {},
   "outputs": [
    {
     "name": "stdout",
     "output_type": "stream",
     "text": [
      "126144000\n"
     ]
    }
   ],
   "source": [
    "secs_per_year = 365 * 24 * 60 * 60\n",
    "total_secs = secs_per_year * 4\n",
    "print(total_secs)"
   ]
  },
  {
   "cell_type": "markdown",
   "id": "3f3796da",
   "metadata": {},
   "source": [
    "In den beiden Beispielen ändern sich unsere Variablen nicht. ``secs_per_year`` beschreibt, aus wie vielen Sekunden ein Jahr besteht. Dies wird sich niemals ändern.\n",
    "Um Lesern dies zu signalisieren schreiben wir derartige Variablen in Großbuchstaben:"
   ]
  },
  {
   "cell_type": "code",
   "execution_count": 45,
   "id": "59fa7f90",
   "metadata": {},
   "outputs": [
    {
     "name": "stdout",
     "output_type": "stream",
     "text": [
      "126144000\n"
     ]
    }
   ],
   "source": [
    "SECS_PER_YEAR = 365 * 24 * 60 * 60\n",
    "years = 4\n",
    "total_secs = SECS_PER_YEAR * years\n",
    "print(total_secs)"
   ]
  },
  {
   "cell_type": "markdown",
   "id": "6f850f96",
   "metadata": {},
   "source": [
    "**Merke**: Variablen die sich niemals ändern (sog. Konstanten) schreiben wir gewöhnlich in Großbuchstaben.\n",
    "\n",
    "Variablen sind immer dann besonders nützlich wenn sich ihr Wert ändert."
   ]
  },
  {
   "cell_type": "markdown",
   "id": "b59d6ca2",
   "metadata": {},
   "source": [
    "***"
   ]
  },
  {
   "cell_type": "markdown",
   "id": "a1ab0949",
   "metadata": {
    "deletable": false,
    "editable": false
   },
   "source": [
    "\n",
    "***Aufgabe 7*** \n",
    "\n",
    "Ändern Sie den Wert eine der Variablen im folgenden Code um die Sekundenanzahl zu berechnen welche innerhalb von 7 Jahren verstreicht."
   ]
  },
  {
   "cell_type": "code",
   "execution_count": 46,
   "id": "42360277",
   "metadata": {
    "tags": []
   },
   "outputs": [
    {
     "name": "stdout",
     "output_type": "stream",
     "text": [
      "220752000\n"
     ]
    }
   ],
   "source": [
    "SECS_PER_YEAR = 365 * 24 * 60 * 60\n",
    "years = 4\n",
    "years = 7\n",
    "total_secs = SECS_PER_YEAR * years\n",
    "print(total_secs)"
   ]
  },
  {
   "cell_type": "code",
   "execution_count": 47,
   "id": "e294b624",
   "metadata": {
    "deletable": false,
    "editable": false
   },
   "outputs": [
    {
     "data": {
      "text/html": [
       "<p><strong><pre style='display: inline;'>q7</pre></strong> passed! 🙌</p><p><strong><pre style='display: inline;'>q7 - 1</pre> message:</strong> Richtig!</p>"
      ],
      "text/plain": [
       "q7 results: All test cases passed!\n",
       "q7 - 1 message: Richtig!"
      ]
     },
     "execution_count": 47,
     "metadata": {},
     "output_type": "execute_result"
    }
   ],
   "source": [
    "grader.check(\"q7\")"
   ]
  },
  {
   "cell_type": "markdown",
   "id": "1a1ffb11",
   "metadata": {},
   "source": [
    "***"
   ]
  },
  {
   "cell_type": "markdown",
   "id": "8b1ad47c",
   "metadata": {},
   "source": [
    "Angenommen wir möchten den Flächeninhalt eines Rechtecks berechnen:"
   ]
  },
  {
   "cell_type": "code",
   "execution_count": 48,
   "id": "58cfefe8",
   "metadata": {},
   "outputs": [
    {
     "name": "stdout",
     "output_type": "stream",
     "text": [
      "13219.999999999998\n"
     ]
    }
   ],
   "source": [
    "width = 100\n",
    "height = 132.2\n",
    "volume = width * height\n",
    "print(volume)"
   ]
  },
  {
   "cell_type": "markdown",
   "id": "ecaad6fe",
   "metadata": {},
   "source": [
    "Ändern wir nun die Breite ``width``, so ergibt sich ein anderer Flächeninhalt, sofern wir diesen erneut berechnen."
   ]
  },
  {
   "cell_type": "code",
   "execution_count": 49,
   "id": "b10c2aab",
   "metadata": {},
   "outputs": [
    {
     "name": "stdout",
     "output_type": "stream",
     "text": [
      "26439.999999999996\n"
     ]
    }
   ],
   "source": [
    "width = 200\n",
    "volume = width * height\n",
    "print(volume)"
   ]
  },
  {
   "cell_type": "markdown",
   "id": "1ebc834c",
   "metadata": {},
   "source": [
    "Beachten Sie, dass wir eine sog. *Gleitkommazahl* ``float`` als Ergebnis erhalten. Die Variable besitzt einen anderen *Datentyp* als z.B. ``width``. Mehr dazu später."
   ]
  },
  {
   "cell_type": "markdown",
   "id": "79f4f463",
   "metadata": {},
   "source": [
    "***"
   ]
  },
  {
   "cell_type": "markdown",
   "id": "ce67ad23",
   "metadata": {
    "deletable": false,
    "editable": false
   },
   "source": [
    "***Aufgabe 8*** \n",
    "\n",
    "Bestimmen Sie was die Operation ``b**0.5`` berechnet."
   ]
  },
  {
   "cell_type": "code",
   "execution_count": 50,
   "id": "bf8db8f9",
   "metadata": {
    "deletable": false,
    "editable": false
   },
   "outputs": [
    {
     "data": {
      "text/plain": [
       "882.0"
      ]
     },
     "execution_count": 50,
     "metadata": {},
     "output_type": "execute_result"
    }
   ],
   "source": [
    "a = 13\n",
    "b = 25\n",
    "c = ((b**0.5 + a) * 7) * 7\n",
    "c"
   ]
  },
  {
   "cell_type": "code",
   "execution_count": 51,
   "id": "f155e3b0-52d9-4a0d-b311-1c6cc95e4769",
   "metadata": {},
   "outputs": [],
   "source": [
    "# Brechnet die Wurzel von b -----> Eine Zahl x^(1/n) ist dasselbe wie n-te Wurzel von x"
   ]
  },
  {
   "cell_type": "markdown",
   "id": "8a21028e",
   "metadata": {},
   "source": [
    "***\n",
    "Oftmals machen wir dies um Fehler zu finden.\n",
    "Einer der einfachsten Fehler die sich einschleichen können sind Typos, z.B.:"
   ]
  },
  {
   "cell_type": "code",
   "execution_count": 52,
   "id": "3a09a60c",
   "metadata": {},
   "outputs": [
    {
     "ename": "NameError",
     "evalue": "name 'volum' is not defined",
     "output_type": "error",
     "traceback": [
      "\u001b[0;31m---------------------------------------------------------------------------\u001b[0m",
      "\u001b[0;31mNameError\u001b[0m                                 Traceback (most recent call last)",
      "Cell \u001b[0;32mIn [52], line 1\u001b[0m\n\u001b[0;32m----> 1\u001b[0m \u001b[38;5;28mprint\u001b[39m(\u001b[43mvolum\u001b[49m)\n",
      "\u001b[0;31mNameError\u001b[0m: name 'volum' is not defined"
     ]
    }
   ],
   "source": [
    "print(volum)"
   ]
  },
  {
   "cell_type": "markdown",
   "id": "636e8a9b",
   "metadata": {},
   "source": [
    "Sobald der ``Python``-*Interpreter* eine Anweidung nicht versteht bzw. nicht ausführen kann, kommt es zu einem Fehler.\n",
    "Diese Fehler sind Hinweise woran es liegen könnte, dass unser Prorgamm abgebrochen wurde.\n",
    "Diese Meldungen mögen manchmal irritierend sein, da der Fehler nicht zwangsläufig dort zu finden ist, wo der Programmablauf endet."
   ]
  },
  {
   "cell_type": "markdown",
   "id": "bbafc057",
   "metadata": {},
   "source": [
    "## 1.5 Jupyter Notebooks (Einschub)\n",
    "\n",
    "*Jupyter Notebooks* helfen uns beim Lernen der ``Python``-Grundlagen, da wir Code interaktiv ausführen können.\n",
    "Sie erhalten ein sofortiges Feedback und können schnell und zyklisch *Code verändern* und *Code ausführen*.\n",
    "Größere ``Python``-Programme schreiben wir üblicherweise in eine simplen Textdatei.\n",
    "\n",
    "Die ``Python``-Zellen eines Notebooks bilden ein ``Python``-Programm.\n",
    "Dabei spielt die Reihenfolge wie Sie die Zellen ausführen eine Rolle.\n",
    "\n",
    "Blicken Sie auf folgendes Beispiel, bestehend aus 4 Zellen.\n",
    "Nehmen wir nun an, wir werten Zelle 1 dann 4 dann 3 und dann 2 aus.\n",
    "Welchen Wert hat dann die Variable ``x``?"
   ]
  },
  {
   "cell_type": "code",
   "execution_count": 53,
   "id": "c44be39f",
   "metadata": {},
   "outputs": [],
   "source": [
    "y = -3      # Zelle 1"
   ]
  },
  {
   "cell_type": "code",
   "execution_count": 54,
   "id": "c42907c1",
   "metadata": {},
   "outputs": [],
   "source": [
    "x = z + y   # Zelle 2"
   ]
  },
  {
   "cell_type": "code",
   "execution_count": 55,
   "id": "90739781",
   "metadata": {},
   "outputs": [],
   "source": [
    "z = 5       # Zelle 3"
   ]
  },
  {
   "cell_type": "code",
   "execution_count": 56,
   "id": "44609036",
   "metadata": {},
   "outputs": [],
   "source": [
    "y = 20      # Zelle 4"
   ]
  },
  {
   "cell_type": "code",
   "execution_count": 57,
   "id": "91700235-6e42-49de-a766-b5161a255ca5",
   "metadata": {},
   "outputs": [],
   "source": [
    "#Beispiel Ergebnis x = 25"
   ]
  },
  {
   "cell_type": "markdown",
   "id": "b76f8695",
   "metadata": {},
   "source": [
    "Wir erhalten das gleiche Ergebnis indem wir den Zelleninhalt in dieser Reihenfolge in eine Zelle kopieren:"
   ]
  },
  {
   "cell_type": "code",
   "execution_count": 58,
   "id": "892005c8",
   "metadata": {},
   "outputs": [
    {
     "name": "stdout",
     "output_type": "stream",
     "text": [
      "25\n"
     ]
    }
   ],
   "source": [
    "y = -3      # Zelle 1\n",
    "y = 20      # Zelle 4\n",
    "z = 5       # Zelle 3\n",
    "x = z + y   # Zelle 2\n",
    "print(x)"
   ]
  },
  {
   "cell_type": "markdown",
   "id": "326dd62e",
   "metadata": {},
   "source": [
    "Demnach ist ``x = 5 + 20`` und ``y = 20``. Führen wir daraufhin Zelle 1 dananch 2 aus, erhalten wir für ``x``: ``x = 5 + (-3) = 2``"
   ]
  },
  {
   "cell_type": "code",
   "execution_count": 59,
   "id": "087d118a",
   "metadata": {},
   "outputs": [
    {
     "name": "stdout",
     "output_type": "stream",
     "text": [
      "2\n"
     ]
    }
   ],
   "source": [
    "y = -3      # Zelle 1\n",
    "y = 20      # Zelle 4\n",
    "z = 5       # Zelle 3\n",
    "x = z + y   # Zelle 2\n",
    "y = -3      # Zelle 1\n",
    "x = z + y   # Zelle 2\n",
    "print(x)"
   ]
  },
  {
   "cell_type": "markdown",
   "id": "063f46c6",
   "metadata": {},
   "source": [
    "**Füllen Sie Ihr Notebook immer so, sodass es das erwartete Ergebnis liefert wenn es von oben nach unten ausgeführt wird!**"
   ]
  },
  {
   "cell_type": "markdown",
   "id": "3c69466a",
   "metadata": {},
   "source": [
    "Es kann passieren, dass Sie Ihr Notebook manuell terminieren müssen, z.B. wenn Sie versehentlich eine sog. Endlosschleife programmiert haben.\n",
    "Die Terminierung hat den gleichen Effekt wie wenn es zu einem Fehler gekommen wäre.\n",
    "Der Code wird bis zur Terminierung ausgeführt."
   ]
  },
  {
   "cell_type": "markdown",
   "id": "3aca50a7",
   "metadata": {},
   "source": [
    "***"
   ]
  },
  {
   "cell_type": "markdown",
   "id": "5941f455-3da3-41f3-8a54-b1a1bb72ba77",
   "metadata": {},
   "source": [
    "***Aufgabe 9*** \n",
    "\n",
    "Werten Sie folgende Zelle aus. Terminieren Sie die Ausführung nach einer kurzen Zeit. Lassen Sie sich die Variable ``k`` ausgeben. Ersetzen Sie anschließend die Zeile\n",
    "\n",
    "```python\n",
    "while True:\n",
    "```\n",
    "\n",
    "durch \n",
    "\n",
    "```python\n",
    "while k < 10:\n",
    "```\n",
    "\n",
    "Führen Sie die Zelle erneut aus und prüfen Sie den Wert von ``k``."
   ]
  },
  {
   "cell_type": "code",
   "execution_count": 8,
   "id": "5bdbd2cb",
   "metadata": {},
   "outputs": [],
   "source": [
    "k = 1\n",
    "while k > 10:\n",
    "    k = k + 1"
   ]
  },
  {
   "cell_type": "code",
   "execution_count": 9,
   "id": "1f41a6cd",
   "metadata": {},
   "outputs": [
    {
     "name": "stdout",
     "output_type": "stream",
     "text": [
      "1\n"
     ]
    }
   ],
   "source": [
    "print(k)"
   ]
  },
  {
   "cell_type": "markdown",
   "id": "0b4e76e2",
   "metadata": {
    "deletable": false,
    "editable": false
   },
   "source": [
    "***Aufgabe 10*** \n",
    "\n",
    "Wandeln Sie folgende Zellen in eine einzige Zelle um indem Sie deren Zelleninhalt in eine Zelle verschieben, sodass nach der Ausführung ``x`` den Wert ``42`` hat."
   ]
  },
  {
   "cell_type": "code",
   "execution_count": 66,
   "id": "7e53f733",
   "metadata": {
    "deletable": false,
    "editable": false
   },
   "outputs": [],
   "source": [
    "x = x - y * 2"
   ]
  },
  {
   "cell_type": "code",
   "execution_count": 67,
   "id": "849b56bb",
   "metadata": {
    "deletable": false,
    "editable": false
   },
   "outputs": [],
   "source": [
    "x = 0"
   ]
  },
  {
   "cell_type": "code",
   "execution_count": 68,
   "id": "31f7e0a8",
   "metadata": {
    "deletable": false,
    "editable": false
   },
   "outputs": [],
   "source": [
    "y = 2"
   ]
  },
  {
   "cell_type": "code",
   "execution_count": 69,
   "id": "e87482cf",
   "metadata": {
    "deletable": false,
    "editable": false
   },
   "outputs": [],
   "source": [
    "x = y * 2"
   ]
  },
  {
   "cell_type": "code",
   "execution_count": 70,
   "id": "73248286",
   "metadata": {
    "deletable": false,
    "editable": false
   },
   "outputs": [],
   "source": [
    "x = x + 6"
   ]
  },
  {
   "cell_type": "code",
   "execution_count": 71,
   "id": "77c8aadc",
   "metadata": {
    "deletable": false,
    "editable": false
   },
   "outputs": [],
   "source": [
    "y = 20"
   ]
  },
  {
   "cell_type": "code",
   "execution_count": 74,
   "id": "9a512a21",
   "metadata": {
    "tags": []
   },
   "outputs": [
    {
     "data": {
      "text/plain": [
       "42"
      ]
     },
     "execution_count": 74,
     "metadata": {},
     "output_type": "execute_result"
    }
   ],
   "source": [
    "x = 0\n",
    "y = 20\n",
    "x = y * 2\n",
    "x = x + 6 \n",
    "y = 2 \n",
    "x = x - y * 2\n",
    "x"
   ]
  },
  {
   "cell_type": "code",
   "execution_count": 75,
   "id": "975b3d0a",
   "metadata": {
    "deletable": false,
    "editable": false
   },
   "outputs": [
    {
     "data": {
      "text/html": [
       "<p><strong><pre style='display: inline;'>q10</pre></strong> passed! ✨</p><p><strong><pre style='display: inline;'>q10 - 1</pre> message:</strong> Richtig!</p>"
      ],
      "text/plain": [
       "q10 results: All test cases passed!\n",
       "q10 - 1 message: Richtig!"
      ]
     },
     "execution_count": 75,
     "metadata": {},
     "output_type": "execute_result"
    }
   ],
   "source": [
    "grader.check(\"q10\")"
   ]
  },
  {
   "cell_type": "markdown",
   "id": "fad7890f",
   "metadata": {},
   "source": [
    "***"
   ]
  },
  {
   "cell_type": "markdown",
   "id": "945d4ad1",
   "metadata": {},
   "source": [
    "Notebooks sind besonders hilfreich im Bereich der *Datenvisualisierung*, da Graphen (Plots) direkt im Notebook angezeigt werden können.\n",
    "\n",
    "Im Folgenden sehen Sie ein Beispiel eines Plots der Sinusfunktion.\n",
    "Zunächst erzeugen wir ein sog. Array aus $n = 200$ Zahlen die alle zwischen $0$ und $2 \\pi$ liegen. \n",
    "Genauer gesagt erzeugen wir Werte $x_0, x_1, x_2, \\ldots, x_{n-1}$ mit \n",
    "\n",
    "$$x_i = \\frac{2 \\cdot \\pi \\cdot i }{n-1}.$$\n",
    "\n",
    "Dann generieren wir ein zweites Array bestehend aus Werten $y_0, y_1, y_2, \\ldots, y_{n-1}$ mit\n",
    "\n",
    "$$y_i = \\sin(x_i).$$\n",
    "\n",
    "Am Ende Zeichnen wir Linien, die durch die Punkte $(x_0, y_0), (x_1, y_1), \\ldots, (x_{n-1}, y_{n-1})$ gehen.\n",
    "\n",
    "**Hinweis**: Für die Ausführung des Code benötigen Sie die Pakete ``numpy`` und ``matplotlib``. Diese können Sie auf Ihrem System mit\n",
    "\n",
    "```\n",
    "conda install numpy\n",
    "conda install matplotlib\n",
    "```\n",
    "\n",
    "oder \n",
    "\n",
    "```\n",
    "pip install numpy\n",
    "pip install matplotlib\n",
    "```\n",
    "\n",
    "installieren."
   ]
  },
  {
   "cell_type": "code",
   "execution_count": 76,
   "id": "755cb057",
   "metadata": {},
   "outputs": [],
   "source": [
    "import numpy as np\n",
    "import matplotlib.pyplot as plt"
   ]
  },
  {
   "cell_type": "code",
   "execution_count": 82,
   "id": "853021cb",
   "metadata": {},
   "outputs": [
    {
     "data": {
      "text/plain": [
       "[<matplotlib.lines.Line2D at 0x7ff600e36aa0>]"
      ]
     },
     "execution_count": 82,
     "metadata": {},
     "output_type": "execute_result"
    },
    {
     "data": {
      "image/png": "[encoded data removed]",
      "text/plain": [
       "<Figure size 640x480 with 1 Axes>"
      ]
     },
     "metadata": {},
     "output_type": "display_data"
    }
   ],
   "source": [
    "n = 150       # geändert eigentlich 200\n",
    "X = np.linspace(0, 2*np.pi, n)\n",
    "Y = np.cos(X)     # geändert eigentlich sin(x)\n",
    "plt.plot(X, Y)"
   ]
  },
  {
   "cell_type": "markdown",
   "id": "fce27562",
   "metadata": {},
   "source": [
    "***"
   ]
  },
  {
   "cell_type": "markdown",
   "id": "f361f9aa-c1dc-435f-99e7-7df80072bda9",
   "metadata": {},
   "source": [
    "***Aufgabe 11*** \n",
    "\n",
    "Spielen Sie mit dem Code herum. Verändern Sie z.B. den Wert der Variablen ``n`` oder Plotten Sie anstatt des Sinus den Kosinus."
   ]
  },
  {
   "cell_type": "markdown",
   "id": "5cc19c9d-1244-4eda-8fef-8d7f4cd2a331",
   "metadata": {},
   "source": [
    "## 2. Repräsentation und Interpretation"
   ]
  },
  {
   "cell_type": "markdown",
   "id": "9969124e-441e-4080-a2a7-1eb6f4cbaffe",
   "metadata": {
    "deletable": false,
    "editable": false
   },
   "source": [
    "***Aufgabe 12*** \n",
    "\n",
    "In ``Python`` gibt es sogenannte Listen. Folgender Code erzeugt eine Liste, welche die Zahlen 1 bis 12 enthält (mehr dazu später)."
   ]
  },
  {
   "cell_type": "code",
   "execution_count": 83,
   "id": "2f9c439c-ec9d-4918-bc4a-fb432bc92798",
   "metadata": {
    "deletable": false,
    "editable": false
   },
   "outputs": [
    {
     "data": {
      "text/plain": [
       "[1, 2, 3, 4, 5, 6, 7, 8, 9, 10, 11, 12]"
      ]
     },
     "execution_count": 83,
     "metadata": {},
     "output_type": "execute_result"
    }
   ],
   "source": [
    "numbers = [1, 2, 3, 4, 5, 6, 7, 8, 9, 10, 11, 12]\n",
    "numbers"
   ]
  },
  {
   "cell_type": "markdown",
   "id": "eb6102ae-7417-4dab-8e54-9a25070e368f",
   "metadata": {
    "deletable": false,
    "editable": false
   },
   "source": [
    "Wie könnten wir damit ein Kartenset repräsentieren?"
   ]
  },
  {
   "cell_type": "markdown",
   "id": "680a3bcb-0743-4779-916d-db5d18b0138f",
   "metadata": {
    "deletable": false,
    "editable": false
   },
   "source": [
    "***Aufgabe 13*** \n",
    "\n",
    "Wir konstruieren ein neues (unäres) Dot-Zahlensystem, was aus positiven ganzen Zahlen besteht. Jede Zahl wird aus einer Folge des Zeichens ``'.'`` gebildet. \n",
    "\n",
    "+ 5 wird beispielsweise durch ``.....``, \n",
    "+ 3 durch ``...`` und \n",
    "+ 0 durch ``''`` \n",
    "\n",
    "repräsentiert. In anderen Worten, eine Zahl $n$ wird durch $n$-Punkte (Dots) repräsentiert. Folgende Funktionen helfen uns dabei mit unserem Zahlensystem zu rechnen. Sie bilden einen Kontext."
   ]
  },
  {
   "cell_type": "code",
   "execution_count": 84,
   "id": "0afd3081-d151-406b-93cf-9ae1f03748a7",
   "metadata": {
    "deletable": false,
    "editable": false
   },
   "outputs": [],
   "source": [
    "def add(a, b):\n",
    "    return a+b\n",
    "\n",
    "def sub(a, b):\n",
    "    return a[0:max(0, len(a)-len(b))]\n",
    "\n",
    "def div(a, b):\n",
    "    return to_dots(int(len(a) / len(b)))\n",
    "\n",
    "def mul(a, b):\n",
    "    return a * len(b)\n",
    "\n",
    "def to_dots(number):\n",
    "    return '.'*number\n",
    "\n",
    "def to_number(dots):\n",
    "    return len(dots)"
   ]
  },
  {
   "cell_type": "markdown",
   "id": "0363f4e4-5b75-4da7-a82f-802c741466c8",
   "metadata": {
    "deletable": false,
    "editable": false
   },
   "source": [
    "Rufen Sie die Funktionen auf und finden Sie heraus was die einzelnen Funktionen im Kontext unseres Zahlensystems machen.\n",
    "\n",
    "Beispielsweise können Sie die Funktion ``add`` (Addieren) durch folgenden Ausdruch aufrufen:"
   ]
  },
  {
   "cell_type": "code",
   "execution_count": 85,
   "id": "e8393c7d-c267-415b-8813-d7294d601f57",
   "metadata": {
    "deletable": false,
    "editable": false
   },
   "outputs": [
    {
     "data": {
      "text/plain": [
       "'.....'"
      ]
     },
     "execution_count": 85,
     "metadata": {},
     "output_type": "execute_result"
    }
   ],
   "source": [
    "add('..', '...')"
   ]
  },
  {
   "cell_type": "markdown",
   "id": "09e90ad6-7702-44e4-a2f6-6f81637dd927",
   "metadata": {
    "deletable": false,
    "editable": false
   },
   "source": [
    "***Aufgabe 14*** \n",
    "\n",
    "Berechnen Sie ``dots = ((5 + 8 - 4 * 2) + 1) / 3``, verwenden Sie dabei jedoch nur die Funktionen von oben und das Zeichen ``'.'``. ``dots`` soll aus ``'.'`` bestehen."
   ]
  },
  {
   "cell_type": "code",
   "execution_count": 93,
   "id": "cc4dca2b-6d06-46a7-b4e8-e05304866410",
   "metadata": {
    "tags": []
   },
   "outputs": [
    {
     "data": {
      "text/plain": [
       "'..'"
      ]
     },
     "execution_count": 93,
     "metadata": {},
     "output_type": "execute_result"
    }
   ],
   "source": [
    "d1 = mul('....','..')\n",
    "d2 = add('.....','........') \n",
    "d3 = sub(d2, d1)\n",
    "d4 = add(d3,'.')\n",
    "dots = div(d4,'...')\n",
    "dots"
   ]
  },
  {
   "cell_type": "code",
   "execution_count": 94,
   "id": "0a4fe5be",
   "metadata": {
    "deletable": false,
    "editable": false
   },
   "outputs": [
    {
     "data": {
      "text/html": [
       "<p><strong><pre style='display: inline;'>q14</pre></strong> passed! 🌈</p><p><strong><pre style='display: inline;'>q14 - 1</pre> message:</strong> Exzellent! Das war keine so einfache Aufgabe!</p>"
      ],
      "text/plain": [
       "q14 results: All test cases passed!\n",
       "q14 - 1 message: Exzellent! Das war keine so einfache Aufgabe!"
      ]
     },
     "execution_count": 94,
     "metadata": {},
     "output_type": "execute_result"
    }
   ],
   "source": [
    "grader.check(\"q14\")"
   ]
  },
  {
   "cell_type": "markdown",
   "id": "81a95a24-dff6-47ec-8e14-65f7b7c64f63",
   "metadata": {
    "deletable": false,
    "editable": false
   },
   "source": [
    "***Aufgabe 15*** \n",
    "\n",
    "Warum glauben Sie ist dieses Dot-System nicht sonderlich praktikabel?\n",
    "\n",
    "-------> Weil man mit Zahlen viel schneller und übersichtlicher Arbeiten kann"
   ]
  },
  {
   "cell_type": "markdown",
   "id": "17df9b2b",
   "metadata": {
    "deletable": false,
    "editable": false
   },
   "source": [
    "---\n",
    "\n",
    "**Hinweis**: Durch Auswertung der folgenden Zelle werden alle Tests ausgeführt.\n",
    "Sie sollten das Notebook zuvor bis hier hin von oben nach unten ausgewertet haben.\n",
    "\n"
   ]
  },
  {
   "cell_type": "code",
   "execution_count": 95,
   "id": "b5f8a3d5",
   "metadata": {
    "deletable": false,
    "editable": false
   },
   "outputs": [
    {
     "ename": "SyntaxError",
     "evalue": "invalid syntax (03-variablen_und_operatoren.ipynb, line 9)",
     "output_type": "error",
     "traceback": [
      "Traceback \u001b[0;36m(most recent call last)\u001b[0m:\n",
      "\u001b[0m  File \u001b[1;32m/opt/conda/lib/python3.10/site-packages/IPython/core/interactiveshell.py:3378\u001b[0m in \u001b[1;35mrun_code\u001b[0m\n    exec(code_obj, self.user_global_ns, self.user_ns)\u001b[0m\n",
      "\u001b[0m  Cell \u001b[1;32mIn [95], line 1\u001b[0m\n    grader.check_all()\u001b[0m\n",
      "\u001b[0m  File \u001b[1;32m/opt/conda/lib/python3.10/site-packages/otter/check/utils.py:156\u001b[0m in \u001b[1;35mgrading_mode_disabled\u001b[0m\n    return wrapped(*args, **kwargs)\u001b[0m\n",
      "\u001b[0m  File \u001b[1;32m/opt/conda/lib/python3.10/site-packages/otter/check/utils.py:193\u001b[0m in \u001b[1;35mevent_logger\u001b[0m\n    raise e\u001b[0m\n",
      "\u001b[0m  File \u001b[1;32m/opt/conda/lib/python3.10/site-packages/otter/check/utils.py:187\u001b[0m in \u001b[1;35mevent_logger\u001b[0m\n    results = wrapped(*args, **kwargs)\u001b[0m\n",
      "\u001b[0m  File \u001b[1;32m/opt/conda/lib/python3.10/site-packages/otter/check/notebook.py:447\u001b[0m in \u001b[1;35mcheck_all\u001b[0m\n    results.append(self.check(test_name, global_env))\u001b[0m\n",
      "\u001b[0m  File \u001b[1;32m/opt/conda/lib/python3.10/site-packages/otter/check/utils.py:193\u001b[0m in \u001b[1;35mevent_logger\u001b[0m\n    raise e\u001b[0m\n",
      "\u001b[0m  File \u001b[1;32m/opt/conda/lib/python3.10/site-packages/otter/check/utils.py:184\u001b[0m in \u001b[1;35mevent_logger\u001b[0m\n    question, results, shelve_env = wrapped(*args, **kwargs)\u001b[0m\n",
      "\u001b[0m  File \u001b[1;32m/opt/conda/lib/python3.10/site-packages/otter/check/notebook.py:226\u001b[0m in \u001b[1;35mcheck\u001b[0m\n    result = Checker.check(test_path, test_name, global_env)\u001b[0m\n",
      "\u001b[0m  File \u001b[1;32m/opt/conda/lib/python3.10/site-packages/otter/execute/checker.py:73\u001b[0m in \u001b[1;35mcheck\u001b[0m\n    test = create_test_file(nb_or_test_path, test_name=test_name)\u001b[0m\n",
      "\u001b[0m  File \u001b[1;32m/opt/conda/lib/python3.10/site-packages/otter/test_files/__init__.py:45\u001b[0m in \u001b[1;35mcreate_test_file\u001b[0m\n    return NotebookMetadataExceptionTestFile.from_file(path, test_name)\u001b[0m\n",
      "\u001b[0m  File \u001b[1;32m/opt/conda/lib/python3.10/site-packages/otter/test_files/metadata_test.py:72\u001b[0m in \u001b[1;35mfrom_file\u001b[0m\n    return cls.from_string(test_spec, path=path)\u001b[0m\n",
      "\u001b[0m  File \u001b[1;32m/opt/conda/lib/python3.10/site-packages/otter/test_files/exception_test.py:236\u001b[0m in \u001b[1;35mfrom_string\u001b[0m\n    code = cls._compile_string(s, path=path)\u001b[0m\n",
      "\u001b[0;36m  File \u001b[0;32m/opt/conda/lib/python3.10/site-packages/otter/test_files/exception_test.py:189\u001b[0;36m in \u001b[0;35m_compile_string\u001b[0;36m\n\u001b[0;31m    return compile(s, path, \"exec\")\u001b[0;36m\n",
      "\u001b[0;36m  File \u001b[0;32m03-variablen_und_operatoren.ipynb:9\u001b[0;36m\u001b[0m\n\u001b[0;31m    \"editable\": false\u001b[0m\n\u001b[0m    ^\u001b[0m\n\u001b[0;31mSyntaxError\u001b[0m\u001b[0;31m:\u001b[0m invalid syntax\n"
     ]
    }
   ],
   "source": [
    "grader.check_all()"
   ]
  }
 ],
 "metadata": {
  "kernelspec": {
   "display_name": "Python 3 (ipykernel)",
   "language": "python",
   "name": "python3"
  },
  "language_info": {
   "codemirror_mode": {
    "name": "ipython",
    "version": 3
   },
   "file_extension": ".py",
   "mimetype": "text/x-python",
   "name": "python",
   "nbconvert_exporter": "python",
   "pygments_lexer": "ipython3",
   "version": "3.10.6"
  },
  "otter": {
   "OK_FORMAT": false,
   "assignment_name": "03_variablen_und_operatoren",
   "tests": {
    "q1": "from otter.test_files import test_case\n\nOK_FORMAT = False\n\nname = \"q1\"\npoints = None\n\n@test_case(points=None, hidden=False, \n    success_message=\"Richtig!\")\ndef test_var_number(number):\n    expected = 42\n    assert number == expected, \"Die Variable number muss den Wert 42 enthalten.\"\n    \n",
    "q10": "from otter.test_files import test_case\n\nOK_FORMAT = False\n\nname = \"q10\"\npoints = None\n\n@test_case(points=None, hidden=False, \n    success_message=\"Richtig!\")\ndef test_var_x(x):\n    expected = 42\n    assert x == expected, \"Die Variable x hat nicht den korrekten Wert.\"\n    \n",
    "q14": "from otter.test_files import test_case\n\nOK_FORMAT = False\n\nname = \"q14\"\npoints = None\n\n@test_case(points=None, hidden=False, \n    success_message=\"Exzellent! Das war keine so einfache Aufgabe!\")\ndef test_var_dots(dots):\n    expected = '..'\n    assert len(dots) == dots.count('.'), \"dots ist nicht im Dot-Format!\"\n    assert len(dots) <= len(expected), \"Zu viele dots!\"\n    assert len(dots) >= len(expected), \"Zu wenig dots!\"\n    assert dots == expected, \"Die Variable dots hat nicht den korrekten Wert!\"\n    \n",
    "q5": "from otter.test_files import test_case\n\nOK_FORMAT = False\n\nname = \"q5\"\npoints = None\n\n@test_case(points=None, hidden=False, \n    success_message=\"Sie haben die Aufgabe korrekt gelöst!\")\ndef test_var_number(cycles, rest):\n    cycles_expected = 8\n    rest_rexpected = 99\n    assert cycles == cycles_expected, \"Die Anzahl an ganzen Umdrehungen stimmt so noch nicht.\"\n    assert rest == rest_rexpected, \"Der Rest zur vollen Umdrehung stimmt so noch nicht.\"\n    \n",
    "q6": "from otter.test_files import test_case\n\nOK_FORMAT = False\n\nname = \"q6\"\npoints = None\n\n@test_case(points=None, hidden=False, \n    success_message=\"Richtig!\")\ndef test_var_number(x):\n    expected = -13_481_272\n    assert x == expected, \"Das stimmt so noch nicht.\"\n    \n",
    "q7": "from otter.test_files import test_case\n\nOK_FORMAT = False\n\nname = \"q7\"\npoints = None\n\n@test_case(points=None, hidden=False, \n    success_message=\"Richtig!\")\ndef test_var_total_secs(total_secs):\n    expected = 220752000\n    assert total_secs == expected, \"Die Variable total_secs hat nicht den korrekten Wert.\"\n    \n"
   }
  },
  "vscode": {
   "interpreter": {
    "hash": "d4d1e4263499bec80672ea0156c357c1ee493ec2b1c70f0acce89fc37c4a6abe"
   }
  }
 },
 "nbformat": 4,
 "nbformat_minor": 5
}
