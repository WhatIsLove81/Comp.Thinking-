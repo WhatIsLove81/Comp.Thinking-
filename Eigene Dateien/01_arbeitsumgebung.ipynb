{
 "cells": [
  {
   "cell_type": "code",
   "execution_count": 15,
   "metadata": {
    "deletable": false,
    "editable": false
   },
   "outputs": [],
   "source": [
    "# Initialize Otter\n",
    "import otter\n",
    "grader = otter.Notebook(\"01_arbeitsumgebung.ipynb\")"
   ]
  },
  {
   "cell_type": "markdown",
   "metadata": {},
   "source": [
    "# Computational Thinking WS2023/24\n",
    "**Autoren:** \n",
    "+ Dr. Benedikt Zönnchen\n",
    "+ Prof. Martin Hobelsberger\n",
    "+ Prof. Benedikt Dietrich"
   ]
  },
  {
   "cell_type": "markdown",
   "metadata": {},
   "source": [
    "Dies ist ein sog. *Jupyter-Notebook*. Es bietet uns und Ihnen die Möglichkeit Programmiercode interaktiv auszuführen und diesen in Text einzubetten.\n",
    "\n",
    "Das Notebook besteht aus Zellen eines bestimmten Typs:\n",
    "+ reiner Text, \n",
    "+ formartierter Text (Markdown), \n",
    "+ Code.\n",
    "\n",
    "Sie können alle Zellen **auswerten** jedoch nur Code-Zellen **ausführen**.\n",
    "\n",
    "Diese Zelle ist eine sog. Markdown-Zelle d.h. formartierter Text."
   ]
  },
  {
   "cell_type": "markdown",
   "metadata": {},
   "source": [
    "***"
   ]
  },
  {
   "cell_type": "markdown",
   "metadata": {},
   "source": [
    "***Aufgabe 1***\n",
    "\n",
    "Der folgende Code sollte eigentlich die verstrichenen Sekunden innerhalb von 5 Tagen berechnen doch hat sich in der Formel ein Fehler eingeschlichen. Korrigieren Sie den Fehler!"
   ]
  },
  {
   "cell_type": "code",
   "execution_count": 16,
   "metadata": {
    "tags": []
   },
   "outputs": [
    {
     "data": {
      "text/plain": [
       "432000"
      ]
     },
     "execution_count": 16,
     "metadata": {},
     "output_type": "execute_result"
    }
   ],
   "source": [
    "days = 5\n",
    "result = days * 24 * 60 * 60\n",
    "result"
   ]
  },
  {
   "cell_type": "code",
   "execution_count": 17,
   "metadata": {
    "deletable": false,
    "editable": false
   },
   "outputs": [
    {
     "data": {
      "text/html": [
       "<p><strong><pre style='display: inline;'>q1</pre></strong> passed! 🌈</p><p><strong><pre style='display: inline;'>q1 - 1</pre> message:</strong> Das ist schonmal ein Anfang!</p><p><strong><pre style='display: inline;'>q1 - 2</pre> message:</strong> Korrekt :)!</p>"
      ],
      "text/plain": [
       "q1 results: All test cases passed!\n",
       "q1 - 1 message: Das ist schonmal ein Anfang!\n",
       "q1 - 2 message: Korrekt :)!"
      ]
     },
     "execution_count": 17,
     "metadata": {},
     "output_type": "execute_result"
    }
   ],
   "source": [
    "grader.check(\"q1\")"
   ]
  },
  {
   "cell_type": "markdown",
   "metadata": {
    "deletable": false,
    "editable": false
   },
   "source": [
    "---\n",
    "\n",
    "**Hinweis**: Durch Auswertung der folgenden Zelle werden alle Tests ausgeführt.\n",
    "Sie sollten das Notebook zuvor bis hier hin von oben nach unten ausgewertet haben.\n",
    "\n"
   ]
  },
  {
   "cell_type": "code",
   "execution_count": 18,
   "metadata": {
    "deletable": false,
    "editable": false
   },
   "outputs": [
    {
     "data": {
      "text/plain": [
       "q1 results: All test cases passed!\n",
       "q1 - 1 message: Das ist schonmal ein Anfang!\n",
       "q1 - 2 message: Korrekt :)!"
      ]
     },
     "execution_count": 18,
     "metadata": {},
     "output_type": "execute_result"
    }
   ],
   "source": [
    "grader.check_all()"
   ]
  },
  {
   "cell_type": "markdown",
   "metadata": {
    "deletable": false,
    "editable": false
   },
   "source": [
    "## Abgabe\n",
    "\n",
    "Stellen Sie sicher, dass Sie alle Zellen von oben nach unten ausgeführt haben und Ihr Notebook abgespeichert haben. Wenn Sie die folgende Zelle ausführen wird eine zip-Datei generiert. Laden Sie diese Datei in Moodle in der entsprechenden Abgabe hoch!"
   ]
  },
  {
   "cell_type": "code",
   "execution_count": null,
   "metadata": {
    "deletable": false,
    "editable": false
   },
   "outputs": [
    {
     "data": {
      "application/javascript": "\n            if (typeof Jupyter !== 'undefined') {\n                Jupyter.notebook.save_checkpoint();\n            }\n            else {\n                document.querySelector('[data-command=\"docmanager:save\"]').click();\n            }\n        ",
      "text/plain": [
       "<IPython.core.display.Javascript object>"
      ]
     },
     "metadata": {},
     "output_type": "display_data"
    }
   ],
   "source": [
    "grader.export(pdf=False, force_save=True, run_tests=True)"
   ]
  }
 ],
 "metadata": {
  "kernelspec": {
   "display_name": "Python 3.10.6 ('base')",
   "language": "python",
   "name": "python3"
  },
  "language_info": {
   "codemirror_mode": {
    "name": "ipython",
    "version": 3
   },
   "file_extension": ".py",
   "mimetype": "text/x-python",
   "name": "python",
   "nbconvert_exporter": "python",
   "pygments_lexer": "ipython3",
   "version": "3.10.6"
  },
  "otter": {
   "OK_FORMAT": false,
   "assignment_name": "01_arbeitsumgebung",
   "tests": {
    "q1": "from otter.test_files import test_case\n\nOK_FORMAT = False\n\nname = \"q1\"\npoints = None\n\n@test_case(points=0.5, hidden=False, \n    success_message=\"Das ist schonmal ein Anfang!\")\ndef test_var_days(days):\n    expected = 5\n    assert days == expected, \"Die Variable days muss den Wert 5 enthalten.\"\n    \n@test_case(points=1.0, hidden=False, \n    success_message=\"Korrekt :)!\")\ndef test_result(result):\n    expected = 432000\n    assert result == expected, f\"{result} ist nicht die richtige Anzahl an Sekunden.\"\n\n"
   }
  },
  "vscode": {
   "interpreter": {
    "hash": "d4d1e4263499bec80672ea0156c357c1ee493ec2b1c70f0acce89fc37c4a6abe"
   }
  }
 },
 "nbformat": 4,
 "nbformat_minor": 4
}
